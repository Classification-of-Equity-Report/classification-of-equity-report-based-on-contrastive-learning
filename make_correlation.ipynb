{
 "cells": [
  {
   "cell_type": "code",
   "execution_count": 1,
   "metadata": {
    "collapsed": true
   },
   "outputs": [
    {
     "name": "stderr",
     "output_type": "stream",
     "text": [
      "c:\\Users\\user\\Anaconda3\\envs\\base_torch\\lib\\site-packages\\tqdm\\auto.py:21: TqdmWarning: IProgress not found. Please update jupyter and ipywidgets. See https://ipywidgets.readthedocs.io/en/stable/user_install.html\n",
      "  from .autonotebook import tqdm as notebook_tqdm\n"
     ]
    }
   ],
   "source": [
    "import os\n",
    "import pickle\n",
    "import pandas as pd\n",
    "os.chdir('C:/Users/user/Desktop/박준영/공부/nlp_study/simcse/classification-of-equity-report-based-on-contrastive-learning/unsimcse_using_pytorch/')\n",
    "from util import pickle_to_dict, Args, save_new_data_to_pickle, excel_to_pandas\n"
   ]
  },
  {
   "cell_type": "code",
   "execution_count": 3,
   "metadata": {
    "collapsed": false
   },
   "outputs": [],
   "source": [
    "# 피클 파일\n",
    "path = \"C:/Users/user/Desktop/박준영/공부/nlp_study/simcse/data/pickle_180_days_compare_kospi/yes_data/\"\n",
    "data_list = os.listdir(path)\n",
    "len(data_list)\n",
    "\n",
    "data_dict = {}\n",
    "\n",
    "\n",
    "for data_name in data_list:\n",
    "    with open(path + data_name, 'rb') as f:\n",
    "        data_dict[data_name] = pickle.load(f)"
   ]
  },
  {
   "cell_type": "markdown",
   "metadata": {},
   "source": [
    "1. 데이터 키를 긁어온다.\n",
    "2. 데이터 키에서 수익률 파트를 float형태로 바꾼다.\n",
    "3. float형태로 바꾼 데이터셋에서 n 일로 잘라서 상관관계 비교\n",
    "4. 상관관계 비교해서 가진행의 이름을 찾는다.\n",
    "5. anchor, negative, positive 데이터를 붙인다."
   ]
  },
  {
   "cell_type": "code",
   "execution_count": 4,
   "metadata": {},
   "outputs": [],
   "source": [
    "data_dict['20220426.pkl'].drop(index = [781223], inplace=True)"
   ]
  },
  {
   "cell_type": "code",
   "execution_count": 5,
   "metadata": {},
   "outputs": [],
   "source": [
    "def make_supervised_data(data_dict, days):\n",
    "    \"\"\"\n",
    "    supervised dataset을 만드는 코드입니다.\n",
    "\n",
    "    input:\n",
    "        data_dict(dict) : 일자별 수익률 데이터\n",
    "        days(int) : 수익률 기준일\n",
    "\n",
    "    return:\n",
    "        supervised data(dict) : {file_key : anchor, positive, negative 데이터셋}    \n",
    "    \"\"\"\n",
    "    calculate_dict = {}\n",
    "    uncalculate_dict = {}\n",
    "\n",
    "    for file_key in data_dict.keys():\n",
    "        # datadict의 수익률을 float형태로 바꾸는 코드입니다.\n",
    "        data_dict[file_key].loc[:, 0:days-1] = data_dict[file_key].loc[:, 0:days-1].astype(float)\n",
    "        # 행들의 상관관계를 구하는 코드입니다.\n",
    "        # Nan 값이 있으면\n",
    "\n",
    "        if data_dict[file_key].loc[:, 0:days-1].isnull().sum().sum() >0:\n",
    "            print('not_done', file_key)\n",
    "            uncalculate_dict[file_key] = data_dict[file_key]\n",
    "\n",
    "        \n",
    "        else:\n",
    "            correlation_data = data_dict[file_key].loc[:, 0:days-1].transpose().corr() \n",
    "            for row in correlation_data.index:\n",
    "                # 해당 행에 대한 상관관계 값\n",
    "                current_row_correlations = correlation_data.loc[row].drop(row)\n",
    "                min_corr_row = current_row_correlations.idxmin()\n",
    "                max_corr_row = current_row_correlations.idxmax()\n",
    "                data_dict[file_key].loc[row, ['anchor', 'negative', 'positive']] =data_dict[file_key].loc[row]['텍스트'], data_dict[file_key].loc[min_corr_row]['텍스트'], data_dict[file_key].loc[max_corr_row]['텍스트']\n",
    "            \n",
    "            calculate_dict[file_key] = data_dict[file_key].loc[:, ['anchor', 'negative', 'positive']]\n",
    "            print('done', file_key)\n",
    "    return uncalculate_dict, calculate_dict\n",
    "        \n",
    "\n",
    "\n",
    "\n",
    "\n",
    "        \n"
   ]
  },
  {
   "cell_type": "code",
   "execution_count": 7,
   "metadata": {},
   "outputs": [],
   "source": [
    "imp_data_dict= data_dict.copy()"
   ]
  },
  {
   "cell_type": "code",
   "execution_count": 8,
   "metadata": {},
   "outputs": [
    {
     "name": "stdout",
     "output_type": "stream",
     "text": [
      "done 20210408.pkl\n",
      "done 20210409.pkl\n",
      "done 20210412.pkl\n"
     ]
    },
    {
     "name": "stderr",
     "output_type": "stream",
     "text": [
      "C:\\Users\\user\\AppData\\Local\\Temp\\ipykernel_27636\\1462086335.py:17: DeprecationWarning: In a future version, `df.iloc[:, i] = newvals` will attempt to set the values inplace instead of always setting a new array. To retain the old behavior, use either `df[df.columns[i]] = newvals` or, if columns are non-unique, `df.isetitem(i, newvals)`\n",
      "  data_dict[file_key].loc[:, 0:days-1] = data_dict[file_key].loc[:, 0:days-1].astype(float)\n",
      "C:\\Users\\user\\AppData\\Local\\Temp\\ipykernel_27636\\1462086335.py:17: DeprecationWarning: In a future version, `df.iloc[:, i] = newvals` will attempt to set the values inplace instead of always setting a new array. To retain the old behavior, use either `df[df.columns[i]] = newvals` or, if columns are non-unique, `df.isetitem(i, newvals)`\n",
      "  data_dict[file_key].loc[:, 0:days-1] = data_dict[file_key].loc[:, 0:days-1].astype(float)\n",
      "C:\\Users\\user\\AppData\\Local\\Temp\\ipykernel_27636\\1462086335.py:17: DeprecationWarning: In a future version, `df.iloc[:, i] = newvals` will attempt to set the values inplace instead of always setting a new array. To retain the old behavior, use either `df[df.columns[i]] = newvals` or, if columns are non-unique, `df.isetitem(i, newvals)`\n",
      "  data_dict[file_key].loc[:, 0:days-1] = data_dict[file_key].loc[:, 0:days-1].astype(float)\n"
     ]
    },
    {
     "name": "stdout",
     "output_type": "stream",
     "text": [
      "done 20210413.pkl\n",
      "done 20210414.pkl\n",
      "done 20210415.pkl\n"
     ]
    },
    {
     "name": "stderr",
     "output_type": "stream",
     "text": [
      "C:\\Users\\user\\AppData\\Local\\Temp\\ipykernel_27636\\1462086335.py:17: DeprecationWarning: In a future version, `df.iloc[:, i] = newvals` will attempt to set the values inplace instead of always setting a new array. To retain the old behavior, use either `df[df.columns[i]] = newvals` or, if columns are non-unique, `df.isetitem(i, newvals)`\n",
      "  data_dict[file_key].loc[:, 0:days-1] = data_dict[file_key].loc[:, 0:days-1].astype(float)\n",
      "C:\\Users\\user\\AppData\\Local\\Temp\\ipykernel_27636\\1462086335.py:17: DeprecationWarning: In a future version, `df.iloc[:, i] = newvals` will attempt to set the values inplace instead of always setting a new array. To retain the old behavior, use either `df[df.columns[i]] = newvals` or, if columns are non-unique, `df.isetitem(i, newvals)`\n",
      "  data_dict[file_key].loc[:, 0:days-1] = data_dict[file_key].loc[:, 0:days-1].astype(float)\n",
      "C:\\Users\\user\\AppData\\Local\\Temp\\ipykernel_27636\\1462086335.py:17: DeprecationWarning: In a future version, `df.iloc[:, i] = newvals` will attempt to set the values inplace instead of always setting a new array. To retain the old behavior, use either `df[df.columns[i]] = newvals` or, if columns are non-unique, `df.isetitem(i, newvals)`\n",
      "  data_dict[file_key].loc[:, 0:days-1] = data_dict[file_key].loc[:, 0:days-1].astype(float)\n"
     ]
    },
    {
     "name": "stdout",
     "output_type": "stream",
     "text": [
      "done 20210416.pkl\n",
      "done 20210419.pkl\n",
      "done 20210420.pkl\n",
      "done 20210421.pkl\n"
     ]
    },
    {
     "name": "stderr",
     "output_type": "stream",
     "text": [
      "C:\\Users\\user\\AppData\\Local\\Temp\\ipykernel_27636\\1462086335.py:17: DeprecationWarning: In a future version, `df.iloc[:, i] = newvals` will attempt to set the values inplace instead of always setting a new array. To retain the old behavior, use either `df[df.columns[i]] = newvals` or, if columns are non-unique, `df.isetitem(i, newvals)`\n",
      "  data_dict[file_key].loc[:, 0:days-1] = data_dict[file_key].loc[:, 0:days-1].astype(float)\n",
      "C:\\Users\\user\\AppData\\Local\\Temp\\ipykernel_27636\\1462086335.py:17: DeprecationWarning: In a future version, `df.iloc[:, i] = newvals` will attempt to set the values inplace instead of always setting a new array. To retain the old behavior, use either `df[df.columns[i]] = newvals` or, if columns are non-unique, `df.isetitem(i, newvals)`\n",
      "  data_dict[file_key].loc[:, 0:days-1] = data_dict[file_key].loc[:, 0:days-1].astype(float)\n",
      "C:\\Users\\user\\AppData\\Local\\Temp\\ipykernel_27636\\1462086335.py:17: DeprecationWarning: In a future version, `df.iloc[:, i] = newvals` will attempt to set the values inplace instead of always setting a new array. To retain the old behavior, use either `df[df.columns[i]] = newvals` or, if columns are non-unique, `df.isetitem(i, newvals)`\n",
      "  data_dict[file_key].loc[:, 0:days-1] = data_dict[file_key].loc[:, 0:days-1].astype(float)\n",
      "C:\\Users\\user\\AppData\\Local\\Temp\\ipykernel_27636\\1462086335.py:17: DeprecationWarning: In a future version, `df.iloc[:, i] = newvals` will attempt to set the values inplace instead of always setting a new array. To retain the old behavior, use either `df[df.columns[i]] = newvals` or, if columns are non-unique, `df.isetitem(i, newvals)`\n",
      "  data_dict[file_key].loc[:, 0:days-1] = data_dict[file_key].loc[:, 0:days-1].astype(float)\n"
     ]
    },
    {
     "name": "stdout",
     "output_type": "stream",
     "text": [
      "done 20210422.pkl\n",
      "done 20210423.pkl\n"
     ]
    },
    {
     "name": "stderr",
     "output_type": "stream",
     "text": [
      "C:\\Users\\user\\AppData\\Local\\Temp\\ipykernel_27636\\1462086335.py:17: DeprecationWarning: In a future version, `df.iloc[:, i] = newvals` will attempt to set the values inplace instead of always setting a new array. To retain the old behavior, use either `df[df.columns[i]] = newvals` or, if columns are non-unique, `df.isetitem(i, newvals)`\n",
      "  data_dict[file_key].loc[:, 0:days-1] = data_dict[file_key].loc[:, 0:days-1].astype(float)\n",
      "C:\\Users\\user\\AppData\\Local\\Temp\\ipykernel_27636\\1462086335.py:17: DeprecationWarning: In a future version, `df.iloc[:, i] = newvals` will attempt to set the values inplace instead of always setting a new array. To retain the old behavior, use either `df[df.columns[i]] = newvals` or, if columns are non-unique, `df.isetitem(i, newvals)`\n",
      "  data_dict[file_key].loc[:, 0:days-1] = data_dict[file_key].loc[:, 0:days-1].astype(float)\n"
     ]
    },
    {
     "name": "stdout",
     "output_type": "stream",
     "text": [
      "done 20210426.pkl\n",
      "done 20210427.pkl\n"
     ]
    },
    {
     "name": "stderr",
     "output_type": "stream",
     "text": [
      "C:\\Users\\user\\AppData\\Local\\Temp\\ipykernel_27636\\1462086335.py:17: DeprecationWarning: In a future version, `df.iloc[:, i] = newvals` will attempt to set the values inplace instead of always setting a new array. To retain the old behavior, use either `df[df.columns[i]] = newvals` or, if columns are non-unique, `df.isetitem(i, newvals)`\n",
      "  data_dict[file_key].loc[:, 0:days-1] = data_dict[file_key].loc[:, 0:days-1].astype(float)\n",
      "C:\\Users\\user\\AppData\\Local\\Temp\\ipykernel_27636\\1462086335.py:17: DeprecationWarning: In a future version, `df.iloc[:, i] = newvals` will attempt to set the values inplace instead of always setting a new array. To retain the old behavior, use either `df[df.columns[i]] = newvals` or, if columns are non-unique, `df.isetitem(i, newvals)`\n",
      "  data_dict[file_key].loc[:, 0:days-1] = data_dict[file_key].loc[:, 0:days-1].astype(float)\n"
     ]
    },
    {
     "name": "stdout",
     "output_type": "stream",
     "text": [
      "done 20210428.pkl\n",
      "done 20210429.pkl\n"
     ]
    },
    {
     "name": "stderr",
     "output_type": "stream",
     "text": [
      "C:\\Users\\user\\AppData\\Local\\Temp\\ipykernel_27636\\1462086335.py:17: DeprecationWarning: In a future version, `df.iloc[:, i] = newvals` will attempt to set the values inplace instead of always setting a new array. To retain the old behavior, use either `df[df.columns[i]] = newvals` or, if columns are non-unique, `df.isetitem(i, newvals)`\n",
      "  data_dict[file_key].loc[:, 0:days-1] = data_dict[file_key].loc[:, 0:days-1].astype(float)\n",
      "C:\\Users\\user\\AppData\\Local\\Temp\\ipykernel_27636\\1462086335.py:17: DeprecationWarning: In a future version, `df.iloc[:, i] = newvals` will attempt to set the values inplace instead of always setting a new array. To retain the old behavior, use either `df[df.columns[i]] = newvals` or, if columns are non-unique, `df.isetitem(i, newvals)`\n",
      "  data_dict[file_key].loc[:, 0:days-1] = data_dict[file_key].loc[:, 0:days-1].astype(float)\n"
     ]
    },
    {
     "name": "stdout",
     "output_type": "stream",
     "text": [
      "done 20210430.pkl\n",
      "done 20210503.pkl\n",
      "done 20210504.pkl\n"
     ]
    },
    {
     "name": "stderr",
     "output_type": "stream",
     "text": [
      "C:\\Users\\user\\AppData\\Local\\Temp\\ipykernel_27636\\1462086335.py:17: DeprecationWarning: In a future version, `df.iloc[:, i] = newvals` will attempt to set the values inplace instead of always setting a new array. To retain the old behavior, use either `df[df.columns[i]] = newvals` or, if columns are non-unique, `df.isetitem(i, newvals)`\n",
      "  data_dict[file_key].loc[:, 0:days-1] = data_dict[file_key].loc[:, 0:days-1].astype(float)\n",
      "C:\\Users\\user\\AppData\\Local\\Temp\\ipykernel_27636\\1462086335.py:17: DeprecationWarning: In a future version, `df.iloc[:, i] = newvals` will attempt to set the values inplace instead of always setting a new array. To retain the old behavior, use either `df[df.columns[i]] = newvals` or, if columns are non-unique, `df.isetitem(i, newvals)`\n",
      "  data_dict[file_key].loc[:, 0:days-1] = data_dict[file_key].loc[:, 0:days-1].astype(float)\n",
      "C:\\Users\\user\\AppData\\Local\\Temp\\ipykernel_27636\\1462086335.py:17: DeprecationWarning: In a future version, `df.iloc[:, i] = newvals` will attempt to set the values inplace instead of always setting a new array. To retain the old behavior, use either `df[df.columns[i]] = newvals` or, if columns are non-unique, `df.isetitem(i, newvals)`\n",
      "  data_dict[file_key].loc[:, 0:days-1] = data_dict[file_key].loc[:, 0:days-1].astype(float)\n"
     ]
    },
    {
     "name": "stdout",
     "output_type": "stream",
     "text": [
      "done 20210506.pkl\n",
      "done 20210507.pkl\n"
     ]
    },
    {
     "name": "stderr",
     "output_type": "stream",
     "text": [
      "C:\\Users\\user\\AppData\\Local\\Temp\\ipykernel_27636\\1462086335.py:17: DeprecationWarning: In a future version, `df.iloc[:, i] = newvals` will attempt to set the values inplace instead of always setting a new array. To retain the old behavior, use either `df[df.columns[i]] = newvals` or, if columns are non-unique, `df.isetitem(i, newvals)`\n",
      "  data_dict[file_key].loc[:, 0:days-1] = data_dict[file_key].loc[:, 0:days-1].astype(float)\n",
      "C:\\Users\\user\\AppData\\Local\\Temp\\ipykernel_27636\\1462086335.py:17: DeprecationWarning: In a future version, `df.iloc[:, i] = newvals` will attempt to set the values inplace instead of always setting a new array. To retain the old behavior, use either `df[df.columns[i]] = newvals` or, if columns are non-unique, `df.isetitem(i, newvals)`\n",
      "  data_dict[file_key].loc[:, 0:days-1] = data_dict[file_key].loc[:, 0:days-1].astype(float)\n"
     ]
    },
    {
     "name": "stdout",
     "output_type": "stream",
     "text": [
      "done 20210510.pkl\n",
      "done 20210511.pkl\n"
     ]
    },
    {
     "name": "stderr",
     "output_type": "stream",
     "text": [
      "C:\\Users\\user\\AppData\\Local\\Temp\\ipykernel_27636\\1462086335.py:17: DeprecationWarning: In a future version, `df.iloc[:, i] = newvals` will attempt to set the values inplace instead of always setting a new array. To retain the old behavior, use either `df[df.columns[i]] = newvals` or, if columns are non-unique, `df.isetitem(i, newvals)`\n",
      "  data_dict[file_key].loc[:, 0:days-1] = data_dict[file_key].loc[:, 0:days-1].astype(float)\n",
      "C:\\Users\\user\\AppData\\Local\\Temp\\ipykernel_27636\\1462086335.py:17: DeprecationWarning: In a future version, `df.iloc[:, i] = newvals` will attempt to set the values inplace instead of always setting a new array. To retain the old behavior, use either `df[df.columns[i]] = newvals` or, if columns are non-unique, `df.isetitem(i, newvals)`\n",
      "  data_dict[file_key].loc[:, 0:days-1] = data_dict[file_key].loc[:, 0:days-1].astype(float)\n"
     ]
    },
    {
     "name": "stdout",
     "output_type": "stream",
     "text": [
      "done 20210512.pkl\n",
      "done 20210513.pkl\n"
     ]
    },
    {
     "name": "stderr",
     "output_type": "stream",
     "text": [
      "C:\\Users\\user\\AppData\\Local\\Temp\\ipykernel_27636\\1462086335.py:17: DeprecationWarning: In a future version, `df.iloc[:, i] = newvals` will attempt to set the values inplace instead of always setting a new array. To retain the old behavior, use either `df[df.columns[i]] = newvals` or, if columns are non-unique, `df.isetitem(i, newvals)`\n",
      "  data_dict[file_key].loc[:, 0:days-1] = data_dict[file_key].loc[:, 0:days-1].astype(float)\n",
      "C:\\Users\\user\\AppData\\Local\\Temp\\ipykernel_27636\\1462086335.py:17: DeprecationWarning: In a future version, `df.iloc[:, i] = newvals` will attempt to set the values inplace instead of always setting a new array. To retain the old behavior, use either `df[df.columns[i]] = newvals` or, if columns are non-unique, `df.isetitem(i, newvals)`\n",
      "  data_dict[file_key].loc[:, 0:days-1] = data_dict[file_key].loc[:, 0:days-1].astype(float)\n"
     ]
    },
    {
     "name": "stdout",
     "output_type": "stream",
     "text": [
      "done 20210514.pkl\n"
     ]
    },
    {
     "name": "stderr",
     "output_type": "stream",
     "text": [
      "C:\\Users\\user\\AppData\\Local\\Temp\\ipykernel_27636\\1462086335.py:17: DeprecationWarning: In a future version, `df.iloc[:, i] = newvals` will attempt to set the values inplace instead of always setting a new array. To retain the old behavior, use either `df[df.columns[i]] = newvals` or, if columns are non-unique, `df.isetitem(i, newvals)`\n",
      "  data_dict[file_key].loc[:, 0:days-1] = data_dict[file_key].loc[:, 0:days-1].astype(float)\n"
     ]
    },
    {
     "name": "stdout",
     "output_type": "stream",
     "text": [
      "done 20210517.pkl\n",
      "done 20210518.pkl\n"
     ]
    },
    {
     "name": "stderr",
     "output_type": "stream",
     "text": [
      "C:\\Users\\user\\AppData\\Local\\Temp\\ipykernel_27636\\1462086335.py:17: DeprecationWarning: In a future version, `df.iloc[:, i] = newvals` will attempt to set the values inplace instead of always setting a new array. To retain the old behavior, use either `df[df.columns[i]] = newvals` or, if columns are non-unique, `df.isetitem(i, newvals)`\n",
      "  data_dict[file_key].loc[:, 0:days-1] = data_dict[file_key].loc[:, 0:days-1].astype(float)\n",
      "C:\\Users\\user\\AppData\\Local\\Temp\\ipykernel_27636\\1462086335.py:17: DeprecationWarning: In a future version, `df.iloc[:, i] = newvals` will attempt to set the values inplace instead of always setting a new array. To retain the old behavior, use either `df[df.columns[i]] = newvals` or, if columns are non-unique, `df.isetitem(i, newvals)`\n",
      "  data_dict[file_key].loc[:, 0:days-1] = data_dict[file_key].loc[:, 0:days-1].astype(float)\n"
     ]
    },
    {
     "name": "stdout",
     "output_type": "stream",
     "text": [
      "done 20210520.pkl\n",
      "done 20210521.pkl\n",
      "done 20210524.pkl\n"
     ]
    },
    {
     "name": "stderr",
     "output_type": "stream",
     "text": [
      "C:\\Users\\user\\AppData\\Local\\Temp\\ipykernel_27636\\1462086335.py:17: DeprecationWarning: In a future version, `df.iloc[:, i] = newvals` will attempt to set the values inplace instead of always setting a new array. To retain the old behavior, use either `df[df.columns[i]] = newvals` or, if columns are non-unique, `df.isetitem(i, newvals)`\n",
      "  data_dict[file_key].loc[:, 0:days-1] = data_dict[file_key].loc[:, 0:days-1].astype(float)\n",
      "C:\\Users\\user\\AppData\\Local\\Temp\\ipykernel_27636\\1462086335.py:17: DeprecationWarning: In a future version, `df.iloc[:, i] = newvals` will attempt to set the values inplace instead of always setting a new array. To retain the old behavior, use either `df[df.columns[i]] = newvals` or, if columns are non-unique, `df.isetitem(i, newvals)`\n",
      "  data_dict[file_key].loc[:, 0:days-1] = data_dict[file_key].loc[:, 0:days-1].astype(float)\n",
      "C:\\Users\\user\\AppData\\Local\\Temp\\ipykernel_27636\\1462086335.py:17: DeprecationWarning: In a future version, `df.iloc[:, i] = newvals` will attempt to set the values inplace instead of always setting a new array. To retain the old behavior, use either `df[df.columns[i]] = newvals` or, if columns are non-unique, `df.isetitem(i, newvals)`\n",
      "  data_dict[file_key].loc[:, 0:days-1] = data_dict[file_key].loc[:, 0:days-1].astype(float)\n"
     ]
    },
    {
     "name": "stdout",
     "output_type": "stream",
     "text": [
      "done 20210525.pkl\n",
      "done 20210526.pkl\n",
      "done 20210527.pkl\n"
     ]
    },
    {
     "name": "stderr",
     "output_type": "stream",
     "text": [
      "C:\\Users\\user\\AppData\\Local\\Temp\\ipykernel_27636\\1462086335.py:17: DeprecationWarning: In a future version, `df.iloc[:, i] = newvals` will attempt to set the values inplace instead of always setting a new array. To retain the old behavior, use either `df[df.columns[i]] = newvals` or, if columns are non-unique, `df.isetitem(i, newvals)`\n",
      "  data_dict[file_key].loc[:, 0:days-1] = data_dict[file_key].loc[:, 0:days-1].astype(float)\n",
      "C:\\Users\\user\\AppData\\Local\\Temp\\ipykernel_27636\\1462086335.py:17: DeprecationWarning: In a future version, `df.iloc[:, i] = newvals` will attempt to set the values inplace instead of always setting a new array. To retain the old behavior, use either `df[df.columns[i]] = newvals` or, if columns are non-unique, `df.isetitem(i, newvals)`\n",
      "  data_dict[file_key].loc[:, 0:days-1] = data_dict[file_key].loc[:, 0:days-1].astype(float)\n",
      "C:\\Users\\user\\AppData\\Local\\Temp\\ipykernel_27636\\1462086335.py:17: DeprecationWarning: In a future version, `df.iloc[:, i] = newvals` will attempt to set the values inplace instead of always setting a new array. To retain the old behavior, use either `df[df.columns[i]] = newvals` or, if columns are non-unique, `df.isetitem(i, newvals)`\n",
      "  data_dict[file_key].loc[:, 0:days-1] = data_dict[file_key].loc[:, 0:days-1].astype(float)\n"
     ]
    },
    {
     "name": "stdout",
     "output_type": "stream",
     "text": [
      "done 20210528.pkl\n",
      "done 20210531.pkl\n"
     ]
    },
    {
     "name": "stderr",
     "output_type": "stream",
     "text": [
      "C:\\Users\\user\\AppData\\Local\\Temp\\ipykernel_27636\\1462086335.py:17: DeprecationWarning: In a future version, `df.iloc[:, i] = newvals` will attempt to set the values inplace instead of always setting a new array. To retain the old behavior, use either `df[df.columns[i]] = newvals` or, if columns are non-unique, `df.isetitem(i, newvals)`\n",
      "  data_dict[file_key].loc[:, 0:days-1] = data_dict[file_key].loc[:, 0:days-1].astype(float)\n",
      "C:\\Users\\user\\AppData\\Local\\Temp\\ipykernel_27636\\1462086335.py:17: DeprecationWarning: In a future version, `df.iloc[:, i] = newvals` will attempt to set the values inplace instead of always setting a new array. To retain the old behavior, use either `df[df.columns[i]] = newvals` or, if columns are non-unique, `df.isetitem(i, newvals)`\n",
      "  data_dict[file_key].loc[:, 0:days-1] = data_dict[file_key].loc[:, 0:days-1].astype(float)\n"
     ]
    },
    {
     "name": "stdout",
     "output_type": "stream",
     "text": [
      "done 20210601.pkl\n",
      "done 20210602.pkl\n",
      "done 20210603.pkl\n",
      "done 20210604.pkl\n"
     ]
    },
    {
     "name": "stderr",
     "output_type": "stream",
     "text": [
      "C:\\Users\\user\\AppData\\Local\\Temp\\ipykernel_27636\\1462086335.py:17: DeprecationWarning: In a future version, `df.iloc[:, i] = newvals` will attempt to set the values inplace instead of always setting a new array. To retain the old behavior, use either `df[df.columns[i]] = newvals` or, if columns are non-unique, `df.isetitem(i, newvals)`\n",
      "  data_dict[file_key].loc[:, 0:days-1] = data_dict[file_key].loc[:, 0:days-1].astype(float)\n",
      "C:\\Users\\user\\AppData\\Local\\Temp\\ipykernel_27636\\1462086335.py:17: DeprecationWarning: In a future version, `df.iloc[:, i] = newvals` will attempt to set the values inplace instead of always setting a new array. To retain the old behavior, use either `df[df.columns[i]] = newvals` or, if columns are non-unique, `df.isetitem(i, newvals)`\n",
      "  data_dict[file_key].loc[:, 0:days-1] = data_dict[file_key].loc[:, 0:days-1].astype(float)\n",
      "C:\\Users\\user\\AppData\\Local\\Temp\\ipykernel_27636\\1462086335.py:17: DeprecationWarning: In a future version, `df.iloc[:, i] = newvals` will attempt to set the values inplace instead of always setting a new array. To retain the old behavior, use either `df[df.columns[i]] = newvals` or, if columns are non-unique, `df.isetitem(i, newvals)`\n",
      "  data_dict[file_key].loc[:, 0:days-1] = data_dict[file_key].loc[:, 0:days-1].astype(float)\n",
      "C:\\Users\\user\\AppData\\Local\\Temp\\ipykernel_27636\\1462086335.py:17: DeprecationWarning: In a future version, `df.iloc[:, i] = newvals` will attempt to set the values inplace instead of always setting a new array. To retain the old behavior, use either `df[df.columns[i]] = newvals` or, if columns are non-unique, `df.isetitem(i, newvals)`\n",
      "  data_dict[file_key].loc[:, 0:days-1] = data_dict[file_key].loc[:, 0:days-1].astype(float)\n"
     ]
    },
    {
     "name": "stdout",
     "output_type": "stream",
     "text": [
      "done 20210607.pkl\n",
      "done 20210608.pkl\n",
      "done 20210609.pkl\n",
      "done 20210610.pkl\n",
      "done 20210611.pkl\n"
     ]
    },
    {
     "name": "stderr",
     "output_type": "stream",
     "text": [
      "C:\\Users\\user\\AppData\\Local\\Temp\\ipykernel_27636\\1462086335.py:17: DeprecationWarning: In a future version, `df.iloc[:, i] = newvals` will attempt to set the values inplace instead of always setting a new array. To retain the old behavior, use either `df[df.columns[i]] = newvals` or, if columns are non-unique, `df.isetitem(i, newvals)`\n",
      "  data_dict[file_key].loc[:, 0:days-1] = data_dict[file_key].loc[:, 0:days-1].astype(float)\n",
      "C:\\Users\\user\\AppData\\Local\\Temp\\ipykernel_27636\\1462086335.py:17: DeprecationWarning: In a future version, `df.iloc[:, i] = newvals` will attempt to set the values inplace instead of always setting a new array. To retain the old behavior, use either `df[df.columns[i]] = newvals` or, if columns are non-unique, `df.isetitem(i, newvals)`\n",
      "  data_dict[file_key].loc[:, 0:days-1] = data_dict[file_key].loc[:, 0:days-1].astype(float)\n",
      "C:\\Users\\user\\AppData\\Local\\Temp\\ipykernel_27636\\1462086335.py:17: DeprecationWarning: In a future version, `df.iloc[:, i] = newvals` will attempt to set the values inplace instead of always setting a new array. To retain the old behavior, use either `df[df.columns[i]] = newvals` or, if columns are non-unique, `df.isetitem(i, newvals)`\n",
      "  data_dict[file_key].loc[:, 0:days-1] = data_dict[file_key].loc[:, 0:days-1].astype(float)\n",
      "C:\\Users\\user\\AppData\\Local\\Temp\\ipykernel_27636\\1462086335.py:17: DeprecationWarning: In a future version, `df.iloc[:, i] = newvals` will attempt to set the values inplace instead of always setting a new array. To retain the old behavior, use either `df[df.columns[i]] = newvals` or, if columns are non-unique, `df.isetitem(i, newvals)`\n",
      "  data_dict[file_key].loc[:, 0:days-1] = data_dict[file_key].loc[:, 0:days-1].astype(float)\n",
      "C:\\Users\\user\\AppData\\Local\\Temp\\ipykernel_27636\\1462086335.py:17: DeprecationWarning: In a future version, `df.iloc[:, i] = newvals` will attempt to set the values inplace instead of always setting a new array. To retain the old behavior, use either `df[df.columns[i]] = newvals` or, if columns are non-unique, `df.isetitem(i, newvals)`\n",
      "  data_dict[file_key].loc[:, 0:days-1] = data_dict[file_key].loc[:, 0:days-1].astype(float)\n"
     ]
    },
    {
     "name": "stdout",
     "output_type": "stream",
     "text": [
      "done 20210614.pkl\n",
      "done 20210615.pkl\n",
      "done 20210616.pkl\n",
      "done 20210617.pkl\n",
      "done 20210618.pkl\n"
     ]
    },
    {
     "name": "stderr",
     "output_type": "stream",
     "text": [
      "C:\\Users\\user\\AppData\\Local\\Temp\\ipykernel_27636\\1462086335.py:17: DeprecationWarning: In a future version, `df.iloc[:, i] = newvals` will attempt to set the values inplace instead of always setting a new array. To retain the old behavior, use either `df[df.columns[i]] = newvals` or, if columns are non-unique, `df.isetitem(i, newvals)`\n",
      "  data_dict[file_key].loc[:, 0:days-1] = data_dict[file_key].loc[:, 0:days-1].astype(float)\n",
      "C:\\Users\\user\\AppData\\Local\\Temp\\ipykernel_27636\\1462086335.py:17: DeprecationWarning: In a future version, `df.iloc[:, i] = newvals` will attempt to set the values inplace instead of always setting a new array. To retain the old behavior, use either `df[df.columns[i]] = newvals` or, if columns are non-unique, `df.isetitem(i, newvals)`\n",
      "  data_dict[file_key].loc[:, 0:days-1] = data_dict[file_key].loc[:, 0:days-1].astype(float)\n",
      "C:\\Users\\user\\AppData\\Local\\Temp\\ipykernel_27636\\1462086335.py:17: DeprecationWarning: In a future version, `df.iloc[:, i] = newvals` will attempt to set the values inplace instead of always setting a new array. To retain the old behavior, use either `df[df.columns[i]] = newvals` or, if columns are non-unique, `df.isetitem(i, newvals)`\n",
      "  data_dict[file_key].loc[:, 0:days-1] = data_dict[file_key].loc[:, 0:days-1].astype(float)\n",
      "C:\\Users\\user\\AppData\\Local\\Temp\\ipykernel_27636\\1462086335.py:17: DeprecationWarning: In a future version, `df.iloc[:, i] = newvals` will attempt to set the values inplace instead of always setting a new array. To retain the old behavior, use either `df[df.columns[i]] = newvals` or, if columns are non-unique, `df.isetitem(i, newvals)`\n",
      "  data_dict[file_key].loc[:, 0:days-1] = data_dict[file_key].loc[:, 0:days-1].astype(float)\n",
      "C:\\Users\\user\\AppData\\Local\\Temp\\ipykernel_27636\\1462086335.py:17: DeprecationWarning: In a future version, `df.iloc[:, i] = newvals` will attempt to set the values inplace instead of always setting a new array. To retain the old behavior, use either `df[df.columns[i]] = newvals` or, if columns are non-unique, `df.isetitem(i, newvals)`\n",
      "  data_dict[file_key].loc[:, 0:days-1] = data_dict[file_key].loc[:, 0:days-1].astype(float)\n"
     ]
    },
    {
     "name": "stdout",
     "output_type": "stream",
     "text": [
      "done 20210621.pkl\n",
      "done 20210622.pkl\n",
      "done 20210623.pkl\n",
      "done 20210624.pkl\n"
     ]
    },
    {
     "name": "stderr",
     "output_type": "stream",
     "text": [
      "C:\\Users\\user\\AppData\\Local\\Temp\\ipykernel_27636\\1462086335.py:17: DeprecationWarning: In a future version, `df.iloc[:, i] = newvals` will attempt to set the values inplace instead of always setting a new array. To retain the old behavior, use either `df[df.columns[i]] = newvals` or, if columns are non-unique, `df.isetitem(i, newvals)`\n",
      "  data_dict[file_key].loc[:, 0:days-1] = data_dict[file_key].loc[:, 0:days-1].astype(float)\n",
      "C:\\Users\\user\\AppData\\Local\\Temp\\ipykernel_27636\\1462086335.py:17: DeprecationWarning: In a future version, `df.iloc[:, i] = newvals` will attempt to set the values inplace instead of always setting a new array. To retain the old behavior, use either `df[df.columns[i]] = newvals` or, if columns are non-unique, `df.isetitem(i, newvals)`\n",
      "  data_dict[file_key].loc[:, 0:days-1] = data_dict[file_key].loc[:, 0:days-1].astype(float)\n",
      "C:\\Users\\user\\AppData\\Local\\Temp\\ipykernel_27636\\1462086335.py:17: DeprecationWarning: In a future version, `df.iloc[:, i] = newvals` will attempt to set the values inplace instead of always setting a new array. To retain the old behavior, use either `df[df.columns[i]] = newvals` or, if columns are non-unique, `df.isetitem(i, newvals)`\n",
      "  data_dict[file_key].loc[:, 0:days-1] = data_dict[file_key].loc[:, 0:days-1].astype(float)\n",
      "C:\\Users\\user\\AppData\\Local\\Temp\\ipykernel_27636\\1462086335.py:17: DeprecationWarning: In a future version, `df.iloc[:, i] = newvals` will attempt to set the values inplace instead of always setting a new array. To retain the old behavior, use either `df[df.columns[i]] = newvals` or, if columns are non-unique, `df.isetitem(i, newvals)`\n",
      "  data_dict[file_key].loc[:, 0:days-1] = data_dict[file_key].loc[:, 0:days-1].astype(float)\n"
     ]
    },
    {
     "name": "stdout",
     "output_type": "stream",
     "text": [
      "done 20210625.pkl\n",
      "done 20210628.pkl\n",
      "done 20210629.pkl\n"
     ]
    },
    {
     "name": "stderr",
     "output_type": "stream",
     "text": [
      "C:\\Users\\user\\AppData\\Local\\Temp\\ipykernel_27636\\1462086335.py:17: DeprecationWarning: In a future version, `df.iloc[:, i] = newvals` will attempt to set the values inplace instead of always setting a new array. To retain the old behavior, use either `df[df.columns[i]] = newvals` or, if columns are non-unique, `df.isetitem(i, newvals)`\n",
      "  data_dict[file_key].loc[:, 0:days-1] = data_dict[file_key].loc[:, 0:days-1].astype(float)\n",
      "C:\\Users\\user\\AppData\\Local\\Temp\\ipykernel_27636\\1462086335.py:17: DeprecationWarning: In a future version, `df.iloc[:, i] = newvals` will attempt to set the values inplace instead of always setting a new array. To retain the old behavior, use either `df[df.columns[i]] = newvals` or, if columns are non-unique, `df.isetitem(i, newvals)`\n",
      "  data_dict[file_key].loc[:, 0:days-1] = data_dict[file_key].loc[:, 0:days-1].astype(float)\n",
      "C:\\Users\\user\\AppData\\Local\\Temp\\ipykernel_27636\\1462086335.py:17: DeprecationWarning: In a future version, `df.iloc[:, i] = newvals` will attempt to set the values inplace instead of always setting a new array. To retain the old behavior, use either `df[df.columns[i]] = newvals` or, if columns are non-unique, `df.isetitem(i, newvals)`\n",
      "  data_dict[file_key].loc[:, 0:days-1] = data_dict[file_key].loc[:, 0:days-1].astype(float)\n"
     ]
    },
    {
     "name": "stdout",
     "output_type": "stream",
     "text": [
      "done 20210630.pkl\n",
      "done 20210701.pkl\n",
      "done 20210702.pkl\n",
      "done 20210705.pkl\n"
     ]
    },
    {
     "name": "stderr",
     "output_type": "stream",
     "text": [
      "C:\\Users\\user\\AppData\\Local\\Temp\\ipykernel_27636\\1462086335.py:17: DeprecationWarning: In a future version, `df.iloc[:, i] = newvals` will attempt to set the values inplace instead of always setting a new array. To retain the old behavior, use either `df[df.columns[i]] = newvals` or, if columns are non-unique, `df.isetitem(i, newvals)`\n",
      "  data_dict[file_key].loc[:, 0:days-1] = data_dict[file_key].loc[:, 0:days-1].astype(float)\n",
      "C:\\Users\\user\\AppData\\Local\\Temp\\ipykernel_27636\\1462086335.py:17: DeprecationWarning: In a future version, `df.iloc[:, i] = newvals` will attempt to set the values inplace instead of always setting a new array. To retain the old behavior, use either `df[df.columns[i]] = newvals` or, if columns are non-unique, `df.isetitem(i, newvals)`\n",
      "  data_dict[file_key].loc[:, 0:days-1] = data_dict[file_key].loc[:, 0:days-1].astype(float)\n",
      "C:\\Users\\user\\AppData\\Local\\Temp\\ipykernel_27636\\1462086335.py:17: DeprecationWarning: In a future version, `df.iloc[:, i] = newvals` will attempt to set the values inplace instead of always setting a new array. To retain the old behavior, use either `df[df.columns[i]] = newvals` or, if columns are non-unique, `df.isetitem(i, newvals)`\n",
      "  data_dict[file_key].loc[:, 0:days-1] = data_dict[file_key].loc[:, 0:days-1].astype(float)\n",
      "C:\\Users\\user\\AppData\\Local\\Temp\\ipykernel_27636\\1462086335.py:17: DeprecationWarning: In a future version, `df.iloc[:, i] = newvals` will attempt to set the values inplace instead of always setting a new array. To retain the old behavior, use either `df[df.columns[i]] = newvals` or, if columns are non-unique, `df.isetitem(i, newvals)`\n",
      "  data_dict[file_key].loc[:, 0:days-1] = data_dict[file_key].loc[:, 0:days-1].astype(float)\n"
     ]
    },
    {
     "name": "stdout",
     "output_type": "stream",
     "text": [
      "done 20210706.pkl\n",
      "done 20210707.pkl\n",
      "done 20210708.pkl\n"
     ]
    },
    {
     "name": "stderr",
     "output_type": "stream",
     "text": [
      "C:\\Users\\user\\AppData\\Local\\Temp\\ipykernel_27636\\1462086335.py:17: DeprecationWarning: In a future version, `df.iloc[:, i] = newvals` will attempt to set the values inplace instead of always setting a new array. To retain the old behavior, use either `df[df.columns[i]] = newvals` or, if columns are non-unique, `df.isetitem(i, newvals)`\n",
      "  data_dict[file_key].loc[:, 0:days-1] = data_dict[file_key].loc[:, 0:days-1].astype(float)\n",
      "C:\\Users\\user\\AppData\\Local\\Temp\\ipykernel_27636\\1462086335.py:17: DeprecationWarning: In a future version, `df.iloc[:, i] = newvals` will attempt to set the values inplace instead of always setting a new array. To retain the old behavior, use either `df[df.columns[i]] = newvals` or, if columns are non-unique, `df.isetitem(i, newvals)`\n",
      "  data_dict[file_key].loc[:, 0:days-1] = data_dict[file_key].loc[:, 0:days-1].astype(float)\n",
      "C:\\Users\\user\\AppData\\Local\\Temp\\ipykernel_27636\\1462086335.py:17: DeprecationWarning: In a future version, `df.iloc[:, i] = newvals` will attempt to set the values inplace instead of always setting a new array. To retain the old behavior, use either `df[df.columns[i]] = newvals` or, if columns are non-unique, `df.isetitem(i, newvals)`\n",
      "  data_dict[file_key].loc[:, 0:days-1] = data_dict[file_key].loc[:, 0:days-1].astype(float)\n"
     ]
    },
    {
     "name": "stdout",
     "output_type": "stream",
     "text": [
      "done 20210709.pkl\n",
      "done 20210712.pkl\n",
      "done 20210713.pkl\n"
     ]
    },
    {
     "name": "stderr",
     "output_type": "stream",
     "text": [
      "C:\\Users\\user\\AppData\\Local\\Temp\\ipykernel_27636\\1462086335.py:17: DeprecationWarning: In a future version, `df.iloc[:, i] = newvals` will attempt to set the values inplace instead of always setting a new array. To retain the old behavior, use either `df[df.columns[i]] = newvals` or, if columns are non-unique, `df.isetitem(i, newvals)`\n",
      "  data_dict[file_key].loc[:, 0:days-1] = data_dict[file_key].loc[:, 0:days-1].astype(float)\n",
      "C:\\Users\\user\\AppData\\Local\\Temp\\ipykernel_27636\\1462086335.py:17: DeprecationWarning: In a future version, `df.iloc[:, i] = newvals` will attempt to set the values inplace instead of always setting a new array. To retain the old behavior, use either `df[df.columns[i]] = newvals` or, if columns are non-unique, `df.isetitem(i, newvals)`\n",
      "  data_dict[file_key].loc[:, 0:days-1] = data_dict[file_key].loc[:, 0:days-1].astype(float)\n",
      "C:\\Users\\user\\AppData\\Local\\Temp\\ipykernel_27636\\1462086335.py:17: DeprecationWarning: In a future version, `df.iloc[:, i] = newvals` will attempt to set the values inplace instead of always setting a new array. To retain the old behavior, use either `df[df.columns[i]] = newvals` or, if columns are non-unique, `df.isetitem(i, newvals)`\n",
      "  data_dict[file_key].loc[:, 0:days-1] = data_dict[file_key].loc[:, 0:days-1].astype(float)\n"
     ]
    },
    {
     "name": "stdout",
     "output_type": "stream",
     "text": [
      "done 20210714.pkl\n",
      "done 20210715.pkl\n"
     ]
    },
    {
     "name": "stderr",
     "output_type": "stream",
     "text": [
      "C:\\Users\\user\\AppData\\Local\\Temp\\ipykernel_27636\\1462086335.py:17: DeprecationWarning: In a future version, `df.iloc[:, i] = newvals` will attempt to set the values inplace instead of always setting a new array. To retain the old behavior, use either `df[df.columns[i]] = newvals` or, if columns are non-unique, `df.isetitem(i, newvals)`\n",
      "  data_dict[file_key].loc[:, 0:days-1] = data_dict[file_key].loc[:, 0:days-1].astype(float)\n",
      "C:\\Users\\user\\AppData\\Local\\Temp\\ipykernel_27636\\1462086335.py:17: DeprecationWarning: In a future version, `df.iloc[:, i] = newvals` will attempt to set the values inplace instead of always setting a new array. To retain the old behavior, use either `df[df.columns[i]] = newvals` or, if columns are non-unique, `df.isetitem(i, newvals)`\n",
      "  data_dict[file_key].loc[:, 0:days-1] = data_dict[file_key].loc[:, 0:days-1].astype(float)\n"
     ]
    },
    {
     "name": "stdout",
     "output_type": "stream",
     "text": [
      "done 20210716.pkl\n",
      "done 20210719.pkl\n",
      "done 20210720.pkl\n",
      "done 20210721.pkl\n"
     ]
    },
    {
     "name": "stderr",
     "output_type": "stream",
     "text": [
      "C:\\Users\\user\\AppData\\Local\\Temp\\ipykernel_27636\\1462086335.py:17: DeprecationWarning: In a future version, `df.iloc[:, i] = newvals` will attempt to set the values inplace instead of always setting a new array. To retain the old behavior, use either `df[df.columns[i]] = newvals` or, if columns are non-unique, `df.isetitem(i, newvals)`\n",
      "  data_dict[file_key].loc[:, 0:days-1] = data_dict[file_key].loc[:, 0:days-1].astype(float)\n",
      "C:\\Users\\user\\AppData\\Local\\Temp\\ipykernel_27636\\1462086335.py:17: DeprecationWarning: In a future version, `df.iloc[:, i] = newvals` will attempt to set the values inplace instead of always setting a new array. To retain the old behavior, use either `df[df.columns[i]] = newvals` or, if columns are non-unique, `df.isetitem(i, newvals)`\n",
      "  data_dict[file_key].loc[:, 0:days-1] = data_dict[file_key].loc[:, 0:days-1].astype(float)\n",
      "C:\\Users\\user\\AppData\\Local\\Temp\\ipykernel_27636\\1462086335.py:17: DeprecationWarning: In a future version, `df.iloc[:, i] = newvals` will attempt to set the values inplace instead of always setting a new array. To retain the old behavior, use either `df[df.columns[i]] = newvals` or, if columns are non-unique, `df.isetitem(i, newvals)`\n",
      "  data_dict[file_key].loc[:, 0:days-1] = data_dict[file_key].loc[:, 0:days-1].astype(float)\n",
      "C:\\Users\\user\\AppData\\Local\\Temp\\ipykernel_27636\\1462086335.py:17: DeprecationWarning: In a future version, `df.iloc[:, i] = newvals` will attempt to set the values inplace instead of always setting a new array. To retain the old behavior, use either `df[df.columns[i]] = newvals` or, if columns are non-unique, `df.isetitem(i, newvals)`\n",
      "  data_dict[file_key].loc[:, 0:days-1] = data_dict[file_key].loc[:, 0:days-1].astype(float)\n"
     ]
    },
    {
     "name": "stdout",
     "output_type": "stream",
     "text": [
      "done 20210722.pkl\n",
      "done 20210723.pkl\n"
     ]
    },
    {
     "name": "stderr",
     "output_type": "stream",
     "text": [
      "C:\\Users\\user\\AppData\\Local\\Temp\\ipykernel_27636\\1462086335.py:17: DeprecationWarning: In a future version, `df.iloc[:, i] = newvals` will attempt to set the values inplace instead of always setting a new array. To retain the old behavior, use either `df[df.columns[i]] = newvals` or, if columns are non-unique, `df.isetitem(i, newvals)`\n",
      "  data_dict[file_key].loc[:, 0:days-1] = data_dict[file_key].loc[:, 0:days-1].astype(float)\n",
      "C:\\Users\\user\\AppData\\Local\\Temp\\ipykernel_27636\\1462086335.py:17: DeprecationWarning: In a future version, `df.iloc[:, i] = newvals` will attempt to set the values inplace instead of always setting a new array. To retain the old behavior, use either `df[df.columns[i]] = newvals` or, if columns are non-unique, `df.isetitem(i, newvals)`\n",
      "  data_dict[file_key].loc[:, 0:days-1] = data_dict[file_key].loc[:, 0:days-1].astype(float)\n"
     ]
    },
    {
     "name": "stdout",
     "output_type": "stream",
     "text": [
      "done 20210726.pkl\n",
      "done 20210727.pkl\n"
     ]
    },
    {
     "name": "stderr",
     "output_type": "stream",
     "text": [
      "C:\\Users\\user\\AppData\\Local\\Temp\\ipykernel_27636\\1462086335.py:17: DeprecationWarning: In a future version, `df.iloc[:, i] = newvals` will attempt to set the values inplace instead of always setting a new array. To retain the old behavior, use either `df[df.columns[i]] = newvals` or, if columns are non-unique, `df.isetitem(i, newvals)`\n",
      "  data_dict[file_key].loc[:, 0:days-1] = data_dict[file_key].loc[:, 0:days-1].astype(float)\n",
      "C:\\Users\\user\\AppData\\Local\\Temp\\ipykernel_27636\\1462086335.py:17: DeprecationWarning: In a future version, `df.iloc[:, i] = newvals` will attempt to set the values inplace instead of always setting a new array. To retain the old behavior, use either `df[df.columns[i]] = newvals` or, if columns are non-unique, `df.isetitem(i, newvals)`\n",
      "  data_dict[file_key].loc[:, 0:days-1] = data_dict[file_key].loc[:, 0:days-1].astype(float)\n"
     ]
    },
    {
     "name": "stdout",
     "output_type": "stream",
     "text": [
      "done 20210728.pkl\n",
      "done 20210729.pkl\n"
     ]
    },
    {
     "name": "stderr",
     "output_type": "stream",
     "text": [
      "C:\\Users\\user\\AppData\\Local\\Temp\\ipykernel_27636\\1462086335.py:17: DeprecationWarning: In a future version, `df.iloc[:, i] = newvals` will attempt to set the values inplace instead of always setting a new array. To retain the old behavior, use either `df[df.columns[i]] = newvals` or, if columns are non-unique, `df.isetitem(i, newvals)`\n",
      "  data_dict[file_key].loc[:, 0:days-1] = data_dict[file_key].loc[:, 0:days-1].astype(float)\n",
      "C:\\Users\\user\\AppData\\Local\\Temp\\ipykernel_27636\\1462086335.py:17: DeprecationWarning: In a future version, `df.iloc[:, i] = newvals` will attempt to set the values inplace instead of always setting a new array. To retain the old behavior, use either `df[df.columns[i]] = newvals` or, if columns are non-unique, `df.isetitem(i, newvals)`\n",
      "  data_dict[file_key].loc[:, 0:days-1] = data_dict[file_key].loc[:, 0:days-1].astype(float)\n"
     ]
    },
    {
     "name": "stdout",
     "output_type": "stream",
     "text": [
      "done 20210730.pkl\n",
      "done 20210802.pkl\n",
      "done 20210803.pkl\n"
     ]
    },
    {
     "name": "stderr",
     "output_type": "stream",
     "text": [
      "C:\\Users\\user\\AppData\\Local\\Temp\\ipykernel_27636\\1462086335.py:17: DeprecationWarning: In a future version, `df.iloc[:, i] = newvals` will attempt to set the values inplace instead of always setting a new array. To retain the old behavior, use either `df[df.columns[i]] = newvals` or, if columns are non-unique, `df.isetitem(i, newvals)`\n",
      "  data_dict[file_key].loc[:, 0:days-1] = data_dict[file_key].loc[:, 0:days-1].astype(float)\n",
      "C:\\Users\\user\\AppData\\Local\\Temp\\ipykernel_27636\\1462086335.py:17: DeprecationWarning: In a future version, `df.iloc[:, i] = newvals` will attempt to set the values inplace instead of always setting a new array. To retain the old behavior, use either `df[df.columns[i]] = newvals` or, if columns are non-unique, `df.isetitem(i, newvals)`\n",
      "  data_dict[file_key].loc[:, 0:days-1] = data_dict[file_key].loc[:, 0:days-1].astype(float)\n",
      "C:\\Users\\user\\AppData\\Local\\Temp\\ipykernel_27636\\1462086335.py:17: DeprecationWarning: In a future version, `df.iloc[:, i] = newvals` will attempt to set the values inplace instead of always setting a new array. To retain the old behavior, use either `df[df.columns[i]] = newvals` or, if columns are non-unique, `df.isetitem(i, newvals)`\n",
      "  data_dict[file_key].loc[:, 0:days-1] = data_dict[file_key].loc[:, 0:days-1].astype(float)\n"
     ]
    },
    {
     "name": "stdout",
     "output_type": "stream",
     "text": [
      "done 20210804.pkl\n",
      "done 20210805.pkl\n",
      "done 20210806.pkl\n"
     ]
    },
    {
     "name": "stderr",
     "output_type": "stream",
     "text": [
      "C:\\Users\\user\\AppData\\Local\\Temp\\ipykernel_27636\\1462086335.py:17: DeprecationWarning: In a future version, `df.iloc[:, i] = newvals` will attempt to set the values inplace instead of always setting a new array. To retain the old behavior, use either `df[df.columns[i]] = newvals` or, if columns are non-unique, `df.isetitem(i, newvals)`\n",
      "  data_dict[file_key].loc[:, 0:days-1] = data_dict[file_key].loc[:, 0:days-1].astype(float)\n",
      "C:\\Users\\user\\AppData\\Local\\Temp\\ipykernel_27636\\1462086335.py:17: DeprecationWarning: In a future version, `df.iloc[:, i] = newvals` will attempt to set the values inplace instead of always setting a new array. To retain the old behavior, use either `df[df.columns[i]] = newvals` or, if columns are non-unique, `df.isetitem(i, newvals)`\n",
      "  data_dict[file_key].loc[:, 0:days-1] = data_dict[file_key].loc[:, 0:days-1].astype(float)\n",
      "C:\\Users\\user\\AppData\\Local\\Temp\\ipykernel_27636\\1462086335.py:17: DeprecationWarning: In a future version, `df.iloc[:, i] = newvals` will attempt to set the values inplace instead of always setting a new array. To retain the old behavior, use either `df[df.columns[i]] = newvals` or, if columns are non-unique, `df.isetitem(i, newvals)`\n",
      "  data_dict[file_key].loc[:, 0:days-1] = data_dict[file_key].loc[:, 0:days-1].astype(float)\n"
     ]
    },
    {
     "name": "stdout",
     "output_type": "stream",
     "text": [
      "done 20210809.pkl\n",
      "done 20210810.pkl\n",
      "done 20210811.pkl\n"
     ]
    },
    {
     "name": "stderr",
     "output_type": "stream",
     "text": [
      "C:\\Users\\user\\AppData\\Local\\Temp\\ipykernel_27636\\1462086335.py:17: DeprecationWarning: In a future version, `df.iloc[:, i] = newvals` will attempt to set the values inplace instead of always setting a new array. To retain the old behavior, use either `df[df.columns[i]] = newvals` or, if columns are non-unique, `df.isetitem(i, newvals)`\n",
      "  data_dict[file_key].loc[:, 0:days-1] = data_dict[file_key].loc[:, 0:days-1].astype(float)\n",
      "C:\\Users\\user\\AppData\\Local\\Temp\\ipykernel_27636\\1462086335.py:17: DeprecationWarning: In a future version, `df.iloc[:, i] = newvals` will attempt to set the values inplace instead of always setting a new array. To retain the old behavior, use either `df[df.columns[i]] = newvals` or, if columns are non-unique, `df.isetitem(i, newvals)`\n",
      "  data_dict[file_key].loc[:, 0:days-1] = data_dict[file_key].loc[:, 0:days-1].astype(float)\n",
      "C:\\Users\\user\\AppData\\Local\\Temp\\ipykernel_27636\\1462086335.py:17: DeprecationWarning: In a future version, `df.iloc[:, i] = newvals` will attempt to set the values inplace instead of always setting a new array. To retain the old behavior, use either `df[df.columns[i]] = newvals` or, if columns are non-unique, `df.isetitem(i, newvals)`\n",
      "  data_dict[file_key].loc[:, 0:days-1] = data_dict[file_key].loc[:, 0:days-1].astype(float)\n"
     ]
    },
    {
     "name": "stdout",
     "output_type": "stream",
     "text": [
      "done 20210812.pkl\n",
      "done 20210813.pkl\n"
     ]
    },
    {
     "name": "stderr",
     "output_type": "stream",
     "text": [
      "C:\\Users\\user\\AppData\\Local\\Temp\\ipykernel_27636\\1462086335.py:17: DeprecationWarning: In a future version, `df.iloc[:, i] = newvals` will attempt to set the values inplace instead of always setting a new array. To retain the old behavior, use either `df[df.columns[i]] = newvals` or, if columns are non-unique, `df.isetitem(i, newvals)`\n",
      "  data_dict[file_key].loc[:, 0:days-1] = data_dict[file_key].loc[:, 0:days-1].astype(float)\n",
      "C:\\Users\\user\\AppData\\Local\\Temp\\ipykernel_27636\\1462086335.py:17: DeprecationWarning: In a future version, `df.iloc[:, i] = newvals` will attempt to set the values inplace instead of always setting a new array. To retain the old behavior, use either `df[df.columns[i]] = newvals` or, if columns are non-unique, `df.isetitem(i, newvals)`\n",
      "  data_dict[file_key].loc[:, 0:days-1] = data_dict[file_key].loc[:, 0:days-1].astype(float)\n"
     ]
    },
    {
     "name": "stdout",
     "output_type": "stream",
     "text": [
      "done 20210817.pkl\n",
      "done 20210818.pkl\n"
     ]
    },
    {
     "name": "stderr",
     "output_type": "stream",
     "text": [
      "C:\\Users\\user\\AppData\\Local\\Temp\\ipykernel_27636\\1462086335.py:17: DeprecationWarning: In a future version, `df.iloc[:, i] = newvals` will attempt to set the values inplace instead of always setting a new array. To retain the old behavior, use either `df[df.columns[i]] = newvals` or, if columns are non-unique, `df.isetitem(i, newvals)`\n",
      "  data_dict[file_key].loc[:, 0:days-1] = data_dict[file_key].loc[:, 0:days-1].astype(float)\n",
      "C:\\Users\\user\\AppData\\Local\\Temp\\ipykernel_27636\\1462086335.py:17: DeprecationWarning: In a future version, `df.iloc[:, i] = newvals` will attempt to set the values inplace instead of always setting a new array. To retain the old behavior, use either `df[df.columns[i]] = newvals` or, if columns are non-unique, `df.isetitem(i, newvals)`\n",
      "  data_dict[file_key].loc[:, 0:days-1] = data_dict[file_key].loc[:, 0:days-1].astype(float)\n"
     ]
    },
    {
     "name": "stdout",
     "output_type": "stream",
     "text": [
      "done 20210819.pkl\n",
      "done 20210820.pkl\n",
      "done 20210823.pkl\n",
      "done 20210824.pkl\n",
      "done 20210825.pkl\n",
      "done 20210826.pkl\n"
     ]
    },
    {
     "name": "stderr",
     "output_type": "stream",
     "text": [
      "C:\\Users\\user\\AppData\\Local\\Temp\\ipykernel_27636\\1462086335.py:17: DeprecationWarning: In a future version, `df.iloc[:, i] = newvals` will attempt to set the values inplace instead of always setting a new array. To retain the old behavior, use either `df[df.columns[i]] = newvals` or, if columns are non-unique, `df.isetitem(i, newvals)`\n",
      "  data_dict[file_key].loc[:, 0:days-1] = data_dict[file_key].loc[:, 0:days-1].astype(float)\n",
      "C:\\Users\\user\\AppData\\Local\\Temp\\ipykernel_27636\\1462086335.py:17: DeprecationWarning: In a future version, `df.iloc[:, i] = newvals` will attempt to set the values inplace instead of always setting a new array. To retain the old behavior, use either `df[df.columns[i]] = newvals` or, if columns are non-unique, `df.isetitem(i, newvals)`\n",
      "  data_dict[file_key].loc[:, 0:days-1] = data_dict[file_key].loc[:, 0:days-1].astype(float)\n",
      "C:\\Users\\user\\AppData\\Local\\Temp\\ipykernel_27636\\1462086335.py:17: DeprecationWarning: In a future version, `df.iloc[:, i] = newvals` will attempt to set the values inplace instead of always setting a new array. To retain the old behavior, use either `df[df.columns[i]] = newvals` or, if columns are non-unique, `df.isetitem(i, newvals)`\n",
      "  data_dict[file_key].loc[:, 0:days-1] = data_dict[file_key].loc[:, 0:days-1].astype(float)\n",
      "C:\\Users\\user\\AppData\\Local\\Temp\\ipykernel_27636\\1462086335.py:17: DeprecationWarning: In a future version, `df.iloc[:, i] = newvals` will attempt to set the values inplace instead of always setting a new array. To retain the old behavior, use either `df[df.columns[i]] = newvals` or, if columns are non-unique, `df.isetitem(i, newvals)`\n",
      "  data_dict[file_key].loc[:, 0:days-1] = data_dict[file_key].loc[:, 0:days-1].astype(float)\n",
      "C:\\Users\\user\\AppData\\Local\\Temp\\ipykernel_27636\\1462086335.py:17: DeprecationWarning: In a future version, `df.iloc[:, i] = newvals` will attempt to set the values inplace instead of always setting a new array. To retain the old behavior, use either `df[df.columns[i]] = newvals` or, if columns are non-unique, `df.isetitem(i, newvals)`\n",
      "  data_dict[file_key].loc[:, 0:days-1] = data_dict[file_key].loc[:, 0:days-1].astype(float)\n",
      "C:\\Users\\user\\AppData\\Local\\Temp\\ipykernel_27636\\1462086335.py:17: DeprecationWarning: In a future version, `df.iloc[:, i] = newvals` will attempt to set the values inplace instead of always setting a new array. To retain the old behavior, use either `df[df.columns[i]] = newvals` or, if columns are non-unique, `df.isetitem(i, newvals)`\n",
      "  data_dict[file_key].loc[:, 0:days-1] = data_dict[file_key].loc[:, 0:days-1].astype(float)\n"
     ]
    },
    {
     "name": "stdout",
     "output_type": "stream",
     "text": [
      "done 20210827.pkl\n",
      "done 20210830.pkl\n",
      "done 20210831.pkl\n",
      "done 20210901.pkl\n",
      "done 20210902.pkl\n"
     ]
    },
    {
     "name": "stderr",
     "output_type": "stream",
     "text": [
      "C:\\Users\\user\\AppData\\Local\\Temp\\ipykernel_27636\\1462086335.py:17: DeprecationWarning: In a future version, `df.iloc[:, i] = newvals` will attempt to set the values inplace instead of always setting a new array. To retain the old behavior, use either `df[df.columns[i]] = newvals` or, if columns are non-unique, `df.isetitem(i, newvals)`\n",
      "  data_dict[file_key].loc[:, 0:days-1] = data_dict[file_key].loc[:, 0:days-1].astype(float)\n",
      "C:\\Users\\user\\AppData\\Local\\Temp\\ipykernel_27636\\1462086335.py:17: DeprecationWarning: In a future version, `df.iloc[:, i] = newvals` will attempt to set the values inplace instead of always setting a new array. To retain the old behavior, use either `df[df.columns[i]] = newvals` or, if columns are non-unique, `df.isetitem(i, newvals)`\n",
      "  data_dict[file_key].loc[:, 0:days-1] = data_dict[file_key].loc[:, 0:days-1].astype(float)\n",
      "C:\\Users\\user\\AppData\\Local\\Temp\\ipykernel_27636\\1462086335.py:17: DeprecationWarning: In a future version, `df.iloc[:, i] = newvals` will attempt to set the values inplace instead of always setting a new array. To retain the old behavior, use either `df[df.columns[i]] = newvals` or, if columns are non-unique, `df.isetitem(i, newvals)`\n",
      "  data_dict[file_key].loc[:, 0:days-1] = data_dict[file_key].loc[:, 0:days-1].astype(float)\n",
      "C:\\Users\\user\\AppData\\Local\\Temp\\ipykernel_27636\\1462086335.py:17: DeprecationWarning: In a future version, `df.iloc[:, i] = newvals` will attempt to set the values inplace instead of always setting a new array. To retain the old behavior, use either `df[df.columns[i]] = newvals` or, if columns are non-unique, `df.isetitem(i, newvals)`\n",
      "  data_dict[file_key].loc[:, 0:days-1] = data_dict[file_key].loc[:, 0:days-1].astype(float)\n",
      "C:\\Users\\user\\AppData\\Local\\Temp\\ipykernel_27636\\1462086335.py:17: DeprecationWarning: In a future version, `df.iloc[:, i] = newvals` will attempt to set the values inplace instead of always setting a new array. To retain the old behavior, use either `df[df.columns[i]] = newvals` or, if columns are non-unique, `df.isetitem(i, newvals)`\n",
      "  data_dict[file_key].loc[:, 0:days-1] = data_dict[file_key].loc[:, 0:days-1].astype(float)\n"
     ]
    },
    {
     "name": "stdout",
     "output_type": "stream",
     "text": [
      "done 20210903.pkl\n",
      "done 20210906.pkl\n",
      "done 20210907.pkl\n",
      "done 20210908.pkl\n"
     ]
    },
    {
     "name": "stderr",
     "output_type": "stream",
     "text": [
      "C:\\Users\\user\\AppData\\Local\\Temp\\ipykernel_27636\\1462086335.py:17: DeprecationWarning: In a future version, `df.iloc[:, i] = newvals` will attempt to set the values inplace instead of always setting a new array. To retain the old behavior, use either `df[df.columns[i]] = newvals` or, if columns are non-unique, `df.isetitem(i, newvals)`\n",
      "  data_dict[file_key].loc[:, 0:days-1] = data_dict[file_key].loc[:, 0:days-1].astype(float)\n",
      "C:\\Users\\user\\AppData\\Local\\Temp\\ipykernel_27636\\1462086335.py:17: DeprecationWarning: In a future version, `df.iloc[:, i] = newvals` will attempt to set the values inplace instead of always setting a new array. To retain the old behavior, use either `df[df.columns[i]] = newvals` or, if columns are non-unique, `df.isetitem(i, newvals)`\n",
      "  data_dict[file_key].loc[:, 0:days-1] = data_dict[file_key].loc[:, 0:days-1].astype(float)\n",
      "C:\\Users\\user\\AppData\\Local\\Temp\\ipykernel_27636\\1462086335.py:17: DeprecationWarning: In a future version, `df.iloc[:, i] = newvals` will attempt to set the values inplace instead of always setting a new array. To retain the old behavior, use either `df[df.columns[i]] = newvals` or, if columns are non-unique, `df.isetitem(i, newvals)`\n",
      "  data_dict[file_key].loc[:, 0:days-1] = data_dict[file_key].loc[:, 0:days-1].astype(float)\n",
      "C:\\Users\\user\\AppData\\Local\\Temp\\ipykernel_27636\\1462086335.py:17: DeprecationWarning: In a future version, `df.iloc[:, i] = newvals` will attempt to set the values inplace instead of always setting a new array. To retain the old behavior, use either `df[df.columns[i]] = newvals` or, if columns are non-unique, `df.isetitem(i, newvals)`\n",
      "  data_dict[file_key].loc[:, 0:days-1] = data_dict[file_key].loc[:, 0:days-1].astype(float)\n"
     ]
    },
    {
     "name": "stdout",
     "output_type": "stream",
     "text": [
      "done 20210909.pkl\n",
      "done 20210910.pkl\n",
      "done 20210913.pkl\n",
      "done 20210914.pkl\n"
     ]
    },
    {
     "name": "stderr",
     "output_type": "stream",
     "text": [
      "C:\\Users\\user\\AppData\\Local\\Temp\\ipykernel_27636\\1462086335.py:17: DeprecationWarning: In a future version, `df.iloc[:, i] = newvals` will attempt to set the values inplace instead of always setting a new array. To retain the old behavior, use either `df[df.columns[i]] = newvals` or, if columns are non-unique, `df.isetitem(i, newvals)`\n",
      "  data_dict[file_key].loc[:, 0:days-1] = data_dict[file_key].loc[:, 0:days-1].astype(float)\n",
      "C:\\Users\\user\\AppData\\Local\\Temp\\ipykernel_27636\\1462086335.py:17: DeprecationWarning: In a future version, `df.iloc[:, i] = newvals` will attempt to set the values inplace instead of always setting a new array. To retain the old behavior, use either `df[df.columns[i]] = newvals` or, if columns are non-unique, `df.isetitem(i, newvals)`\n",
      "  data_dict[file_key].loc[:, 0:days-1] = data_dict[file_key].loc[:, 0:days-1].astype(float)\n",
      "C:\\Users\\user\\AppData\\Local\\Temp\\ipykernel_27636\\1462086335.py:17: DeprecationWarning: In a future version, `df.iloc[:, i] = newvals` will attempt to set the values inplace instead of always setting a new array. To retain the old behavior, use either `df[df.columns[i]] = newvals` or, if columns are non-unique, `df.isetitem(i, newvals)`\n",
      "  data_dict[file_key].loc[:, 0:days-1] = data_dict[file_key].loc[:, 0:days-1].astype(float)\n",
      "C:\\Users\\user\\AppData\\Local\\Temp\\ipykernel_27636\\1462086335.py:17: DeprecationWarning: In a future version, `df.iloc[:, i] = newvals` will attempt to set the values inplace instead of always setting a new array. To retain the old behavior, use either `df[df.columns[i]] = newvals` or, if columns are non-unique, `df.isetitem(i, newvals)`\n",
      "  data_dict[file_key].loc[:, 0:days-1] = data_dict[file_key].loc[:, 0:days-1].astype(float)\n"
     ]
    },
    {
     "name": "stdout",
     "output_type": "stream",
     "text": [
      "done 20210915.pkl\n",
      "done 20210916.pkl\n",
      "done 20210917.pkl\n",
      "done 20210923.pkl\n",
      "done 20210924.pkl\n"
     ]
    },
    {
     "name": "stderr",
     "output_type": "stream",
     "text": [
      "C:\\Users\\user\\AppData\\Local\\Temp\\ipykernel_27636\\1462086335.py:17: DeprecationWarning: In a future version, `df.iloc[:, i] = newvals` will attempt to set the values inplace instead of always setting a new array. To retain the old behavior, use either `df[df.columns[i]] = newvals` or, if columns are non-unique, `df.isetitem(i, newvals)`\n",
      "  data_dict[file_key].loc[:, 0:days-1] = data_dict[file_key].loc[:, 0:days-1].astype(float)\n",
      "C:\\Users\\user\\AppData\\Local\\Temp\\ipykernel_27636\\1462086335.py:17: DeprecationWarning: In a future version, `df.iloc[:, i] = newvals` will attempt to set the values inplace instead of always setting a new array. To retain the old behavior, use either `df[df.columns[i]] = newvals` or, if columns are non-unique, `df.isetitem(i, newvals)`\n",
      "  data_dict[file_key].loc[:, 0:days-1] = data_dict[file_key].loc[:, 0:days-1].astype(float)\n",
      "C:\\Users\\user\\AppData\\Local\\Temp\\ipykernel_27636\\1462086335.py:17: DeprecationWarning: In a future version, `df.iloc[:, i] = newvals` will attempt to set the values inplace instead of always setting a new array. To retain the old behavior, use either `df[df.columns[i]] = newvals` or, if columns are non-unique, `df.isetitem(i, newvals)`\n",
      "  data_dict[file_key].loc[:, 0:days-1] = data_dict[file_key].loc[:, 0:days-1].astype(float)\n",
      "C:\\Users\\user\\AppData\\Local\\Temp\\ipykernel_27636\\1462086335.py:17: DeprecationWarning: In a future version, `df.iloc[:, i] = newvals` will attempt to set the values inplace instead of always setting a new array. To retain the old behavior, use either `df[df.columns[i]] = newvals` or, if columns are non-unique, `df.isetitem(i, newvals)`\n",
      "  data_dict[file_key].loc[:, 0:days-1] = data_dict[file_key].loc[:, 0:days-1].astype(float)\n",
      "C:\\Users\\user\\AppData\\Local\\Temp\\ipykernel_27636\\1462086335.py:17: DeprecationWarning: In a future version, `df.iloc[:, i] = newvals` will attempt to set the values inplace instead of always setting a new array. To retain the old behavior, use either `df[df.columns[i]] = newvals` or, if columns are non-unique, `df.isetitem(i, newvals)`\n",
      "  data_dict[file_key].loc[:, 0:days-1] = data_dict[file_key].loc[:, 0:days-1].astype(float)\n"
     ]
    },
    {
     "name": "stdout",
     "output_type": "stream",
     "text": [
      "done 20210927.pkl\n",
      "done 20210928.pkl\n",
      "done 20210929.pkl\n",
      "done 20210930.pkl\n"
     ]
    },
    {
     "name": "stderr",
     "output_type": "stream",
     "text": [
      "C:\\Users\\user\\AppData\\Local\\Temp\\ipykernel_27636\\1462086335.py:17: DeprecationWarning: In a future version, `df.iloc[:, i] = newvals` will attempt to set the values inplace instead of always setting a new array. To retain the old behavior, use either `df[df.columns[i]] = newvals` or, if columns are non-unique, `df.isetitem(i, newvals)`\n",
      "  data_dict[file_key].loc[:, 0:days-1] = data_dict[file_key].loc[:, 0:days-1].astype(float)\n",
      "C:\\Users\\user\\AppData\\Local\\Temp\\ipykernel_27636\\1462086335.py:17: DeprecationWarning: In a future version, `df.iloc[:, i] = newvals` will attempt to set the values inplace instead of always setting a new array. To retain the old behavior, use either `df[df.columns[i]] = newvals` or, if columns are non-unique, `df.isetitem(i, newvals)`\n",
      "  data_dict[file_key].loc[:, 0:days-1] = data_dict[file_key].loc[:, 0:days-1].astype(float)\n",
      "C:\\Users\\user\\AppData\\Local\\Temp\\ipykernel_27636\\1462086335.py:17: DeprecationWarning: In a future version, `df.iloc[:, i] = newvals` will attempt to set the values inplace instead of always setting a new array. To retain the old behavior, use either `df[df.columns[i]] = newvals` or, if columns are non-unique, `df.isetitem(i, newvals)`\n",
      "  data_dict[file_key].loc[:, 0:days-1] = data_dict[file_key].loc[:, 0:days-1].astype(float)\n",
      "C:\\Users\\user\\AppData\\Local\\Temp\\ipykernel_27636\\1462086335.py:17: DeprecationWarning: In a future version, `df.iloc[:, i] = newvals` will attempt to set the values inplace instead of always setting a new array. To retain the old behavior, use either `df[df.columns[i]] = newvals` or, if columns are non-unique, `df.isetitem(i, newvals)`\n",
      "  data_dict[file_key].loc[:, 0:days-1] = data_dict[file_key].loc[:, 0:days-1].astype(float)\n"
     ]
    },
    {
     "name": "stdout",
     "output_type": "stream",
     "text": [
      "done 20211001.pkl\n",
      "done 20211005.pkl\n",
      "done 20211006.pkl\n"
     ]
    },
    {
     "name": "stderr",
     "output_type": "stream",
     "text": [
      "C:\\Users\\user\\AppData\\Local\\Temp\\ipykernel_27636\\1462086335.py:17: DeprecationWarning: In a future version, `df.iloc[:, i] = newvals` will attempt to set the values inplace instead of always setting a new array. To retain the old behavior, use either `df[df.columns[i]] = newvals` or, if columns are non-unique, `df.isetitem(i, newvals)`\n",
      "  data_dict[file_key].loc[:, 0:days-1] = data_dict[file_key].loc[:, 0:days-1].astype(float)\n",
      "C:\\Users\\user\\AppData\\Local\\Temp\\ipykernel_27636\\1462086335.py:17: DeprecationWarning: In a future version, `df.iloc[:, i] = newvals` will attempt to set the values inplace instead of always setting a new array. To retain the old behavior, use either `df[df.columns[i]] = newvals` or, if columns are non-unique, `df.isetitem(i, newvals)`\n",
      "  data_dict[file_key].loc[:, 0:days-1] = data_dict[file_key].loc[:, 0:days-1].astype(float)\n",
      "C:\\Users\\user\\AppData\\Local\\Temp\\ipykernel_27636\\1462086335.py:17: DeprecationWarning: In a future version, `df.iloc[:, i] = newvals` will attempt to set the values inplace instead of always setting a new array. To retain the old behavior, use either `df[df.columns[i]] = newvals` or, if columns are non-unique, `df.isetitem(i, newvals)`\n",
      "  data_dict[file_key].loc[:, 0:days-1] = data_dict[file_key].loc[:, 0:days-1].astype(float)\n"
     ]
    },
    {
     "name": "stdout",
     "output_type": "stream",
     "text": [
      "done 20211007.pkl\n",
      "done 20211008.pkl\n"
     ]
    },
    {
     "name": "stderr",
     "output_type": "stream",
     "text": [
      "C:\\Users\\user\\AppData\\Local\\Temp\\ipykernel_27636\\1462086335.py:17: DeprecationWarning: In a future version, `df.iloc[:, i] = newvals` will attempt to set the values inplace instead of always setting a new array. To retain the old behavior, use either `df[df.columns[i]] = newvals` or, if columns are non-unique, `df.isetitem(i, newvals)`\n",
      "  data_dict[file_key].loc[:, 0:days-1] = data_dict[file_key].loc[:, 0:days-1].astype(float)\n",
      "C:\\Users\\user\\AppData\\Local\\Temp\\ipykernel_27636\\1462086335.py:17: DeprecationWarning: In a future version, `df.iloc[:, i] = newvals` will attempt to set the values inplace instead of always setting a new array. To retain the old behavior, use either `df[df.columns[i]] = newvals` or, if columns are non-unique, `df.isetitem(i, newvals)`\n",
      "  data_dict[file_key].loc[:, 0:days-1] = data_dict[file_key].loc[:, 0:days-1].astype(float)\n"
     ]
    },
    {
     "name": "stdout",
     "output_type": "stream",
     "text": [
      "done 20211012.pkl\n",
      "done 20211013.pkl\n",
      "done 20211014.pkl\n"
     ]
    },
    {
     "name": "stderr",
     "output_type": "stream",
     "text": [
      "C:\\Users\\user\\AppData\\Local\\Temp\\ipykernel_27636\\1462086335.py:17: DeprecationWarning: In a future version, `df.iloc[:, i] = newvals` will attempt to set the values inplace instead of always setting a new array. To retain the old behavior, use either `df[df.columns[i]] = newvals` or, if columns are non-unique, `df.isetitem(i, newvals)`\n",
      "  data_dict[file_key].loc[:, 0:days-1] = data_dict[file_key].loc[:, 0:days-1].astype(float)\n",
      "C:\\Users\\user\\AppData\\Local\\Temp\\ipykernel_27636\\1462086335.py:17: DeprecationWarning: In a future version, `df.iloc[:, i] = newvals` will attempt to set the values inplace instead of always setting a new array. To retain the old behavior, use either `df[df.columns[i]] = newvals` or, if columns are non-unique, `df.isetitem(i, newvals)`\n",
      "  data_dict[file_key].loc[:, 0:days-1] = data_dict[file_key].loc[:, 0:days-1].astype(float)\n",
      "C:\\Users\\user\\AppData\\Local\\Temp\\ipykernel_27636\\1462086335.py:17: DeprecationWarning: In a future version, `df.iloc[:, i] = newvals` will attempt to set the values inplace instead of always setting a new array. To retain the old behavior, use either `df[df.columns[i]] = newvals` or, if columns are non-unique, `df.isetitem(i, newvals)`\n",
      "  data_dict[file_key].loc[:, 0:days-1] = data_dict[file_key].loc[:, 0:days-1].astype(float)\n"
     ]
    },
    {
     "name": "stdout",
     "output_type": "stream",
     "text": [
      "done 20211015.pkl\n",
      "done 20211018.pkl\n",
      "done 20211019.pkl\n",
      "done 20211020.pkl\n"
     ]
    },
    {
     "name": "stderr",
     "output_type": "stream",
     "text": [
      "C:\\Users\\user\\AppData\\Local\\Temp\\ipykernel_27636\\1462086335.py:17: DeprecationWarning: In a future version, `df.iloc[:, i] = newvals` will attempt to set the values inplace instead of always setting a new array. To retain the old behavior, use either `df[df.columns[i]] = newvals` or, if columns are non-unique, `df.isetitem(i, newvals)`\n",
      "  data_dict[file_key].loc[:, 0:days-1] = data_dict[file_key].loc[:, 0:days-1].astype(float)\n",
      "C:\\Users\\user\\AppData\\Local\\Temp\\ipykernel_27636\\1462086335.py:17: DeprecationWarning: In a future version, `df.iloc[:, i] = newvals` will attempt to set the values inplace instead of always setting a new array. To retain the old behavior, use either `df[df.columns[i]] = newvals` or, if columns are non-unique, `df.isetitem(i, newvals)`\n",
      "  data_dict[file_key].loc[:, 0:days-1] = data_dict[file_key].loc[:, 0:days-1].astype(float)\n",
      "C:\\Users\\user\\AppData\\Local\\Temp\\ipykernel_27636\\1462086335.py:17: DeprecationWarning: In a future version, `df.iloc[:, i] = newvals` will attempt to set the values inplace instead of always setting a new array. To retain the old behavior, use either `df[df.columns[i]] = newvals` or, if columns are non-unique, `df.isetitem(i, newvals)`\n",
      "  data_dict[file_key].loc[:, 0:days-1] = data_dict[file_key].loc[:, 0:days-1].astype(float)\n",
      "C:\\Users\\user\\AppData\\Local\\Temp\\ipykernel_27636\\1462086335.py:17: DeprecationWarning: In a future version, `df.iloc[:, i] = newvals` will attempt to set the values inplace instead of always setting a new array. To retain the old behavior, use either `df[df.columns[i]] = newvals` or, if columns are non-unique, `df.isetitem(i, newvals)`\n",
      "  data_dict[file_key].loc[:, 0:days-1] = data_dict[file_key].loc[:, 0:days-1].astype(float)\n"
     ]
    },
    {
     "name": "stdout",
     "output_type": "stream",
     "text": [
      "done 20211021.pkl\n",
      "done 20211022.pkl\n",
      "done 20211025.pkl\n"
     ]
    },
    {
     "name": "stderr",
     "output_type": "stream",
     "text": [
      "C:\\Users\\user\\AppData\\Local\\Temp\\ipykernel_27636\\1462086335.py:17: DeprecationWarning: In a future version, `df.iloc[:, i] = newvals` will attempt to set the values inplace instead of always setting a new array. To retain the old behavior, use either `df[df.columns[i]] = newvals` or, if columns are non-unique, `df.isetitem(i, newvals)`\n",
      "  data_dict[file_key].loc[:, 0:days-1] = data_dict[file_key].loc[:, 0:days-1].astype(float)\n",
      "C:\\Users\\user\\AppData\\Local\\Temp\\ipykernel_27636\\1462086335.py:17: DeprecationWarning: In a future version, `df.iloc[:, i] = newvals` will attempt to set the values inplace instead of always setting a new array. To retain the old behavior, use either `df[df.columns[i]] = newvals` or, if columns are non-unique, `df.isetitem(i, newvals)`\n",
      "  data_dict[file_key].loc[:, 0:days-1] = data_dict[file_key].loc[:, 0:days-1].astype(float)\n",
      "C:\\Users\\user\\AppData\\Local\\Temp\\ipykernel_27636\\1462086335.py:17: DeprecationWarning: In a future version, `df.iloc[:, i] = newvals` will attempt to set the values inplace instead of always setting a new array. To retain the old behavior, use either `df[df.columns[i]] = newvals` or, if columns are non-unique, `df.isetitem(i, newvals)`\n",
      "  data_dict[file_key].loc[:, 0:days-1] = data_dict[file_key].loc[:, 0:days-1].astype(float)\n"
     ]
    },
    {
     "name": "stdout",
     "output_type": "stream",
     "text": [
      "done 20211026.pkl\n",
      "done 20211027.pkl\n"
     ]
    },
    {
     "name": "stderr",
     "output_type": "stream",
     "text": [
      "C:\\Users\\user\\AppData\\Local\\Temp\\ipykernel_27636\\1462086335.py:17: DeprecationWarning: In a future version, `df.iloc[:, i] = newvals` will attempt to set the values inplace instead of always setting a new array. To retain the old behavior, use either `df[df.columns[i]] = newvals` or, if columns are non-unique, `df.isetitem(i, newvals)`\n",
      "  data_dict[file_key].loc[:, 0:days-1] = data_dict[file_key].loc[:, 0:days-1].astype(float)\n",
      "C:\\Users\\user\\AppData\\Local\\Temp\\ipykernel_27636\\1462086335.py:17: DeprecationWarning: In a future version, `df.iloc[:, i] = newvals` will attempt to set the values inplace instead of always setting a new array. To retain the old behavior, use either `df[df.columns[i]] = newvals` or, if columns are non-unique, `df.isetitem(i, newvals)`\n",
      "  data_dict[file_key].loc[:, 0:days-1] = data_dict[file_key].loc[:, 0:days-1].astype(float)\n"
     ]
    },
    {
     "name": "stdout",
     "output_type": "stream",
     "text": [
      "done 20211028.pkl\n"
     ]
    },
    {
     "name": "stderr",
     "output_type": "stream",
     "text": [
      "C:\\Users\\user\\AppData\\Local\\Temp\\ipykernel_27636\\1462086335.py:17: DeprecationWarning: In a future version, `df.iloc[:, i] = newvals` will attempt to set the values inplace instead of always setting a new array. To retain the old behavior, use either `df[df.columns[i]] = newvals` or, if columns are non-unique, `df.isetitem(i, newvals)`\n",
      "  data_dict[file_key].loc[:, 0:days-1] = data_dict[file_key].loc[:, 0:days-1].astype(float)\n"
     ]
    },
    {
     "name": "stdout",
     "output_type": "stream",
     "text": [
      "done 20211029.pkl\n",
      "done 20211101.pkl\n"
     ]
    },
    {
     "name": "stderr",
     "output_type": "stream",
     "text": [
      "C:\\Users\\user\\AppData\\Local\\Temp\\ipykernel_27636\\1462086335.py:17: DeprecationWarning: In a future version, `df.iloc[:, i] = newvals` will attempt to set the values inplace instead of always setting a new array. To retain the old behavior, use either `df[df.columns[i]] = newvals` or, if columns are non-unique, `df.isetitem(i, newvals)`\n",
      "  data_dict[file_key].loc[:, 0:days-1] = data_dict[file_key].loc[:, 0:days-1].astype(float)\n",
      "C:\\Users\\user\\AppData\\Local\\Temp\\ipykernel_27636\\1462086335.py:17: DeprecationWarning: In a future version, `df.iloc[:, i] = newvals` will attempt to set the values inplace instead of always setting a new array. To retain the old behavior, use either `df[df.columns[i]] = newvals` or, if columns are non-unique, `df.isetitem(i, newvals)`\n",
      "  data_dict[file_key].loc[:, 0:days-1] = data_dict[file_key].loc[:, 0:days-1].astype(float)\n"
     ]
    },
    {
     "name": "stdout",
     "output_type": "stream",
     "text": [
      "done 20211102.pkl\n",
      "done 20211103.pkl\n",
      "done 20211104.pkl\n"
     ]
    },
    {
     "name": "stderr",
     "output_type": "stream",
     "text": [
      "C:\\Users\\user\\AppData\\Local\\Temp\\ipykernel_27636\\1462086335.py:17: DeprecationWarning: In a future version, `df.iloc[:, i] = newvals` will attempt to set the values inplace instead of always setting a new array. To retain the old behavior, use either `df[df.columns[i]] = newvals` or, if columns are non-unique, `df.isetitem(i, newvals)`\n",
      "  data_dict[file_key].loc[:, 0:days-1] = data_dict[file_key].loc[:, 0:days-1].astype(float)\n",
      "C:\\Users\\user\\AppData\\Local\\Temp\\ipykernel_27636\\1462086335.py:17: DeprecationWarning: In a future version, `df.iloc[:, i] = newvals` will attempt to set the values inplace instead of always setting a new array. To retain the old behavior, use either `df[df.columns[i]] = newvals` or, if columns are non-unique, `df.isetitem(i, newvals)`\n",
      "  data_dict[file_key].loc[:, 0:days-1] = data_dict[file_key].loc[:, 0:days-1].astype(float)\n",
      "C:\\Users\\user\\AppData\\Local\\Temp\\ipykernel_27636\\1462086335.py:17: DeprecationWarning: In a future version, `df.iloc[:, i] = newvals` will attempt to set the values inplace instead of always setting a new array. To retain the old behavior, use either `df[df.columns[i]] = newvals` or, if columns are non-unique, `df.isetitem(i, newvals)`\n",
      "  data_dict[file_key].loc[:, 0:days-1] = data_dict[file_key].loc[:, 0:days-1].astype(float)\n"
     ]
    },
    {
     "name": "stdout",
     "output_type": "stream",
     "text": [
      "done 20211105.pkl\n",
      "done 20211108.pkl\n"
     ]
    },
    {
     "name": "stderr",
     "output_type": "stream",
     "text": [
      "C:\\Users\\user\\AppData\\Local\\Temp\\ipykernel_27636\\1462086335.py:17: DeprecationWarning: In a future version, `df.iloc[:, i] = newvals` will attempt to set the values inplace instead of always setting a new array. To retain the old behavior, use either `df[df.columns[i]] = newvals` or, if columns are non-unique, `df.isetitem(i, newvals)`\n",
      "  data_dict[file_key].loc[:, 0:days-1] = data_dict[file_key].loc[:, 0:days-1].astype(float)\n",
      "C:\\Users\\user\\AppData\\Local\\Temp\\ipykernel_27636\\1462086335.py:17: DeprecationWarning: In a future version, `df.iloc[:, i] = newvals` will attempt to set the values inplace instead of always setting a new array. To retain the old behavior, use either `df[df.columns[i]] = newvals` or, if columns are non-unique, `df.isetitem(i, newvals)`\n",
      "  data_dict[file_key].loc[:, 0:days-1] = data_dict[file_key].loc[:, 0:days-1].astype(float)\n"
     ]
    },
    {
     "name": "stdout",
     "output_type": "stream",
     "text": [
      "done 20211109.pkl\n",
      "done 20211110.pkl\n"
     ]
    },
    {
     "name": "stderr",
     "output_type": "stream",
     "text": [
      "C:\\Users\\user\\AppData\\Local\\Temp\\ipykernel_27636\\1462086335.py:17: DeprecationWarning: In a future version, `df.iloc[:, i] = newvals` will attempt to set the values inplace instead of always setting a new array. To retain the old behavior, use either `df[df.columns[i]] = newvals` or, if columns are non-unique, `df.isetitem(i, newvals)`\n",
      "  data_dict[file_key].loc[:, 0:days-1] = data_dict[file_key].loc[:, 0:days-1].astype(float)\n",
      "C:\\Users\\user\\AppData\\Local\\Temp\\ipykernel_27636\\1462086335.py:17: DeprecationWarning: In a future version, `df.iloc[:, i] = newvals` will attempt to set the values inplace instead of always setting a new array. To retain the old behavior, use either `df[df.columns[i]] = newvals` or, if columns are non-unique, `df.isetitem(i, newvals)`\n",
      "  data_dict[file_key].loc[:, 0:days-1] = data_dict[file_key].loc[:, 0:days-1].astype(float)\n"
     ]
    },
    {
     "name": "stdout",
     "output_type": "stream",
     "text": [
      "done 20211111.pkl\n",
      "done 20211112.pkl\n"
     ]
    },
    {
     "name": "stderr",
     "output_type": "stream",
     "text": [
      "C:\\Users\\user\\AppData\\Local\\Temp\\ipykernel_27636\\1462086335.py:17: DeprecationWarning: In a future version, `df.iloc[:, i] = newvals` will attempt to set the values inplace instead of always setting a new array. To retain the old behavior, use either `df[df.columns[i]] = newvals` or, if columns are non-unique, `df.isetitem(i, newvals)`\n",
      "  data_dict[file_key].loc[:, 0:days-1] = data_dict[file_key].loc[:, 0:days-1].astype(float)\n",
      "C:\\Users\\user\\AppData\\Local\\Temp\\ipykernel_27636\\1462086335.py:17: DeprecationWarning: In a future version, `df.iloc[:, i] = newvals` will attempt to set the values inplace instead of always setting a new array. To retain the old behavior, use either `df[df.columns[i]] = newvals` or, if columns are non-unique, `df.isetitem(i, newvals)`\n",
      "  data_dict[file_key].loc[:, 0:days-1] = data_dict[file_key].loc[:, 0:days-1].astype(float)\n"
     ]
    },
    {
     "name": "stdout",
     "output_type": "stream",
     "text": [
      "done 20211115.pkl\n",
      "done 20211116.pkl\n"
     ]
    },
    {
     "name": "stderr",
     "output_type": "stream",
     "text": [
      "C:\\Users\\user\\AppData\\Local\\Temp\\ipykernel_27636\\1462086335.py:17: DeprecationWarning: In a future version, `df.iloc[:, i] = newvals` will attempt to set the values inplace instead of always setting a new array. To retain the old behavior, use either `df[df.columns[i]] = newvals` or, if columns are non-unique, `df.isetitem(i, newvals)`\n",
      "  data_dict[file_key].loc[:, 0:days-1] = data_dict[file_key].loc[:, 0:days-1].astype(float)\n",
      "C:\\Users\\user\\AppData\\Local\\Temp\\ipykernel_27636\\1462086335.py:17: DeprecationWarning: In a future version, `df.iloc[:, i] = newvals` will attempt to set the values inplace instead of always setting a new array. To retain the old behavior, use either `df[df.columns[i]] = newvals` or, if columns are non-unique, `df.isetitem(i, newvals)`\n",
      "  data_dict[file_key].loc[:, 0:days-1] = data_dict[file_key].loc[:, 0:days-1].astype(float)\n"
     ]
    },
    {
     "name": "stdout",
     "output_type": "stream",
     "text": [
      "done 20211117.pkl\n",
      "done 20211118.pkl\n",
      "done 20211119.pkl\n",
      "done 20211122.pkl\n"
     ]
    },
    {
     "name": "stderr",
     "output_type": "stream",
     "text": [
      "C:\\Users\\user\\AppData\\Local\\Temp\\ipykernel_27636\\1462086335.py:17: DeprecationWarning: In a future version, `df.iloc[:, i] = newvals` will attempt to set the values inplace instead of always setting a new array. To retain the old behavior, use either `df[df.columns[i]] = newvals` or, if columns are non-unique, `df.isetitem(i, newvals)`\n",
      "  data_dict[file_key].loc[:, 0:days-1] = data_dict[file_key].loc[:, 0:days-1].astype(float)\n",
      "C:\\Users\\user\\AppData\\Local\\Temp\\ipykernel_27636\\1462086335.py:17: DeprecationWarning: In a future version, `df.iloc[:, i] = newvals` will attempt to set the values inplace instead of always setting a new array. To retain the old behavior, use either `df[df.columns[i]] = newvals` or, if columns are non-unique, `df.isetitem(i, newvals)`\n",
      "  data_dict[file_key].loc[:, 0:days-1] = data_dict[file_key].loc[:, 0:days-1].astype(float)\n",
      "C:\\Users\\user\\AppData\\Local\\Temp\\ipykernel_27636\\1462086335.py:17: DeprecationWarning: In a future version, `df.iloc[:, i] = newvals` will attempt to set the values inplace instead of always setting a new array. To retain the old behavior, use either `df[df.columns[i]] = newvals` or, if columns are non-unique, `df.isetitem(i, newvals)`\n",
      "  data_dict[file_key].loc[:, 0:days-1] = data_dict[file_key].loc[:, 0:days-1].astype(float)\n",
      "C:\\Users\\user\\AppData\\Local\\Temp\\ipykernel_27636\\1462086335.py:17: DeprecationWarning: In a future version, `df.iloc[:, i] = newvals` will attempt to set the values inplace instead of always setting a new array. To retain the old behavior, use either `df[df.columns[i]] = newvals` or, if columns are non-unique, `df.isetitem(i, newvals)`\n",
      "  data_dict[file_key].loc[:, 0:days-1] = data_dict[file_key].loc[:, 0:days-1].astype(float)\n"
     ]
    },
    {
     "name": "stdout",
     "output_type": "stream",
     "text": [
      "done 20211123.pkl\n",
      "done 20211124.pkl\n",
      "done 20211125.pkl\n"
     ]
    },
    {
     "name": "stderr",
     "output_type": "stream",
     "text": [
      "C:\\Users\\user\\AppData\\Local\\Temp\\ipykernel_27636\\1462086335.py:17: DeprecationWarning: In a future version, `df.iloc[:, i] = newvals` will attempt to set the values inplace instead of always setting a new array. To retain the old behavior, use either `df[df.columns[i]] = newvals` or, if columns are non-unique, `df.isetitem(i, newvals)`\n",
      "  data_dict[file_key].loc[:, 0:days-1] = data_dict[file_key].loc[:, 0:days-1].astype(float)\n",
      "C:\\Users\\user\\AppData\\Local\\Temp\\ipykernel_27636\\1462086335.py:17: DeprecationWarning: In a future version, `df.iloc[:, i] = newvals` will attempt to set the values inplace instead of always setting a new array. To retain the old behavior, use either `df[df.columns[i]] = newvals` or, if columns are non-unique, `df.isetitem(i, newvals)`\n",
      "  data_dict[file_key].loc[:, 0:days-1] = data_dict[file_key].loc[:, 0:days-1].astype(float)\n",
      "C:\\Users\\user\\AppData\\Local\\Temp\\ipykernel_27636\\1462086335.py:17: DeprecationWarning: In a future version, `df.iloc[:, i] = newvals` will attempt to set the values inplace instead of always setting a new array. To retain the old behavior, use either `df[df.columns[i]] = newvals` or, if columns are non-unique, `df.isetitem(i, newvals)`\n",
      "  data_dict[file_key].loc[:, 0:days-1] = data_dict[file_key].loc[:, 0:days-1].astype(float)\n"
     ]
    },
    {
     "name": "stdout",
     "output_type": "stream",
     "text": [
      "done 20211126.pkl\n",
      "done 20211129.pkl\n",
      "done 20211130.pkl\n",
      "done 20211201.pkl\n"
     ]
    },
    {
     "name": "stderr",
     "output_type": "stream",
     "text": [
      "C:\\Users\\user\\AppData\\Local\\Temp\\ipykernel_27636\\1462086335.py:17: DeprecationWarning: In a future version, `df.iloc[:, i] = newvals` will attempt to set the values inplace instead of always setting a new array. To retain the old behavior, use either `df[df.columns[i]] = newvals` or, if columns are non-unique, `df.isetitem(i, newvals)`\n",
      "  data_dict[file_key].loc[:, 0:days-1] = data_dict[file_key].loc[:, 0:days-1].astype(float)\n",
      "C:\\Users\\user\\AppData\\Local\\Temp\\ipykernel_27636\\1462086335.py:17: DeprecationWarning: In a future version, `df.iloc[:, i] = newvals` will attempt to set the values inplace instead of always setting a new array. To retain the old behavior, use either `df[df.columns[i]] = newvals` or, if columns are non-unique, `df.isetitem(i, newvals)`\n",
      "  data_dict[file_key].loc[:, 0:days-1] = data_dict[file_key].loc[:, 0:days-1].astype(float)\n",
      "C:\\Users\\user\\AppData\\Local\\Temp\\ipykernel_27636\\1462086335.py:17: DeprecationWarning: In a future version, `df.iloc[:, i] = newvals` will attempt to set the values inplace instead of always setting a new array. To retain the old behavior, use either `df[df.columns[i]] = newvals` or, if columns are non-unique, `df.isetitem(i, newvals)`\n",
      "  data_dict[file_key].loc[:, 0:days-1] = data_dict[file_key].loc[:, 0:days-1].astype(float)\n",
      "C:\\Users\\user\\AppData\\Local\\Temp\\ipykernel_27636\\1462086335.py:17: DeprecationWarning: In a future version, `df.iloc[:, i] = newvals` will attempt to set the values inplace instead of always setting a new array. To retain the old behavior, use either `df[df.columns[i]] = newvals` or, if columns are non-unique, `df.isetitem(i, newvals)`\n",
      "  data_dict[file_key].loc[:, 0:days-1] = data_dict[file_key].loc[:, 0:days-1].astype(float)\n"
     ]
    },
    {
     "name": "stdout",
     "output_type": "stream",
     "text": [
      "done 20211202.pkl\n",
      "done 20211203.pkl\n",
      "done 20211206.pkl\n",
      "done 20211207.pkl\n",
      "done 20211208.pkl\n",
      "done 20211209.pkl\n",
      "done 20211210.pkl\n"
     ]
    },
    {
     "name": "stderr",
     "output_type": "stream",
     "text": [
      "C:\\Users\\user\\AppData\\Local\\Temp\\ipykernel_27636\\1462086335.py:17: DeprecationWarning: In a future version, `df.iloc[:, i] = newvals` will attempt to set the values inplace instead of always setting a new array. To retain the old behavior, use either `df[df.columns[i]] = newvals` or, if columns are non-unique, `df.isetitem(i, newvals)`\n",
      "  data_dict[file_key].loc[:, 0:days-1] = data_dict[file_key].loc[:, 0:days-1].astype(float)\n",
      "C:\\Users\\user\\AppData\\Local\\Temp\\ipykernel_27636\\1462086335.py:17: DeprecationWarning: In a future version, `df.iloc[:, i] = newvals` will attempt to set the values inplace instead of always setting a new array. To retain the old behavior, use either `df[df.columns[i]] = newvals` or, if columns are non-unique, `df.isetitem(i, newvals)`\n",
      "  data_dict[file_key].loc[:, 0:days-1] = data_dict[file_key].loc[:, 0:days-1].astype(float)\n",
      "C:\\Users\\user\\AppData\\Local\\Temp\\ipykernel_27636\\1462086335.py:17: DeprecationWarning: In a future version, `df.iloc[:, i] = newvals` will attempt to set the values inplace instead of always setting a new array. To retain the old behavior, use either `df[df.columns[i]] = newvals` or, if columns are non-unique, `df.isetitem(i, newvals)`\n",
      "  data_dict[file_key].loc[:, 0:days-1] = data_dict[file_key].loc[:, 0:days-1].astype(float)\n",
      "C:\\Users\\user\\AppData\\Local\\Temp\\ipykernel_27636\\1462086335.py:17: DeprecationWarning: In a future version, `df.iloc[:, i] = newvals` will attempt to set the values inplace instead of always setting a new array. To retain the old behavior, use either `df[df.columns[i]] = newvals` or, if columns are non-unique, `df.isetitem(i, newvals)`\n",
      "  data_dict[file_key].loc[:, 0:days-1] = data_dict[file_key].loc[:, 0:days-1].astype(float)\n",
      "C:\\Users\\user\\AppData\\Local\\Temp\\ipykernel_27636\\1462086335.py:17: DeprecationWarning: In a future version, `df.iloc[:, i] = newvals` will attempt to set the values inplace instead of always setting a new array. To retain the old behavior, use either `df[df.columns[i]] = newvals` or, if columns are non-unique, `df.isetitem(i, newvals)`\n",
      "  data_dict[file_key].loc[:, 0:days-1] = data_dict[file_key].loc[:, 0:days-1].astype(float)\n",
      "C:\\Users\\user\\AppData\\Local\\Temp\\ipykernel_27636\\1462086335.py:17: DeprecationWarning: In a future version, `df.iloc[:, i] = newvals` will attempt to set the values inplace instead of always setting a new array. To retain the old behavior, use either `df[df.columns[i]] = newvals` or, if columns are non-unique, `df.isetitem(i, newvals)`\n",
      "  data_dict[file_key].loc[:, 0:days-1] = data_dict[file_key].loc[:, 0:days-1].astype(float)\n",
      "C:\\Users\\user\\AppData\\Local\\Temp\\ipykernel_27636\\1462086335.py:17: DeprecationWarning: In a future version, `df.iloc[:, i] = newvals` will attempt to set the values inplace instead of always setting a new array. To retain the old behavior, use either `df[df.columns[i]] = newvals` or, if columns are non-unique, `df.isetitem(i, newvals)`\n",
      "  data_dict[file_key].loc[:, 0:days-1] = data_dict[file_key].loc[:, 0:days-1].astype(float)\n"
     ]
    },
    {
     "name": "stdout",
     "output_type": "stream",
     "text": [
      "done 20211213.pkl\n",
      "done 20211214.pkl\n",
      "done 20211215.pkl\n",
      "done 20211216.pkl\n",
      "done 20211217.pkl\n",
      "done 20211220.pkl\n",
      "done 20211221.pkl\n"
     ]
    },
    {
     "name": "stderr",
     "output_type": "stream",
     "text": [
      "C:\\Users\\user\\AppData\\Local\\Temp\\ipykernel_27636\\1462086335.py:17: DeprecationWarning: In a future version, `df.iloc[:, i] = newvals` will attempt to set the values inplace instead of always setting a new array. To retain the old behavior, use either `df[df.columns[i]] = newvals` or, if columns are non-unique, `df.isetitem(i, newvals)`\n",
      "  data_dict[file_key].loc[:, 0:days-1] = data_dict[file_key].loc[:, 0:days-1].astype(float)\n",
      "C:\\Users\\user\\AppData\\Local\\Temp\\ipykernel_27636\\1462086335.py:17: DeprecationWarning: In a future version, `df.iloc[:, i] = newvals` will attempt to set the values inplace instead of always setting a new array. To retain the old behavior, use either `df[df.columns[i]] = newvals` or, if columns are non-unique, `df.isetitem(i, newvals)`\n",
      "  data_dict[file_key].loc[:, 0:days-1] = data_dict[file_key].loc[:, 0:days-1].astype(float)\n",
      "C:\\Users\\user\\AppData\\Local\\Temp\\ipykernel_27636\\1462086335.py:17: DeprecationWarning: In a future version, `df.iloc[:, i] = newvals` will attempt to set the values inplace instead of always setting a new array. To retain the old behavior, use either `df[df.columns[i]] = newvals` or, if columns are non-unique, `df.isetitem(i, newvals)`\n",
      "  data_dict[file_key].loc[:, 0:days-1] = data_dict[file_key].loc[:, 0:days-1].astype(float)\n",
      "C:\\Users\\user\\AppData\\Local\\Temp\\ipykernel_27636\\1462086335.py:17: DeprecationWarning: In a future version, `df.iloc[:, i] = newvals` will attempt to set the values inplace instead of always setting a new array. To retain the old behavior, use either `df[df.columns[i]] = newvals` or, if columns are non-unique, `df.isetitem(i, newvals)`\n",
      "  data_dict[file_key].loc[:, 0:days-1] = data_dict[file_key].loc[:, 0:days-1].astype(float)\n",
      "C:\\Users\\user\\AppData\\Local\\Temp\\ipykernel_27636\\1462086335.py:17: DeprecationWarning: In a future version, `df.iloc[:, i] = newvals` will attempt to set the values inplace instead of always setting a new array. To retain the old behavior, use either `df[df.columns[i]] = newvals` or, if columns are non-unique, `df.isetitem(i, newvals)`\n",
      "  data_dict[file_key].loc[:, 0:days-1] = data_dict[file_key].loc[:, 0:days-1].astype(float)\n",
      "C:\\Users\\user\\AppData\\Local\\Temp\\ipykernel_27636\\1462086335.py:17: DeprecationWarning: In a future version, `df.iloc[:, i] = newvals` will attempt to set the values inplace instead of always setting a new array. To retain the old behavior, use either `df[df.columns[i]] = newvals` or, if columns are non-unique, `df.isetitem(i, newvals)`\n",
      "  data_dict[file_key].loc[:, 0:days-1] = data_dict[file_key].loc[:, 0:days-1].astype(float)\n",
      "C:\\Users\\user\\AppData\\Local\\Temp\\ipykernel_27636\\1462086335.py:17: DeprecationWarning: In a future version, `df.iloc[:, i] = newvals` will attempt to set the values inplace instead of always setting a new array. To retain the old behavior, use either `df[df.columns[i]] = newvals` or, if columns are non-unique, `df.isetitem(i, newvals)`\n",
      "  data_dict[file_key].loc[:, 0:days-1] = data_dict[file_key].loc[:, 0:days-1].astype(float)\n"
     ]
    },
    {
     "name": "stdout",
     "output_type": "stream",
     "text": [
      "done 20211222.pkl\n",
      "done 20211223.pkl\n",
      "done 20211224.pkl\n",
      "done 20211227.pkl\n",
      "done 20211228.pkl\n",
      "done 20211229.pkl\n",
      "done 20211230.pkl\n"
     ]
    },
    {
     "name": "stderr",
     "output_type": "stream",
     "text": [
      "C:\\Users\\user\\AppData\\Local\\Temp\\ipykernel_27636\\1462086335.py:17: DeprecationWarning: In a future version, `df.iloc[:, i] = newvals` will attempt to set the values inplace instead of always setting a new array. To retain the old behavior, use either `df[df.columns[i]] = newvals` or, if columns are non-unique, `df.isetitem(i, newvals)`\n",
      "  data_dict[file_key].loc[:, 0:days-1] = data_dict[file_key].loc[:, 0:days-1].astype(float)\n",
      "C:\\Users\\user\\AppData\\Local\\Temp\\ipykernel_27636\\1462086335.py:17: DeprecationWarning: In a future version, `df.iloc[:, i] = newvals` will attempt to set the values inplace instead of always setting a new array. To retain the old behavior, use either `df[df.columns[i]] = newvals` or, if columns are non-unique, `df.isetitem(i, newvals)`\n",
      "  data_dict[file_key].loc[:, 0:days-1] = data_dict[file_key].loc[:, 0:days-1].astype(float)\n",
      "C:\\Users\\user\\AppData\\Local\\Temp\\ipykernel_27636\\1462086335.py:17: DeprecationWarning: In a future version, `df.iloc[:, i] = newvals` will attempt to set the values inplace instead of always setting a new array. To retain the old behavior, use either `df[df.columns[i]] = newvals` or, if columns are non-unique, `df.isetitem(i, newvals)`\n",
      "  data_dict[file_key].loc[:, 0:days-1] = data_dict[file_key].loc[:, 0:days-1].astype(float)\n",
      "C:\\Users\\user\\AppData\\Local\\Temp\\ipykernel_27636\\1462086335.py:17: DeprecationWarning: In a future version, `df.iloc[:, i] = newvals` will attempt to set the values inplace instead of always setting a new array. To retain the old behavior, use either `df[df.columns[i]] = newvals` or, if columns are non-unique, `df.isetitem(i, newvals)`\n",
      "  data_dict[file_key].loc[:, 0:days-1] = data_dict[file_key].loc[:, 0:days-1].astype(float)\n",
      "C:\\Users\\user\\AppData\\Local\\Temp\\ipykernel_27636\\1462086335.py:17: DeprecationWarning: In a future version, `df.iloc[:, i] = newvals` will attempt to set the values inplace instead of always setting a new array. To retain the old behavior, use either `df[df.columns[i]] = newvals` or, if columns are non-unique, `df.isetitem(i, newvals)`\n",
      "  data_dict[file_key].loc[:, 0:days-1] = data_dict[file_key].loc[:, 0:days-1].astype(float)\n",
      "C:\\Users\\user\\AppData\\Local\\Temp\\ipykernel_27636\\1462086335.py:17: DeprecationWarning: In a future version, `df.iloc[:, i] = newvals` will attempt to set the values inplace instead of always setting a new array. To retain the old behavior, use either `df[df.columns[i]] = newvals` or, if columns are non-unique, `df.isetitem(i, newvals)`\n",
      "  data_dict[file_key].loc[:, 0:days-1] = data_dict[file_key].loc[:, 0:days-1].astype(float)\n",
      "C:\\Users\\user\\AppData\\Local\\Temp\\ipykernel_27636\\1462086335.py:17: DeprecationWarning: In a future version, `df.iloc[:, i] = newvals` will attempt to set the values inplace instead of always setting a new array. To retain the old behavior, use either `df[df.columns[i]] = newvals` or, if columns are non-unique, `df.isetitem(i, newvals)`\n",
      "  data_dict[file_key].loc[:, 0:days-1] = data_dict[file_key].loc[:, 0:days-1].astype(float)\n"
     ]
    },
    {
     "name": "stdout",
     "output_type": "stream",
     "text": [
      "done 20220103.pkl\n",
      "done 20220104.pkl\n",
      "done 20220105.pkl\n",
      "done 20220106.pkl\n"
     ]
    },
    {
     "name": "stderr",
     "output_type": "stream",
     "text": [
      "C:\\Users\\user\\AppData\\Local\\Temp\\ipykernel_27636\\1462086335.py:17: DeprecationWarning: In a future version, `df.iloc[:, i] = newvals` will attempt to set the values inplace instead of always setting a new array. To retain the old behavior, use either `df[df.columns[i]] = newvals` or, if columns are non-unique, `df.isetitem(i, newvals)`\n",
      "  data_dict[file_key].loc[:, 0:days-1] = data_dict[file_key].loc[:, 0:days-1].astype(float)\n",
      "C:\\Users\\user\\AppData\\Local\\Temp\\ipykernel_27636\\1462086335.py:17: DeprecationWarning: In a future version, `df.iloc[:, i] = newvals` will attempt to set the values inplace instead of always setting a new array. To retain the old behavior, use either `df[df.columns[i]] = newvals` or, if columns are non-unique, `df.isetitem(i, newvals)`\n",
      "  data_dict[file_key].loc[:, 0:days-1] = data_dict[file_key].loc[:, 0:days-1].astype(float)\n",
      "C:\\Users\\user\\AppData\\Local\\Temp\\ipykernel_27636\\1462086335.py:17: DeprecationWarning: In a future version, `df.iloc[:, i] = newvals` will attempt to set the values inplace instead of always setting a new array. To retain the old behavior, use either `df[df.columns[i]] = newvals` or, if columns are non-unique, `df.isetitem(i, newvals)`\n",
      "  data_dict[file_key].loc[:, 0:days-1] = data_dict[file_key].loc[:, 0:days-1].astype(float)\n",
      "C:\\Users\\user\\AppData\\Local\\Temp\\ipykernel_27636\\1462086335.py:17: DeprecationWarning: In a future version, `df.iloc[:, i] = newvals` will attempt to set the values inplace instead of always setting a new array. To retain the old behavior, use either `df[df.columns[i]] = newvals` or, if columns are non-unique, `df.isetitem(i, newvals)`\n",
      "  data_dict[file_key].loc[:, 0:days-1] = data_dict[file_key].loc[:, 0:days-1].astype(float)\n"
     ]
    },
    {
     "name": "stdout",
     "output_type": "stream",
     "text": [
      "done 20220107.pkl\n",
      "done 20220110.pkl\n",
      "done 20220111.pkl\n"
     ]
    },
    {
     "name": "stderr",
     "output_type": "stream",
     "text": [
      "C:\\Users\\user\\AppData\\Local\\Temp\\ipykernel_27636\\1462086335.py:17: DeprecationWarning: In a future version, `df.iloc[:, i] = newvals` will attempt to set the values inplace instead of always setting a new array. To retain the old behavior, use either `df[df.columns[i]] = newvals` or, if columns are non-unique, `df.isetitem(i, newvals)`\n",
      "  data_dict[file_key].loc[:, 0:days-1] = data_dict[file_key].loc[:, 0:days-1].astype(float)\n",
      "C:\\Users\\user\\AppData\\Local\\Temp\\ipykernel_27636\\1462086335.py:17: DeprecationWarning: In a future version, `df.iloc[:, i] = newvals` will attempt to set the values inplace instead of always setting a new array. To retain the old behavior, use either `df[df.columns[i]] = newvals` or, if columns are non-unique, `df.isetitem(i, newvals)`\n",
      "  data_dict[file_key].loc[:, 0:days-1] = data_dict[file_key].loc[:, 0:days-1].astype(float)\n",
      "C:\\Users\\user\\AppData\\Local\\Temp\\ipykernel_27636\\1462086335.py:17: DeprecationWarning: In a future version, `df.iloc[:, i] = newvals` will attempt to set the values inplace instead of always setting a new array. To retain the old behavior, use either `df[df.columns[i]] = newvals` or, if columns are non-unique, `df.isetitem(i, newvals)`\n",
      "  data_dict[file_key].loc[:, 0:days-1] = data_dict[file_key].loc[:, 0:days-1].astype(float)\n"
     ]
    },
    {
     "name": "stdout",
     "output_type": "stream",
     "text": [
      "done 20220112.pkl\n",
      "done 20220113.pkl\n",
      "done 20220114.pkl\n"
     ]
    },
    {
     "name": "stderr",
     "output_type": "stream",
     "text": [
      "C:\\Users\\user\\AppData\\Local\\Temp\\ipykernel_27636\\1462086335.py:17: DeprecationWarning: In a future version, `df.iloc[:, i] = newvals` will attempt to set the values inplace instead of always setting a new array. To retain the old behavior, use either `df[df.columns[i]] = newvals` or, if columns are non-unique, `df.isetitem(i, newvals)`\n",
      "  data_dict[file_key].loc[:, 0:days-1] = data_dict[file_key].loc[:, 0:days-1].astype(float)\n",
      "C:\\Users\\user\\AppData\\Local\\Temp\\ipykernel_27636\\1462086335.py:17: DeprecationWarning: In a future version, `df.iloc[:, i] = newvals` will attempt to set the values inplace instead of always setting a new array. To retain the old behavior, use either `df[df.columns[i]] = newvals` or, if columns are non-unique, `df.isetitem(i, newvals)`\n",
      "  data_dict[file_key].loc[:, 0:days-1] = data_dict[file_key].loc[:, 0:days-1].astype(float)\n",
      "C:\\Users\\user\\AppData\\Local\\Temp\\ipykernel_27636\\1462086335.py:17: DeprecationWarning: In a future version, `df.iloc[:, i] = newvals` will attempt to set the values inplace instead of always setting a new array. To retain the old behavior, use either `df[df.columns[i]] = newvals` or, if columns are non-unique, `df.isetitem(i, newvals)`\n",
      "  data_dict[file_key].loc[:, 0:days-1] = data_dict[file_key].loc[:, 0:days-1].astype(float)\n"
     ]
    },
    {
     "name": "stdout",
     "output_type": "stream",
     "text": [
      "done 20220117.pkl\n",
      "done 20220118.pkl\n",
      "done 20220119.pkl\n"
     ]
    },
    {
     "name": "stderr",
     "output_type": "stream",
     "text": [
      "C:\\Users\\user\\AppData\\Local\\Temp\\ipykernel_27636\\1462086335.py:17: DeprecationWarning: In a future version, `df.iloc[:, i] = newvals` will attempt to set the values inplace instead of always setting a new array. To retain the old behavior, use either `df[df.columns[i]] = newvals` or, if columns are non-unique, `df.isetitem(i, newvals)`\n",
      "  data_dict[file_key].loc[:, 0:days-1] = data_dict[file_key].loc[:, 0:days-1].astype(float)\n",
      "C:\\Users\\user\\AppData\\Local\\Temp\\ipykernel_27636\\1462086335.py:17: DeprecationWarning: In a future version, `df.iloc[:, i] = newvals` will attempt to set the values inplace instead of always setting a new array. To retain the old behavior, use either `df[df.columns[i]] = newvals` or, if columns are non-unique, `df.isetitem(i, newvals)`\n",
      "  data_dict[file_key].loc[:, 0:days-1] = data_dict[file_key].loc[:, 0:days-1].astype(float)\n",
      "C:\\Users\\user\\AppData\\Local\\Temp\\ipykernel_27636\\1462086335.py:17: DeprecationWarning: In a future version, `df.iloc[:, i] = newvals` will attempt to set the values inplace instead of always setting a new array. To retain the old behavior, use either `df[df.columns[i]] = newvals` or, if columns are non-unique, `df.isetitem(i, newvals)`\n",
      "  data_dict[file_key].loc[:, 0:days-1] = data_dict[file_key].loc[:, 0:days-1].astype(float)\n"
     ]
    },
    {
     "name": "stdout",
     "output_type": "stream",
     "text": [
      "done 20220120.pkl\n",
      "done 20220121.pkl\n",
      "done 20220124.pkl\n",
      "done 20220125.pkl\n"
     ]
    },
    {
     "name": "stderr",
     "output_type": "stream",
     "text": [
      "C:\\Users\\user\\AppData\\Local\\Temp\\ipykernel_27636\\1462086335.py:17: DeprecationWarning: In a future version, `df.iloc[:, i] = newvals` will attempt to set the values inplace instead of always setting a new array. To retain the old behavior, use either `df[df.columns[i]] = newvals` or, if columns are non-unique, `df.isetitem(i, newvals)`\n",
      "  data_dict[file_key].loc[:, 0:days-1] = data_dict[file_key].loc[:, 0:days-1].astype(float)\n",
      "C:\\Users\\user\\AppData\\Local\\Temp\\ipykernel_27636\\1462086335.py:17: DeprecationWarning: In a future version, `df.iloc[:, i] = newvals` will attempt to set the values inplace instead of always setting a new array. To retain the old behavior, use either `df[df.columns[i]] = newvals` or, if columns are non-unique, `df.isetitem(i, newvals)`\n",
      "  data_dict[file_key].loc[:, 0:days-1] = data_dict[file_key].loc[:, 0:days-1].astype(float)\n",
      "C:\\Users\\user\\AppData\\Local\\Temp\\ipykernel_27636\\1462086335.py:17: DeprecationWarning: In a future version, `df.iloc[:, i] = newvals` will attempt to set the values inplace instead of always setting a new array. To retain the old behavior, use either `df[df.columns[i]] = newvals` or, if columns are non-unique, `df.isetitem(i, newvals)`\n",
      "  data_dict[file_key].loc[:, 0:days-1] = data_dict[file_key].loc[:, 0:days-1].astype(float)\n",
      "C:\\Users\\user\\AppData\\Local\\Temp\\ipykernel_27636\\1462086335.py:17: DeprecationWarning: In a future version, `df.iloc[:, i] = newvals` will attempt to set the values inplace instead of always setting a new array. To retain the old behavior, use either `df[df.columns[i]] = newvals` or, if columns are non-unique, `df.isetitem(i, newvals)`\n",
      "  data_dict[file_key].loc[:, 0:days-1] = data_dict[file_key].loc[:, 0:days-1].astype(float)\n"
     ]
    },
    {
     "name": "stdout",
     "output_type": "stream",
     "text": [
      "done 20220126.pkl\n",
      "done 20220127.pkl\n"
     ]
    },
    {
     "name": "stderr",
     "output_type": "stream",
     "text": [
      "C:\\Users\\user\\AppData\\Local\\Temp\\ipykernel_27636\\1462086335.py:17: DeprecationWarning: In a future version, `df.iloc[:, i] = newvals` will attempt to set the values inplace instead of always setting a new array. To retain the old behavior, use either `df[df.columns[i]] = newvals` or, if columns are non-unique, `df.isetitem(i, newvals)`\n",
      "  data_dict[file_key].loc[:, 0:days-1] = data_dict[file_key].loc[:, 0:days-1].astype(float)\n",
      "C:\\Users\\user\\AppData\\Local\\Temp\\ipykernel_27636\\1462086335.py:17: DeprecationWarning: In a future version, `df.iloc[:, i] = newvals` will attempt to set the values inplace instead of always setting a new array. To retain the old behavior, use either `df[df.columns[i]] = newvals` or, if columns are non-unique, `df.isetitem(i, newvals)`\n",
      "  data_dict[file_key].loc[:, 0:days-1] = data_dict[file_key].loc[:, 0:days-1].astype(float)\n"
     ]
    },
    {
     "name": "stdout",
     "output_type": "stream",
     "text": [
      "done 20220128.pkl\n",
      "done 20220203.pkl\n",
      "done 20220204.pkl\n"
     ]
    },
    {
     "name": "stderr",
     "output_type": "stream",
     "text": [
      "C:\\Users\\user\\AppData\\Local\\Temp\\ipykernel_27636\\1462086335.py:17: DeprecationWarning: In a future version, `df.iloc[:, i] = newvals` will attempt to set the values inplace instead of always setting a new array. To retain the old behavior, use either `df[df.columns[i]] = newvals` or, if columns are non-unique, `df.isetitem(i, newvals)`\n",
      "  data_dict[file_key].loc[:, 0:days-1] = data_dict[file_key].loc[:, 0:days-1].astype(float)\n",
      "C:\\Users\\user\\AppData\\Local\\Temp\\ipykernel_27636\\1462086335.py:17: DeprecationWarning: In a future version, `df.iloc[:, i] = newvals` will attempt to set the values inplace instead of always setting a new array. To retain the old behavior, use either `df[df.columns[i]] = newvals` or, if columns are non-unique, `df.isetitem(i, newvals)`\n",
      "  data_dict[file_key].loc[:, 0:days-1] = data_dict[file_key].loc[:, 0:days-1].astype(float)\n",
      "C:\\Users\\user\\AppData\\Local\\Temp\\ipykernel_27636\\1462086335.py:17: DeprecationWarning: In a future version, `df.iloc[:, i] = newvals` will attempt to set the values inplace instead of always setting a new array. To retain the old behavior, use either `df[df.columns[i]] = newvals` or, if columns are non-unique, `df.isetitem(i, newvals)`\n",
      "  data_dict[file_key].loc[:, 0:days-1] = data_dict[file_key].loc[:, 0:days-1].astype(float)\n"
     ]
    },
    {
     "name": "stdout",
     "output_type": "stream",
     "text": [
      "done 20220207.pkl\n",
      "done 20220208.pkl\n"
     ]
    },
    {
     "name": "stderr",
     "output_type": "stream",
     "text": [
      "C:\\Users\\user\\AppData\\Local\\Temp\\ipykernel_27636\\1462086335.py:17: DeprecationWarning: In a future version, `df.iloc[:, i] = newvals` will attempt to set the values inplace instead of always setting a new array. To retain the old behavior, use either `df[df.columns[i]] = newvals` or, if columns are non-unique, `df.isetitem(i, newvals)`\n",
      "  data_dict[file_key].loc[:, 0:days-1] = data_dict[file_key].loc[:, 0:days-1].astype(float)\n",
      "C:\\Users\\user\\AppData\\Local\\Temp\\ipykernel_27636\\1462086335.py:17: DeprecationWarning: In a future version, `df.iloc[:, i] = newvals` will attempt to set the values inplace instead of always setting a new array. To retain the old behavior, use either `df[df.columns[i]] = newvals` or, if columns are non-unique, `df.isetitem(i, newvals)`\n",
      "  data_dict[file_key].loc[:, 0:days-1] = data_dict[file_key].loc[:, 0:days-1].astype(float)\n"
     ]
    },
    {
     "name": "stdout",
     "output_type": "stream",
     "text": [
      "done 20220209.pkl\n",
      "done 20220210.pkl\n"
     ]
    },
    {
     "name": "stderr",
     "output_type": "stream",
     "text": [
      "C:\\Users\\user\\AppData\\Local\\Temp\\ipykernel_27636\\1462086335.py:17: DeprecationWarning: In a future version, `df.iloc[:, i] = newvals` will attempt to set the values inplace instead of always setting a new array. To retain the old behavior, use either `df[df.columns[i]] = newvals` or, if columns are non-unique, `df.isetitem(i, newvals)`\n",
      "  data_dict[file_key].loc[:, 0:days-1] = data_dict[file_key].loc[:, 0:days-1].astype(float)\n",
      "C:\\Users\\user\\AppData\\Local\\Temp\\ipykernel_27636\\1462086335.py:17: DeprecationWarning: In a future version, `df.iloc[:, i] = newvals` will attempt to set the values inplace instead of always setting a new array. To retain the old behavior, use either `df[df.columns[i]] = newvals` or, if columns are non-unique, `df.isetitem(i, newvals)`\n",
      "  data_dict[file_key].loc[:, 0:days-1] = data_dict[file_key].loc[:, 0:days-1].astype(float)\n"
     ]
    },
    {
     "name": "stdout",
     "output_type": "stream",
     "text": [
      "done 20220211.pkl\n",
      "done 20220214.pkl\n",
      "done 20220215.pkl\n"
     ]
    },
    {
     "name": "stderr",
     "output_type": "stream",
     "text": [
      "C:\\Users\\user\\AppData\\Local\\Temp\\ipykernel_27636\\1462086335.py:17: DeprecationWarning: In a future version, `df.iloc[:, i] = newvals` will attempt to set the values inplace instead of always setting a new array. To retain the old behavior, use either `df[df.columns[i]] = newvals` or, if columns are non-unique, `df.isetitem(i, newvals)`\n",
      "  data_dict[file_key].loc[:, 0:days-1] = data_dict[file_key].loc[:, 0:days-1].astype(float)\n",
      "C:\\Users\\user\\AppData\\Local\\Temp\\ipykernel_27636\\1462086335.py:17: DeprecationWarning: In a future version, `df.iloc[:, i] = newvals` will attempt to set the values inplace instead of always setting a new array. To retain the old behavior, use either `df[df.columns[i]] = newvals` or, if columns are non-unique, `df.isetitem(i, newvals)`\n",
      "  data_dict[file_key].loc[:, 0:days-1] = data_dict[file_key].loc[:, 0:days-1].astype(float)\n",
      "C:\\Users\\user\\AppData\\Local\\Temp\\ipykernel_27636\\1462086335.py:17: DeprecationWarning: In a future version, `df.iloc[:, i] = newvals` will attempt to set the values inplace instead of always setting a new array. To retain the old behavior, use either `df[df.columns[i]] = newvals` or, if columns are non-unique, `df.isetitem(i, newvals)`\n",
      "  data_dict[file_key].loc[:, 0:days-1] = data_dict[file_key].loc[:, 0:days-1].astype(float)\n"
     ]
    },
    {
     "name": "stdout",
     "output_type": "stream",
     "text": [
      "done 20220216.pkl\n",
      "done 20220217.pkl\n",
      "done 20220218.pkl\n",
      "done 20220221.pkl\n"
     ]
    },
    {
     "name": "stderr",
     "output_type": "stream",
     "text": [
      "C:\\Users\\user\\AppData\\Local\\Temp\\ipykernel_27636\\1462086335.py:17: DeprecationWarning: In a future version, `df.iloc[:, i] = newvals` will attempt to set the values inplace instead of always setting a new array. To retain the old behavior, use either `df[df.columns[i]] = newvals` or, if columns are non-unique, `df.isetitem(i, newvals)`\n",
      "  data_dict[file_key].loc[:, 0:days-1] = data_dict[file_key].loc[:, 0:days-1].astype(float)\n",
      "C:\\Users\\user\\AppData\\Local\\Temp\\ipykernel_27636\\1462086335.py:17: DeprecationWarning: In a future version, `df.iloc[:, i] = newvals` will attempt to set the values inplace instead of always setting a new array. To retain the old behavior, use either `df[df.columns[i]] = newvals` or, if columns are non-unique, `df.isetitem(i, newvals)`\n",
      "  data_dict[file_key].loc[:, 0:days-1] = data_dict[file_key].loc[:, 0:days-1].astype(float)\n",
      "C:\\Users\\user\\AppData\\Local\\Temp\\ipykernel_27636\\1462086335.py:17: DeprecationWarning: In a future version, `df.iloc[:, i] = newvals` will attempt to set the values inplace instead of always setting a new array. To retain the old behavior, use either `df[df.columns[i]] = newvals` or, if columns are non-unique, `df.isetitem(i, newvals)`\n",
      "  data_dict[file_key].loc[:, 0:days-1] = data_dict[file_key].loc[:, 0:days-1].astype(float)\n",
      "C:\\Users\\user\\AppData\\Local\\Temp\\ipykernel_27636\\1462086335.py:17: DeprecationWarning: In a future version, `df.iloc[:, i] = newvals` will attempt to set the values inplace instead of always setting a new array. To retain the old behavior, use either `df[df.columns[i]] = newvals` or, if columns are non-unique, `df.isetitem(i, newvals)`\n",
      "  data_dict[file_key].loc[:, 0:days-1] = data_dict[file_key].loc[:, 0:days-1].astype(float)\n"
     ]
    },
    {
     "name": "stdout",
     "output_type": "stream",
     "text": [
      "done 20220222.pkl\n",
      "done 20220223.pkl\n",
      "done 20220224.pkl\n"
     ]
    },
    {
     "name": "stderr",
     "output_type": "stream",
     "text": [
      "C:\\Users\\user\\AppData\\Local\\Temp\\ipykernel_27636\\1462086335.py:17: DeprecationWarning: In a future version, `df.iloc[:, i] = newvals` will attempt to set the values inplace instead of always setting a new array. To retain the old behavior, use either `df[df.columns[i]] = newvals` or, if columns are non-unique, `df.isetitem(i, newvals)`\n",
      "  data_dict[file_key].loc[:, 0:days-1] = data_dict[file_key].loc[:, 0:days-1].astype(float)\n",
      "C:\\Users\\user\\AppData\\Local\\Temp\\ipykernel_27636\\1462086335.py:17: DeprecationWarning: In a future version, `df.iloc[:, i] = newvals` will attempt to set the values inplace instead of always setting a new array. To retain the old behavior, use either `df[df.columns[i]] = newvals` or, if columns are non-unique, `df.isetitem(i, newvals)`\n",
      "  data_dict[file_key].loc[:, 0:days-1] = data_dict[file_key].loc[:, 0:days-1].astype(float)\n",
      "C:\\Users\\user\\AppData\\Local\\Temp\\ipykernel_27636\\1462086335.py:17: DeprecationWarning: In a future version, `df.iloc[:, i] = newvals` will attempt to set the values inplace instead of always setting a new array. To retain the old behavior, use either `df[df.columns[i]] = newvals` or, if columns are non-unique, `df.isetitem(i, newvals)`\n",
      "  data_dict[file_key].loc[:, 0:days-1] = data_dict[file_key].loc[:, 0:days-1].astype(float)\n"
     ]
    },
    {
     "name": "stdout",
     "output_type": "stream",
     "text": [
      "done 20220225.pkl\n",
      "done 20220228.pkl\n",
      "done 20220302.pkl\n",
      "done 20220303.pkl\n"
     ]
    },
    {
     "name": "stderr",
     "output_type": "stream",
     "text": [
      "C:\\Users\\user\\AppData\\Local\\Temp\\ipykernel_27636\\1462086335.py:17: DeprecationWarning: In a future version, `df.iloc[:, i] = newvals` will attempt to set the values inplace instead of always setting a new array. To retain the old behavior, use either `df[df.columns[i]] = newvals` or, if columns are non-unique, `df.isetitem(i, newvals)`\n",
      "  data_dict[file_key].loc[:, 0:days-1] = data_dict[file_key].loc[:, 0:days-1].astype(float)\n",
      "C:\\Users\\user\\AppData\\Local\\Temp\\ipykernel_27636\\1462086335.py:17: DeprecationWarning: In a future version, `df.iloc[:, i] = newvals` will attempt to set the values inplace instead of always setting a new array. To retain the old behavior, use either `df[df.columns[i]] = newvals` or, if columns are non-unique, `df.isetitem(i, newvals)`\n",
      "  data_dict[file_key].loc[:, 0:days-1] = data_dict[file_key].loc[:, 0:days-1].astype(float)\n",
      "C:\\Users\\user\\AppData\\Local\\Temp\\ipykernel_27636\\1462086335.py:17: DeprecationWarning: In a future version, `df.iloc[:, i] = newvals` will attempt to set the values inplace instead of always setting a new array. To retain the old behavior, use either `df[df.columns[i]] = newvals` or, if columns are non-unique, `df.isetitem(i, newvals)`\n",
      "  data_dict[file_key].loc[:, 0:days-1] = data_dict[file_key].loc[:, 0:days-1].astype(float)\n",
      "C:\\Users\\user\\AppData\\Local\\Temp\\ipykernel_27636\\1462086335.py:17: DeprecationWarning: In a future version, `df.iloc[:, i] = newvals` will attempt to set the values inplace instead of always setting a new array. To retain the old behavior, use either `df[df.columns[i]] = newvals` or, if columns are non-unique, `df.isetitem(i, newvals)`\n",
      "  data_dict[file_key].loc[:, 0:days-1] = data_dict[file_key].loc[:, 0:days-1].astype(float)\n"
     ]
    },
    {
     "name": "stdout",
     "output_type": "stream",
     "text": [
      "done 20220304.pkl\n",
      "done 20220307.pkl\n",
      "done 20220308.pkl\n",
      "done 20220310.pkl\n",
      "done 20220311.pkl\n"
     ]
    },
    {
     "name": "stderr",
     "output_type": "stream",
     "text": [
      "C:\\Users\\user\\AppData\\Local\\Temp\\ipykernel_27636\\1462086335.py:17: DeprecationWarning: In a future version, `df.iloc[:, i] = newvals` will attempt to set the values inplace instead of always setting a new array. To retain the old behavior, use either `df[df.columns[i]] = newvals` or, if columns are non-unique, `df.isetitem(i, newvals)`\n",
      "  data_dict[file_key].loc[:, 0:days-1] = data_dict[file_key].loc[:, 0:days-1].astype(float)\n",
      "C:\\Users\\user\\AppData\\Local\\Temp\\ipykernel_27636\\1462086335.py:17: DeprecationWarning: In a future version, `df.iloc[:, i] = newvals` will attempt to set the values inplace instead of always setting a new array. To retain the old behavior, use either `df[df.columns[i]] = newvals` or, if columns are non-unique, `df.isetitem(i, newvals)`\n",
      "  data_dict[file_key].loc[:, 0:days-1] = data_dict[file_key].loc[:, 0:days-1].astype(float)\n",
      "C:\\Users\\user\\AppData\\Local\\Temp\\ipykernel_27636\\1462086335.py:17: DeprecationWarning: In a future version, `df.iloc[:, i] = newvals` will attempt to set the values inplace instead of always setting a new array. To retain the old behavior, use either `df[df.columns[i]] = newvals` or, if columns are non-unique, `df.isetitem(i, newvals)`\n",
      "  data_dict[file_key].loc[:, 0:days-1] = data_dict[file_key].loc[:, 0:days-1].astype(float)\n",
      "C:\\Users\\user\\AppData\\Local\\Temp\\ipykernel_27636\\1462086335.py:17: DeprecationWarning: In a future version, `df.iloc[:, i] = newvals` will attempt to set the values inplace instead of always setting a new array. To retain the old behavior, use either `df[df.columns[i]] = newvals` or, if columns are non-unique, `df.isetitem(i, newvals)`\n",
      "  data_dict[file_key].loc[:, 0:days-1] = data_dict[file_key].loc[:, 0:days-1].astype(float)\n",
      "C:\\Users\\user\\AppData\\Local\\Temp\\ipykernel_27636\\1462086335.py:17: DeprecationWarning: In a future version, `df.iloc[:, i] = newvals` will attempt to set the values inplace instead of always setting a new array. To retain the old behavior, use either `df[df.columns[i]] = newvals` or, if columns are non-unique, `df.isetitem(i, newvals)`\n",
      "  data_dict[file_key].loc[:, 0:days-1] = data_dict[file_key].loc[:, 0:days-1].astype(float)\n"
     ]
    },
    {
     "name": "stdout",
     "output_type": "stream",
     "text": [
      "done 20220314.pkl\n",
      "done 20220315.pkl\n",
      "done 20220316.pkl\n",
      "done 20220317.pkl\n",
      "done 20220318.pkl\n"
     ]
    },
    {
     "name": "stderr",
     "output_type": "stream",
     "text": [
      "C:\\Users\\user\\AppData\\Local\\Temp\\ipykernel_27636\\1462086335.py:17: DeprecationWarning: In a future version, `df.iloc[:, i] = newvals` will attempt to set the values inplace instead of always setting a new array. To retain the old behavior, use either `df[df.columns[i]] = newvals` or, if columns are non-unique, `df.isetitem(i, newvals)`\n",
      "  data_dict[file_key].loc[:, 0:days-1] = data_dict[file_key].loc[:, 0:days-1].astype(float)\n",
      "C:\\Users\\user\\AppData\\Local\\Temp\\ipykernel_27636\\1462086335.py:17: DeprecationWarning: In a future version, `df.iloc[:, i] = newvals` will attempt to set the values inplace instead of always setting a new array. To retain the old behavior, use either `df[df.columns[i]] = newvals` or, if columns are non-unique, `df.isetitem(i, newvals)`\n",
      "  data_dict[file_key].loc[:, 0:days-1] = data_dict[file_key].loc[:, 0:days-1].astype(float)\n",
      "C:\\Users\\user\\AppData\\Local\\Temp\\ipykernel_27636\\1462086335.py:17: DeprecationWarning: In a future version, `df.iloc[:, i] = newvals` will attempt to set the values inplace instead of always setting a new array. To retain the old behavior, use either `df[df.columns[i]] = newvals` or, if columns are non-unique, `df.isetitem(i, newvals)`\n",
      "  data_dict[file_key].loc[:, 0:days-1] = data_dict[file_key].loc[:, 0:days-1].astype(float)\n",
      "C:\\Users\\user\\AppData\\Local\\Temp\\ipykernel_27636\\1462086335.py:17: DeprecationWarning: In a future version, `df.iloc[:, i] = newvals` will attempt to set the values inplace instead of always setting a new array. To retain the old behavior, use either `df[df.columns[i]] = newvals` or, if columns are non-unique, `df.isetitem(i, newvals)`\n",
      "  data_dict[file_key].loc[:, 0:days-1] = data_dict[file_key].loc[:, 0:days-1].astype(float)\n",
      "C:\\Users\\user\\AppData\\Local\\Temp\\ipykernel_27636\\1462086335.py:17: DeprecationWarning: In a future version, `df.iloc[:, i] = newvals` will attempt to set the values inplace instead of always setting a new array. To retain the old behavior, use either `df[df.columns[i]] = newvals` or, if columns are non-unique, `df.isetitem(i, newvals)`\n",
      "  data_dict[file_key].loc[:, 0:days-1] = data_dict[file_key].loc[:, 0:days-1].astype(float)\n"
     ]
    },
    {
     "name": "stdout",
     "output_type": "stream",
     "text": [
      "done 20220321.pkl\n",
      "done 20220322.pkl\n",
      "done 20220323.pkl\n",
      "done 20220324.pkl\n"
     ]
    },
    {
     "name": "stderr",
     "output_type": "stream",
     "text": [
      "C:\\Users\\user\\AppData\\Local\\Temp\\ipykernel_27636\\1462086335.py:17: DeprecationWarning: In a future version, `df.iloc[:, i] = newvals` will attempt to set the values inplace instead of always setting a new array. To retain the old behavior, use either `df[df.columns[i]] = newvals` or, if columns are non-unique, `df.isetitem(i, newvals)`\n",
      "  data_dict[file_key].loc[:, 0:days-1] = data_dict[file_key].loc[:, 0:days-1].astype(float)\n",
      "C:\\Users\\user\\AppData\\Local\\Temp\\ipykernel_27636\\1462086335.py:17: DeprecationWarning: In a future version, `df.iloc[:, i] = newvals` will attempt to set the values inplace instead of always setting a new array. To retain the old behavior, use either `df[df.columns[i]] = newvals` or, if columns are non-unique, `df.isetitem(i, newvals)`\n",
      "  data_dict[file_key].loc[:, 0:days-1] = data_dict[file_key].loc[:, 0:days-1].astype(float)\n",
      "C:\\Users\\user\\AppData\\Local\\Temp\\ipykernel_27636\\1462086335.py:17: DeprecationWarning: In a future version, `df.iloc[:, i] = newvals` will attempt to set the values inplace instead of always setting a new array. To retain the old behavior, use either `df[df.columns[i]] = newvals` or, if columns are non-unique, `df.isetitem(i, newvals)`\n",
      "  data_dict[file_key].loc[:, 0:days-1] = data_dict[file_key].loc[:, 0:days-1].astype(float)\n",
      "C:\\Users\\user\\AppData\\Local\\Temp\\ipykernel_27636\\1462086335.py:17: DeprecationWarning: In a future version, `df.iloc[:, i] = newvals` will attempt to set the values inplace instead of always setting a new array. To retain the old behavior, use either `df[df.columns[i]] = newvals` or, if columns are non-unique, `df.isetitem(i, newvals)`\n",
      "  data_dict[file_key].loc[:, 0:days-1] = data_dict[file_key].loc[:, 0:days-1].astype(float)\n"
     ]
    },
    {
     "name": "stdout",
     "output_type": "stream",
     "text": [
      "done 20220325.pkl\n",
      "done 20220328.pkl\n",
      "done 20220329.pkl\n",
      "done 20220330.pkl\n"
     ]
    },
    {
     "name": "stderr",
     "output_type": "stream",
     "text": [
      "C:\\Users\\user\\AppData\\Local\\Temp\\ipykernel_27636\\1462086335.py:17: DeprecationWarning: In a future version, `df.iloc[:, i] = newvals` will attempt to set the values inplace instead of always setting a new array. To retain the old behavior, use either `df[df.columns[i]] = newvals` or, if columns are non-unique, `df.isetitem(i, newvals)`\n",
      "  data_dict[file_key].loc[:, 0:days-1] = data_dict[file_key].loc[:, 0:days-1].astype(float)\n",
      "C:\\Users\\user\\AppData\\Local\\Temp\\ipykernel_27636\\1462086335.py:17: DeprecationWarning: In a future version, `df.iloc[:, i] = newvals` will attempt to set the values inplace instead of always setting a new array. To retain the old behavior, use either `df[df.columns[i]] = newvals` or, if columns are non-unique, `df.isetitem(i, newvals)`\n",
      "  data_dict[file_key].loc[:, 0:days-1] = data_dict[file_key].loc[:, 0:days-1].astype(float)\n",
      "C:\\Users\\user\\AppData\\Local\\Temp\\ipykernel_27636\\1462086335.py:17: DeprecationWarning: In a future version, `df.iloc[:, i] = newvals` will attempt to set the values inplace instead of always setting a new array. To retain the old behavior, use either `df[df.columns[i]] = newvals` or, if columns are non-unique, `df.isetitem(i, newvals)`\n",
      "  data_dict[file_key].loc[:, 0:days-1] = data_dict[file_key].loc[:, 0:days-1].astype(float)\n",
      "C:\\Users\\user\\AppData\\Local\\Temp\\ipykernel_27636\\1462086335.py:17: DeprecationWarning: In a future version, `df.iloc[:, i] = newvals` will attempt to set the values inplace instead of always setting a new array. To retain the old behavior, use either `df[df.columns[i]] = newvals` or, if columns are non-unique, `df.isetitem(i, newvals)`\n",
      "  data_dict[file_key].loc[:, 0:days-1] = data_dict[file_key].loc[:, 0:days-1].astype(float)\n"
     ]
    },
    {
     "name": "stdout",
     "output_type": "stream",
     "text": [
      "done 20220331.pkl\n",
      "done 20220401.pkl\n",
      "done 20220404.pkl\n",
      "done 20220405.pkl\n"
     ]
    },
    {
     "name": "stderr",
     "output_type": "stream",
     "text": [
      "C:\\Users\\user\\AppData\\Local\\Temp\\ipykernel_27636\\1462086335.py:17: DeprecationWarning: In a future version, `df.iloc[:, i] = newvals` will attempt to set the values inplace instead of always setting a new array. To retain the old behavior, use either `df[df.columns[i]] = newvals` or, if columns are non-unique, `df.isetitem(i, newvals)`\n",
      "  data_dict[file_key].loc[:, 0:days-1] = data_dict[file_key].loc[:, 0:days-1].astype(float)\n",
      "C:\\Users\\user\\AppData\\Local\\Temp\\ipykernel_27636\\1462086335.py:17: DeprecationWarning: In a future version, `df.iloc[:, i] = newvals` will attempt to set the values inplace instead of always setting a new array. To retain the old behavior, use either `df[df.columns[i]] = newvals` or, if columns are non-unique, `df.isetitem(i, newvals)`\n",
      "  data_dict[file_key].loc[:, 0:days-1] = data_dict[file_key].loc[:, 0:days-1].astype(float)\n",
      "C:\\Users\\user\\AppData\\Local\\Temp\\ipykernel_27636\\1462086335.py:17: DeprecationWarning: In a future version, `df.iloc[:, i] = newvals` will attempt to set the values inplace instead of always setting a new array. To retain the old behavior, use either `df[df.columns[i]] = newvals` or, if columns are non-unique, `df.isetitem(i, newvals)`\n",
      "  data_dict[file_key].loc[:, 0:days-1] = data_dict[file_key].loc[:, 0:days-1].astype(float)\n",
      "C:\\Users\\user\\AppData\\Local\\Temp\\ipykernel_27636\\1462086335.py:17: DeprecationWarning: In a future version, `df.iloc[:, i] = newvals` will attempt to set the values inplace instead of always setting a new array. To retain the old behavior, use either `df[df.columns[i]] = newvals` or, if columns are non-unique, `df.isetitem(i, newvals)`\n",
      "  data_dict[file_key].loc[:, 0:days-1] = data_dict[file_key].loc[:, 0:days-1].astype(float)\n"
     ]
    },
    {
     "name": "stdout",
     "output_type": "stream",
     "text": [
      "done 20220406.pkl\n",
      "done 20220407.pkl\n",
      "done 20220408.pkl\n"
     ]
    },
    {
     "name": "stderr",
     "output_type": "stream",
     "text": [
      "C:\\Users\\user\\AppData\\Local\\Temp\\ipykernel_27636\\1462086335.py:17: DeprecationWarning: In a future version, `df.iloc[:, i] = newvals` will attempt to set the values inplace instead of always setting a new array. To retain the old behavior, use either `df[df.columns[i]] = newvals` or, if columns are non-unique, `df.isetitem(i, newvals)`\n",
      "  data_dict[file_key].loc[:, 0:days-1] = data_dict[file_key].loc[:, 0:days-1].astype(float)\n",
      "C:\\Users\\user\\AppData\\Local\\Temp\\ipykernel_27636\\1462086335.py:17: DeprecationWarning: In a future version, `df.iloc[:, i] = newvals` will attempt to set the values inplace instead of always setting a new array. To retain the old behavior, use either `df[df.columns[i]] = newvals` or, if columns are non-unique, `df.isetitem(i, newvals)`\n",
      "  data_dict[file_key].loc[:, 0:days-1] = data_dict[file_key].loc[:, 0:days-1].astype(float)\n",
      "C:\\Users\\user\\AppData\\Local\\Temp\\ipykernel_27636\\1462086335.py:17: DeprecationWarning: In a future version, `df.iloc[:, i] = newvals` will attempt to set the values inplace instead of always setting a new array. To retain the old behavior, use either `df[df.columns[i]] = newvals` or, if columns are non-unique, `df.isetitem(i, newvals)`\n",
      "  data_dict[file_key].loc[:, 0:days-1] = data_dict[file_key].loc[:, 0:days-1].astype(float)\n"
     ]
    },
    {
     "name": "stdout",
     "output_type": "stream",
     "text": [
      "done 20220411.pkl\n",
      "done 20220412.pkl\n",
      "done 20220413.pkl\n",
      "done 20220414.pkl\n"
     ]
    },
    {
     "name": "stderr",
     "output_type": "stream",
     "text": [
      "C:\\Users\\user\\AppData\\Local\\Temp\\ipykernel_27636\\1462086335.py:17: DeprecationWarning: In a future version, `df.iloc[:, i] = newvals` will attempt to set the values inplace instead of always setting a new array. To retain the old behavior, use either `df[df.columns[i]] = newvals` or, if columns are non-unique, `df.isetitem(i, newvals)`\n",
      "  data_dict[file_key].loc[:, 0:days-1] = data_dict[file_key].loc[:, 0:days-1].astype(float)\n",
      "C:\\Users\\user\\AppData\\Local\\Temp\\ipykernel_27636\\1462086335.py:17: DeprecationWarning: In a future version, `df.iloc[:, i] = newvals` will attempt to set the values inplace instead of always setting a new array. To retain the old behavior, use either `df[df.columns[i]] = newvals` or, if columns are non-unique, `df.isetitem(i, newvals)`\n",
      "  data_dict[file_key].loc[:, 0:days-1] = data_dict[file_key].loc[:, 0:days-1].astype(float)\n",
      "C:\\Users\\user\\AppData\\Local\\Temp\\ipykernel_27636\\1462086335.py:17: DeprecationWarning: In a future version, `df.iloc[:, i] = newvals` will attempt to set the values inplace instead of always setting a new array. To retain the old behavior, use either `df[df.columns[i]] = newvals` or, if columns are non-unique, `df.isetitem(i, newvals)`\n",
      "  data_dict[file_key].loc[:, 0:days-1] = data_dict[file_key].loc[:, 0:days-1].astype(float)\n",
      "C:\\Users\\user\\AppData\\Local\\Temp\\ipykernel_27636\\1462086335.py:17: DeprecationWarning: In a future version, `df.iloc[:, i] = newvals` will attempt to set the values inplace instead of always setting a new array. To retain the old behavior, use either `df[df.columns[i]] = newvals` or, if columns are non-unique, `df.isetitem(i, newvals)`\n",
      "  data_dict[file_key].loc[:, 0:days-1] = data_dict[file_key].loc[:, 0:days-1].astype(float)\n"
     ]
    },
    {
     "name": "stdout",
     "output_type": "stream",
     "text": [
      "done 20220415.pkl\n",
      "done 20220418.pkl\n",
      "done 20220419.pkl\n",
      "done 20220420.pkl\n"
     ]
    },
    {
     "name": "stderr",
     "output_type": "stream",
     "text": [
      "C:\\Users\\user\\AppData\\Local\\Temp\\ipykernel_27636\\1462086335.py:17: DeprecationWarning: In a future version, `df.iloc[:, i] = newvals` will attempt to set the values inplace instead of always setting a new array. To retain the old behavior, use either `df[df.columns[i]] = newvals` or, if columns are non-unique, `df.isetitem(i, newvals)`\n",
      "  data_dict[file_key].loc[:, 0:days-1] = data_dict[file_key].loc[:, 0:days-1].astype(float)\n",
      "C:\\Users\\user\\AppData\\Local\\Temp\\ipykernel_27636\\1462086335.py:17: DeprecationWarning: In a future version, `df.iloc[:, i] = newvals` will attempt to set the values inplace instead of always setting a new array. To retain the old behavior, use either `df[df.columns[i]] = newvals` or, if columns are non-unique, `df.isetitem(i, newvals)`\n",
      "  data_dict[file_key].loc[:, 0:days-1] = data_dict[file_key].loc[:, 0:days-1].astype(float)\n",
      "C:\\Users\\user\\AppData\\Local\\Temp\\ipykernel_27636\\1462086335.py:17: DeprecationWarning: In a future version, `df.iloc[:, i] = newvals` will attempt to set the values inplace instead of always setting a new array. To retain the old behavior, use either `df[df.columns[i]] = newvals` or, if columns are non-unique, `df.isetitem(i, newvals)`\n",
      "  data_dict[file_key].loc[:, 0:days-1] = data_dict[file_key].loc[:, 0:days-1].astype(float)\n",
      "C:\\Users\\user\\AppData\\Local\\Temp\\ipykernel_27636\\1462086335.py:17: DeprecationWarning: In a future version, `df.iloc[:, i] = newvals` will attempt to set the values inplace instead of always setting a new array. To retain the old behavior, use either `df[df.columns[i]] = newvals` or, if columns are non-unique, `df.isetitem(i, newvals)`\n",
      "  data_dict[file_key].loc[:, 0:days-1] = data_dict[file_key].loc[:, 0:days-1].astype(float)\n"
     ]
    },
    {
     "name": "stdout",
     "output_type": "stream",
     "text": [
      "done 20220421.pkl\n",
      "done 20220422.pkl\n",
      "done 20220425.pkl\n"
     ]
    },
    {
     "name": "stderr",
     "output_type": "stream",
     "text": [
      "C:\\Users\\user\\AppData\\Local\\Temp\\ipykernel_27636\\1462086335.py:17: DeprecationWarning: In a future version, `df.iloc[:, i] = newvals` will attempt to set the values inplace instead of always setting a new array. To retain the old behavior, use either `df[df.columns[i]] = newvals` or, if columns are non-unique, `df.isetitem(i, newvals)`\n",
      "  data_dict[file_key].loc[:, 0:days-1] = data_dict[file_key].loc[:, 0:days-1].astype(float)\n",
      "C:\\Users\\user\\AppData\\Local\\Temp\\ipykernel_27636\\1462086335.py:17: DeprecationWarning: In a future version, `df.iloc[:, i] = newvals` will attempt to set the values inplace instead of always setting a new array. To retain the old behavior, use either `df[df.columns[i]] = newvals` or, if columns are non-unique, `df.isetitem(i, newvals)`\n",
      "  data_dict[file_key].loc[:, 0:days-1] = data_dict[file_key].loc[:, 0:days-1].astype(float)\n",
      "C:\\Users\\user\\AppData\\Local\\Temp\\ipykernel_27636\\1462086335.py:17: DeprecationWarning: In a future version, `df.iloc[:, i] = newvals` will attempt to set the values inplace instead of always setting a new array. To retain the old behavior, use either `df[df.columns[i]] = newvals` or, if columns are non-unique, `df.isetitem(i, newvals)`\n",
      "  data_dict[file_key].loc[:, 0:days-1] = data_dict[file_key].loc[:, 0:days-1].astype(float)\n"
     ]
    },
    {
     "name": "stdout",
     "output_type": "stream",
     "text": [
      "done 20220426.pkl\n",
      "done 20220427.pkl\n",
      "done 20220428.pkl\n"
     ]
    },
    {
     "name": "stderr",
     "output_type": "stream",
     "text": [
      "C:\\Users\\user\\AppData\\Local\\Temp\\ipykernel_27636\\1462086335.py:17: DeprecationWarning: In a future version, `df.iloc[:, i] = newvals` will attempt to set the values inplace instead of always setting a new array. To retain the old behavior, use either `df[df.columns[i]] = newvals` or, if columns are non-unique, `df.isetitem(i, newvals)`\n",
      "  data_dict[file_key].loc[:, 0:days-1] = data_dict[file_key].loc[:, 0:days-1].astype(float)\n",
      "C:\\Users\\user\\AppData\\Local\\Temp\\ipykernel_27636\\1462086335.py:17: DeprecationWarning: In a future version, `df.iloc[:, i] = newvals` will attempt to set the values inplace instead of always setting a new array. To retain the old behavior, use either `df[df.columns[i]] = newvals` or, if columns are non-unique, `df.isetitem(i, newvals)`\n",
      "  data_dict[file_key].loc[:, 0:days-1] = data_dict[file_key].loc[:, 0:days-1].astype(float)\n",
      "C:\\Users\\user\\AppData\\Local\\Temp\\ipykernel_27636\\1462086335.py:17: DeprecationWarning: In a future version, `df.iloc[:, i] = newvals` will attempt to set the values inplace instead of always setting a new array. To retain the old behavior, use either `df[df.columns[i]] = newvals` or, if columns are non-unique, `df.isetitem(i, newvals)`\n",
      "  data_dict[file_key].loc[:, 0:days-1] = data_dict[file_key].loc[:, 0:days-1].astype(float)\n"
     ]
    },
    {
     "name": "stdout",
     "output_type": "stream",
     "text": [
      "done 20220429.pkl\n",
      "done 20220502.pkl\n",
      "done 20220503.pkl\n",
      "done 20220504.pkl\n",
      "done 20220506.pkl\n"
     ]
    },
    {
     "name": "stderr",
     "output_type": "stream",
     "text": [
      "C:\\Users\\user\\AppData\\Local\\Temp\\ipykernel_27636\\1462086335.py:17: DeprecationWarning: In a future version, `df.iloc[:, i] = newvals` will attempt to set the values inplace instead of always setting a new array. To retain the old behavior, use either `df[df.columns[i]] = newvals` or, if columns are non-unique, `df.isetitem(i, newvals)`\n",
      "  data_dict[file_key].loc[:, 0:days-1] = data_dict[file_key].loc[:, 0:days-1].astype(float)\n",
      "C:\\Users\\user\\AppData\\Local\\Temp\\ipykernel_27636\\1462086335.py:17: DeprecationWarning: In a future version, `df.iloc[:, i] = newvals` will attempt to set the values inplace instead of always setting a new array. To retain the old behavior, use either `df[df.columns[i]] = newvals` or, if columns are non-unique, `df.isetitem(i, newvals)`\n",
      "  data_dict[file_key].loc[:, 0:days-1] = data_dict[file_key].loc[:, 0:days-1].astype(float)\n",
      "C:\\Users\\user\\AppData\\Local\\Temp\\ipykernel_27636\\1462086335.py:17: DeprecationWarning: In a future version, `df.iloc[:, i] = newvals` will attempt to set the values inplace instead of always setting a new array. To retain the old behavior, use either `df[df.columns[i]] = newvals` or, if columns are non-unique, `df.isetitem(i, newvals)`\n",
      "  data_dict[file_key].loc[:, 0:days-1] = data_dict[file_key].loc[:, 0:days-1].astype(float)\n",
      "C:\\Users\\user\\AppData\\Local\\Temp\\ipykernel_27636\\1462086335.py:17: DeprecationWarning: In a future version, `df.iloc[:, i] = newvals` will attempt to set the values inplace instead of always setting a new array. To retain the old behavior, use either `df[df.columns[i]] = newvals` or, if columns are non-unique, `df.isetitem(i, newvals)`\n",
      "  data_dict[file_key].loc[:, 0:days-1] = data_dict[file_key].loc[:, 0:days-1].astype(float)\n",
      "C:\\Users\\user\\AppData\\Local\\Temp\\ipykernel_27636\\1462086335.py:17: DeprecationWarning: In a future version, `df.iloc[:, i] = newvals` will attempt to set the values inplace instead of always setting a new array. To retain the old behavior, use either `df[df.columns[i]] = newvals` or, if columns are non-unique, `df.isetitem(i, newvals)`\n",
      "  data_dict[file_key].loc[:, 0:days-1] = data_dict[file_key].loc[:, 0:days-1].astype(float)\n"
     ]
    },
    {
     "name": "stdout",
     "output_type": "stream",
     "text": [
      "done 20220509.pkl\n",
      "done 20220510.pkl\n",
      "done 20220511.pkl\n"
     ]
    },
    {
     "name": "stderr",
     "output_type": "stream",
     "text": [
      "C:\\Users\\user\\AppData\\Local\\Temp\\ipykernel_27636\\1462086335.py:17: DeprecationWarning: In a future version, `df.iloc[:, i] = newvals` will attempt to set the values inplace instead of always setting a new array. To retain the old behavior, use either `df[df.columns[i]] = newvals` or, if columns are non-unique, `df.isetitem(i, newvals)`\n",
      "  data_dict[file_key].loc[:, 0:days-1] = data_dict[file_key].loc[:, 0:days-1].astype(float)\n",
      "C:\\Users\\user\\AppData\\Local\\Temp\\ipykernel_27636\\1462086335.py:17: DeprecationWarning: In a future version, `df.iloc[:, i] = newvals` will attempt to set the values inplace instead of always setting a new array. To retain the old behavior, use either `df[df.columns[i]] = newvals` or, if columns are non-unique, `df.isetitem(i, newvals)`\n",
      "  data_dict[file_key].loc[:, 0:days-1] = data_dict[file_key].loc[:, 0:days-1].astype(float)\n",
      "C:\\Users\\user\\AppData\\Local\\Temp\\ipykernel_27636\\1462086335.py:17: DeprecationWarning: In a future version, `df.iloc[:, i] = newvals` will attempt to set the values inplace instead of always setting a new array. To retain the old behavior, use either `df[df.columns[i]] = newvals` or, if columns are non-unique, `df.isetitem(i, newvals)`\n",
      "  data_dict[file_key].loc[:, 0:days-1] = data_dict[file_key].loc[:, 0:days-1].astype(float)\n"
     ]
    },
    {
     "name": "stdout",
     "output_type": "stream",
     "text": [
      "done 20220512.pkl\n",
      "not_done 20220513.pkl\n",
      "not_done 20220516.pkl\n",
      "not_done 20220517.pkl\n",
      "not_done 20220518.pkl\n"
     ]
    },
    {
     "name": "stderr",
     "output_type": "stream",
     "text": [
      "C:\\Users\\user\\AppData\\Local\\Temp\\ipykernel_27636\\1462086335.py:17: DeprecationWarning: In a future version, `df.iloc[:, i] = newvals` will attempt to set the values inplace instead of always setting a new array. To retain the old behavior, use either `df[df.columns[i]] = newvals` or, if columns are non-unique, `df.isetitem(i, newvals)`\n",
      "  data_dict[file_key].loc[:, 0:days-1] = data_dict[file_key].loc[:, 0:days-1].astype(float)\n",
      "C:\\Users\\user\\AppData\\Local\\Temp\\ipykernel_27636\\1462086335.py:17: DeprecationWarning: In a future version, `df.iloc[:, i] = newvals` will attempt to set the values inplace instead of always setting a new array. To retain the old behavior, use either `df[df.columns[i]] = newvals` or, if columns are non-unique, `df.isetitem(i, newvals)`\n",
      "  data_dict[file_key].loc[:, 0:days-1] = data_dict[file_key].loc[:, 0:days-1].astype(float)\n",
      "C:\\Users\\user\\AppData\\Local\\Temp\\ipykernel_27636\\1462086335.py:17: DeprecationWarning: In a future version, `df.iloc[:, i] = newvals` will attempt to set the values inplace instead of always setting a new array. To retain the old behavior, use either `df[df.columns[i]] = newvals` or, if columns are non-unique, `df.isetitem(i, newvals)`\n",
      "  data_dict[file_key].loc[:, 0:days-1] = data_dict[file_key].loc[:, 0:days-1].astype(float)\n",
      "C:\\Users\\user\\AppData\\Local\\Temp\\ipykernel_27636\\1462086335.py:17: DeprecationWarning: In a future version, `df.iloc[:, i] = newvals` will attempt to set the values inplace instead of always setting a new array. To retain the old behavior, use either `df[df.columns[i]] = newvals` or, if columns are non-unique, `df.isetitem(i, newvals)`\n",
      "  data_dict[file_key].loc[:, 0:days-1] = data_dict[file_key].loc[:, 0:days-1].astype(float)\n"
     ]
    }
   ],
   "source": [
    "uncalculate_dict, calculate_dict = make_supervised_data(imp_data_dict, 5)"
   ]
  },
  {
   "cell_type": "code",
   "execution_count": 23,
   "metadata": {
    "collapsed": false
   },
   "outputs": [
    {
     "name": "stdout",
     "output_type": "stream",
     "text": [
      "complete make dir\n",
      "20220513.pkl save complete\n",
      "20220516.pkl save complete\n",
      "20220517.pkl save complete\n",
      "20220518.pkl save complete\n",
      "complete make dir\n",
      "20171115.pkl save complete\n",
      "20171116.pkl save complete\n",
      "20171117.pkl save complete\n",
      "20171120.pkl save complete\n",
      "20171121.pkl save complete\n",
      "20171122.pkl save complete\n",
      "20171123.pkl save complete\n",
      "20171124.pkl save complete\n",
      "20171127.pkl save complete\n",
      "20171128.pkl save complete\n",
      "20171129.pkl save complete\n",
      "20171130.pkl save complete\n",
      "20171201.pkl save complete\n",
      "20171204.pkl save complete\n",
      "20171205.pkl save complete\n",
      "20171206.pkl save complete\n",
      "20171207.pkl save complete\n",
      "20171208.pkl save complete\n",
      "20171211.pkl save complete\n",
      "20171212.pkl save complete\n",
      "20171213.pkl save complete\n",
      "20171214.pkl save complete\n",
      "20171215.pkl save complete\n",
      "20171218.pkl save complete\n",
      "20171219.pkl save complete\n",
      "20171220.pkl save complete\n",
      "20171221.pkl save complete\n",
      "20171222.pkl save complete\n",
      "20171226.pkl save complete\n",
      "20171227.pkl save complete\n",
      "20171228.pkl save complete\n",
      "20180102.pkl save complete\n",
      "20180103.pkl save complete\n",
      "20180104.pkl save complete\n",
      "20180105.pkl save complete\n",
      "20180108.pkl save complete\n",
      "20180109.pkl save complete\n",
      "20180110.pkl save complete\n",
      "20180111.pkl save complete\n",
      "20180112.pkl save complete\n",
      "20180115.pkl save complete\n",
      "20180116.pkl save complete\n",
      "20180117.pkl save complete\n",
      "20180118.pkl save complete\n",
      "20180119.pkl save complete\n",
      "20180122.pkl save complete\n",
      "20180123.pkl save complete\n",
      "20180124.pkl save complete\n",
      "20180125.pkl save complete\n",
      "20180126.pkl save complete\n",
      "20180129.pkl save complete\n",
      "20180130.pkl save complete\n",
      "20180131.pkl save complete\n",
      "20180201.pkl save complete\n",
      "20180202.pkl save complete\n",
      "20180205.pkl save complete\n",
      "20180206.pkl save complete\n",
      "20180207.pkl save complete\n",
      "20180208.pkl save complete\n",
      "20180209.pkl save complete\n",
      "20180212.pkl save complete\n",
      "20180213.pkl save complete\n",
      "20180214.pkl save complete\n",
      "20180219.pkl save complete\n",
      "20180220.pkl save complete\n",
      "20180221.pkl save complete\n",
      "20180222.pkl save complete\n",
      "20180223.pkl save complete\n",
      "20180226.pkl save complete\n",
      "20180227.pkl save complete\n",
      "20180228.pkl save complete\n",
      "20180302.pkl save complete\n",
      "20180305.pkl save complete\n",
      "20180306.pkl save complete\n",
      "20180307.pkl save complete\n",
      "20180308.pkl save complete\n",
      "20180309.pkl save complete\n",
      "20180312.pkl save complete\n",
      "20180313.pkl save complete\n",
      "20180314.pkl save complete\n",
      "20180315.pkl save complete\n",
      "20180316.pkl save complete\n",
      "20180319.pkl save complete\n",
      "20180320.pkl save complete\n",
      "20180321.pkl save complete\n",
      "20180322.pkl save complete\n",
      "20180323.pkl save complete\n",
      "20180326.pkl save complete\n",
      "20180327.pkl save complete\n",
      "20180328.pkl save complete\n",
      "20180329.pkl save complete\n",
      "20180330.pkl save complete\n",
      "20180402.pkl save complete\n",
      "20180403.pkl save complete\n",
      "20180404.pkl save complete\n",
      "20180405.pkl save complete\n",
      "20180406.pkl save complete\n",
      "20180409.pkl save complete\n",
      "20180410.pkl save complete\n",
      "20180411.pkl save complete\n",
      "20180412.pkl save complete\n",
      "20180413.pkl save complete\n",
      "20180416.pkl save complete\n",
      "20180417.pkl save complete\n",
      "20180418.pkl save complete\n",
      "20180419.pkl save complete\n",
      "20180420.pkl save complete\n",
      "20180423.pkl save complete\n",
      "20180424.pkl save complete\n",
      "20180425.pkl save complete\n",
      "20180426.pkl save complete\n",
      "20180427.pkl save complete\n",
      "20180430.pkl save complete\n",
      "20180502.pkl save complete\n",
      "20180503.pkl save complete\n",
      "20180504.pkl save complete\n",
      "20180508.pkl save complete\n",
      "20180509.pkl save complete\n",
      "20180510.pkl save complete\n",
      "20180511.pkl save complete\n",
      "20180514.pkl save complete\n",
      "20180515.pkl save complete\n",
      "20180516.pkl save complete\n",
      "20180517.pkl save complete\n",
      "20180518.pkl save complete\n",
      "20180521.pkl save complete\n",
      "20180523.pkl save complete\n",
      "20180524.pkl save complete\n",
      "20180525.pkl save complete\n",
      "20180528.pkl save complete\n",
      "20180529.pkl save complete\n",
      "20180530.pkl save complete\n",
      "20180531.pkl save complete\n",
      "20180601.pkl save complete\n",
      "20180604.pkl save complete\n",
      "20180605.pkl save complete\n",
      "20180607.pkl save complete\n",
      "20180608.pkl save complete\n",
      "20180611.pkl save complete\n",
      "20180612.pkl save complete\n",
      "20180614.pkl save complete\n",
      "20180615.pkl save complete\n",
      "20180618.pkl save complete\n",
      "20180619.pkl save complete\n",
      "20180620.pkl save complete\n",
      "20180621.pkl save complete\n",
      "20180622.pkl save complete\n",
      "20180625.pkl save complete\n",
      "20180626.pkl save complete\n",
      "20180627.pkl save complete\n",
      "20180628.pkl save complete\n",
      "20180629.pkl save complete\n",
      "20180702.pkl save complete\n",
      "20180703.pkl save complete\n",
      "20180704.pkl save complete\n",
      "20180705.pkl save complete\n",
      "20180706.pkl save complete\n",
      "20180709.pkl save complete\n",
      "20180710.pkl save complete\n",
      "20180711.pkl save complete\n",
      "20180712.pkl save complete\n",
      "20180713.pkl save complete\n",
      "20180716.pkl save complete\n",
      "20180717.pkl save complete\n",
      "20180718.pkl save complete\n",
      "20180719.pkl save complete\n",
      "20180720.pkl save complete\n",
      "20180723.pkl save complete\n",
      "20180724.pkl save complete\n",
      "20180725.pkl save complete\n",
      "20180726.pkl save complete\n",
      "20180727.pkl save complete\n",
      "20180730.pkl save complete\n",
      "20180731.pkl save complete\n",
      "20180801.pkl save complete\n",
      "20180802.pkl save complete\n",
      "20180803.pkl save complete\n",
      "20180806.pkl save complete\n",
      "20180807.pkl save complete\n",
      "20180808.pkl save complete\n",
      "20180809.pkl save complete\n",
      "20180810.pkl save complete\n",
      "20180813.pkl save complete\n",
      "20180814.pkl save complete\n",
      "20180816.pkl save complete\n",
      "20180817.pkl save complete\n",
      "20180820.pkl save complete\n",
      "20180821.pkl save complete\n",
      "20180822.pkl save complete\n",
      "20180823.pkl save complete\n",
      "20180824.pkl save complete\n",
      "20180827.pkl save complete\n",
      "20180828.pkl save complete\n",
      "20180829.pkl save complete\n",
      "20180830.pkl save complete\n",
      "20180831.pkl save complete\n",
      "20180903.pkl save complete\n",
      "20180904.pkl save complete\n",
      "20180905.pkl save complete\n",
      "20180906.pkl save complete\n",
      "20180907.pkl save complete\n",
      "20180910.pkl save complete\n",
      "20180911.pkl save complete\n",
      "20180912.pkl save complete\n",
      "20180913.pkl save complete\n",
      "20180914.pkl save complete\n",
      "20180917.pkl save complete\n",
      "20180918.pkl save complete\n",
      "20180919.pkl save complete\n",
      "20180920.pkl save complete\n",
      "20180921.pkl save complete\n",
      "20180927.pkl save complete\n",
      "20180928.pkl save complete\n",
      "20181001.pkl save complete\n",
      "20181002.pkl save complete\n",
      "20181004.pkl save complete\n",
      "20181005.pkl save complete\n",
      "20181008.pkl save complete\n",
      "20181010.pkl save complete\n",
      "20181011.pkl save complete\n",
      "20181012.pkl save complete\n",
      "20181015.pkl save complete\n",
      "20181016.pkl save complete\n",
      "20181017.pkl save complete\n",
      "20181018.pkl save complete\n",
      "20181019.pkl save complete\n",
      "20181022.pkl save complete\n",
      "20181023.pkl save complete\n",
      "20181024.pkl save complete\n",
      "20181025.pkl save complete\n",
      "20181026.pkl save complete\n",
      "20181029.pkl save complete\n",
      "20181030.pkl save complete\n",
      "20181031.pkl save complete\n",
      "20181101.pkl save complete\n",
      "20181102.pkl save complete\n",
      "20181105.pkl save complete\n",
      "20181106.pkl save complete\n",
      "20181107.pkl save complete\n",
      "20181108.pkl save complete\n",
      "20181109.pkl save complete\n",
      "20181112.pkl save complete\n",
      "20181113.pkl save complete\n",
      "20181114.pkl save complete\n",
      "20181115.pkl save complete\n",
      "20181116.pkl save complete\n",
      "20181119.pkl save complete\n",
      "20181120.pkl save complete\n",
      "20181121.pkl save complete\n",
      "20181122.pkl save complete\n",
      "20181123.pkl save complete\n",
      "20181126.pkl save complete\n",
      "20181127.pkl save complete\n",
      "20181128.pkl save complete\n",
      "20181129.pkl save complete\n",
      "20181130.pkl save complete\n",
      "20181203.pkl save complete\n",
      "20181204.pkl save complete\n",
      "20181205.pkl save complete\n",
      "20181206.pkl save complete\n",
      "20181207.pkl save complete\n",
      "20181210.pkl save complete\n",
      "20181211.pkl save complete\n",
      "20181212.pkl save complete\n",
      "20181213.pkl save complete\n",
      "20181214.pkl save complete\n",
      "20181217.pkl save complete\n",
      "20181218.pkl save complete\n",
      "20181219.pkl save complete\n",
      "20181220.pkl save complete\n",
      "20181221.pkl save complete\n",
      "20181224.pkl save complete\n",
      "20181226.pkl save complete\n",
      "20181227.pkl save complete\n",
      "20181228.pkl save complete\n",
      "20190102.pkl save complete\n",
      "20190103.pkl save complete\n",
      "20190104.pkl save complete\n",
      "20190107.pkl save complete\n",
      "20190108.pkl save complete\n",
      "20190109.pkl save complete\n",
      "20190110.pkl save complete\n",
      "20190111.pkl save complete\n",
      "20190114.pkl save complete\n",
      "20190115.pkl save complete\n",
      "20190116.pkl save complete\n",
      "20190117.pkl save complete\n",
      "20190118.pkl save complete\n",
      "20190121.pkl save complete\n",
      "20190122.pkl save complete\n",
      "20190123.pkl save complete\n",
      "20190124.pkl save complete\n",
      "20190125.pkl save complete\n",
      "20190128.pkl save complete\n",
      "20190129.pkl save complete\n",
      "20190130.pkl save complete\n",
      "20190131.pkl save complete\n",
      "20190201.pkl save complete\n",
      "20190207.pkl save complete\n",
      "20190208.pkl save complete\n",
      "20190211.pkl save complete\n",
      "20190212.pkl save complete\n",
      "20190213.pkl save complete\n",
      "20190214.pkl save complete\n",
      "20190215.pkl save complete\n",
      "20190218.pkl save complete\n",
      "20190219.pkl save complete\n",
      "20190220.pkl save complete\n",
      "20190221.pkl save complete\n",
      "20190222.pkl save complete\n",
      "20190225.pkl save complete\n",
      "20190226.pkl save complete\n",
      "20190227.pkl save complete\n",
      "20190228.pkl save complete\n",
      "20190304.pkl save complete\n",
      "20190305.pkl save complete\n",
      "20190306.pkl save complete\n",
      "20190307.pkl save complete\n",
      "20190308.pkl save complete\n",
      "20190311.pkl save complete\n",
      "20190312.pkl save complete\n",
      "20190313.pkl save complete\n",
      "20190314.pkl save complete\n",
      "20190315.pkl save complete\n",
      "20190318.pkl save complete\n",
      "20190319.pkl save complete\n",
      "20190320.pkl save complete\n",
      "20190321.pkl save complete\n",
      "20190322.pkl save complete\n",
      "20190325.pkl save complete\n",
      "20190326.pkl save complete\n",
      "20190327.pkl save complete\n",
      "20190328.pkl save complete\n",
      "20190329.pkl save complete\n",
      "20190401.pkl save complete\n",
      "20190402.pkl save complete\n",
      "20190403.pkl save complete\n",
      "20190404.pkl save complete\n",
      "20190405.pkl save complete\n",
      "20190408.pkl save complete\n",
      "20190409.pkl save complete\n",
      "20190410.pkl save complete\n",
      "20190411.pkl save complete\n",
      "20190412.pkl save complete\n",
      "20190415.pkl save complete\n",
      "20190416.pkl save complete\n",
      "20190417.pkl save complete\n",
      "20190418.pkl save complete\n",
      "20190419.pkl save complete\n",
      "20190422.pkl save complete\n",
      "20190423.pkl save complete\n",
      "20190424.pkl save complete\n",
      "20190425.pkl save complete\n",
      "20190426.pkl save complete\n",
      "20190429.pkl save complete\n",
      "20190430.pkl save complete\n",
      "20190502.pkl save complete\n",
      "20190503.pkl save complete\n",
      "20190507.pkl save complete\n",
      "20190508.pkl save complete\n",
      "20190509.pkl save complete\n",
      "20190510.pkl save complete\n",
      "20190513.pkl save complete\n",
      "20190514.pkl save complete\n",
      "20190515.pkl save complete\n",
      "20190516.pkl save complete\n",
      "20190517.pkl save complete\n",
      "20190520.pkl save complete\n",
      "20190521.pkl save complete\n",
      "20190522.pkl save complete\n",
      "20190523.pkl save complete\n",
      "20190524.pkl save complete\n",
      "20190527.pkl save complete\n",
      "20190528.pkl save complete\n",
      "20190529.pkl save complete\n",
      "20190530.pkl save complete\n",
      "20190531.pkl save complete\n",
      "20190603.pkl save complete\n",
      "20190604.pkl save complete\n",
      "20190605.pkl save complete\n",
      "20190607.pkl save complete\n",
      "20190610.pkl save complete\n",
      "20190611.pkl save complete\n",
      "20190612.pkl save complete\n",
      "20190613.pkl save complete\n",
      "20190614.pkl save complete\n",
      "20190617.pkl save complete\n",
      "20190618.pkl save complete\n",
      "20190619.pkl save complete\n",
      "20190620.pkl save complete\n",
      "20190621.pkl save complete\n",
      "20190624.pkl save complete\n",
      "20190625.pkl save complete\n",
      "20190626.pkl save complete\n",
      "20190627.pkl save complete\n",
      "20190628.pkl save complete\n",
      "20190701.pkl save complete\n",
      "20190702.pkl save complete\n",
      "20190703.pkl save complete\n",
      "20190704.pkl save complete\n",
      "20190705.pkl save complete\n",
      "20190708.pkl save complete\n",
      "20190709.pkl save complete\n",
      "20190710.pkl save complete\n",
      "20190711.pkl save complete\n",
      "20190712.pkl save complete\n",
      "20190715.pkl save complete\n",
      "20190716.pkl save complete\n",
      "20190717.pkl save complete\n",
      "20190718.pkl save complete\n",
      "20190719.pkl save complete\n",
      "20190722.pkl save complete\n",
      "20190723.pkl save complete\n",
      "20190724.pkl save complete\n",
      "20190725.pkl save complete\n",
      "20190726.pkl save complete\n",
      "20190729.pkl save complete\n",
      "20190730.pkl save complete\n",
      "20190731.pkl save complete\n",
      "20190801.pkl save complete\n",
      "20190802.pkl save complete\n",
      "20190805.pkl save complete\n",
      "20190806.pkl save complete\n",
      "20190807.pkl save complete\n",
      "20190808.pkl save complete\n",
      "20190809.pkl save complete\n",
      "20190812.pkl save complete\n",
      "20190813.pkl save complete\n",
      "20190814.pkl save complete\n",
      "20190816.pkl save complete\n",
      "20190819.pkl save complete\n",
      "20190820.pkl save complete\n",
      "20190821.pkl save complete\n",
      "20190822.pkl save complete\n",
      "20190823.pkl save complete\n",
      "20190826.pkl save complete\n",
      "20190827.pkl save complete\n",
      "20190828.pkl save complete\n",
      "20190829.pkl save complete\n",
      "20190830.pkl save complete\n",
      "20190902.pkl save complete\n",
      "20190903.pkl save complete\n",
      "20190904.pkl save complete\n",
      "20190905.pkl save complete\n",
      "20190906.pkl save complete\n",
      "20190909.pkl save complete\n",
      "20190910.pkl save complete\n",
      "20190911.pkl save complete\n",
      "20190916.pkl save complete\n",
      "20190917.pkl save complete\n",
      "20190918.pkl save complete\n",
      "20190919.pkl save complete\n",
      "20190920.pkl save complete\n",
      "20190923.pkl save complete\n",
      "20190924.pkl save complete\n",
      "20190925.pkl save complete\n",
      "20190926.pkl save complete\n",
      "20190927.pkl save complete\n",
      "20190930.pkl save complete\n",
      "20191001.pkl save complete\n",
      "20191002.pkl save complete\n",
      "20191004.pkl save complete\n",
      "20191007.pkl save complete\n",
      "20191008.pkl save complete\n",
      "20191010.pkl save complete\n",
      "20191011.pkl save complete\n",
      "20191014.pkl save complete\n",
      "20191015.pkl save complete\n",
      "20191016.pkl save complete\n",
      "20191017.pkl save complete\n",
      "20191018.pkl save complete\n",
      "20191021.pkl save complete\n",
      "20191022.pkl save complete\n",
      "20191023.pkl save complete\n",
      "20191024.pkl save complete\n",
      "20191025.pkl save complete\n",
      "20191028.pkl save complete\n",
      "20191029.pkl save complete\n",
      "20191030.pkl save complete\n",
      "20191031.pkl save complete\n",
      "20191101.pkl save complete\n",
      "20191104.pkl save complete\n",
      "20191105.pkl save complete\n",
      "20191106.pkl save complete\n",
      "20191107.pkl save complete\n",
      "20191108.pkl save complete\n",
      "20191111.pkl save complete\n",
      "20191112.pkl save complete\n",
      "20191113.pkl save complete\n",
      "20191114.pkl save complete\n",
      "20191115.pkl save complete\n",
      "20191118.pkl save complete\n",
      "20191119.pkl save complete\n",
      "20191120.pkl save complete\n",
      "20191121.pkl save complete\n",
      "20191122.pkl save complete\n",
      "20191125.pkl save complete\n",
      "20191126.pkl save complete\n",
      "20191127.pkl save complete\n",
      "20191128.pkl save complete\n",
      "20191129.pkl save complete\n",
      "20191202.pkl save complete\n",
      "20191203.pkl save complete\n",
      "20191204.pkl save complete\n",
      "20191205.pkl save complete\n",
      "20191206.pkl save complete\n",
      "20191209.pkl save complete\n",
      "20191210.pkl save complete\n",
      "20191211.pkl save complete\n",
      "20191212.pkl save complete\n",
      "20191213.pkl save complete\n",
      "20191216.pkl save complete\n",
      "20191217.pkl save complete\n",
      "20191218.pkl save complete\n",
      "20191219.pkl save complete\n",
      "20191220.pkl save complete\n",
      "20191223.pkl save complete\n",
      "20191224.pkl save complete\n",
      "20191226.pkl save complete\n",
      "20191227.pkl save complete\n",
      "20191230.pkl save complete\n",
      "20200102.pkl save complete\n",
      "20200103.pkl save complete\n",
      "20200106.pkl save complete\n",
      "20200107.pkl save complete\n",
      "20200108.pkl save complete\n",
      "20200109.pkl save complete\n",
      "20200110.pkl save complete\n",
      "20200113.pkl save complete\n",
      "20200114.pkl save complete\n",
      "20200115.pkl save complete\n",
      "20200116.pkl save complete\n",
      "20200117.pkl save complete\n",
      "20200120.pkl save complete\n",
      "20200121.pkl save complete\n",
      "20200122.pkl save complete\n",
      "20200123.pkl save complete\n",
      "20200128.pkl save complete\n",
      "20200129.pkl save complete\n",
      "20200130.pkl save complete\n",
      "20200131.pkl save complete\n",
      "20200203.pkl save complete\n",
      "20200204.pkl save complete\n",
      "20200205.pkl save complete\n",
      "20200206.pkl save complete\n",
      "20200207.pkl save complete\n",
      "20200210.pkl save complete\n",
      "20200211.pkl save complete\n",
      "20200212.pkl save complete\n",
      "20200213.pkl save complete\n",
      "20200214.pkl save complete\n",
      "20200217.pkl save complete\n",
      "20200218.pkl save complete\n",
      "20200219.pkl save complete\n",
      "20200220.pkl save complete\n",
      "20200221.pkl save complete\n",
      "20200224.pkl save complete\n",
      "20200225.pkl save complete\n",
      "20200226.pkl save complete\n",
      "20200227.pkl save complete\n",
      "20200228.pkl save complete\n",
      "20200302.pkl save complete\n",
      "20200303.pkl save complete\n",
      "20200304.pkl save complete\n",
      "20200305.pkl save complete\n",
      "20200306.pkl save complete\n",
      "20200309.pkl save complete\n",
      "20200310.pkl save complete\n",
      "20200311.pkl save complete\n",
      "20200312.pkl save complete\n",
      "20200313.pkl save complete\n",
      "20200316.pkl save complete\n",
      "20200317.pkl save complete\n",
      "20200318.pkl save complete\n",
      "20200319.pkl save complete\n",
      "20200320.pkl save complete\n",
      "20200323.pkl save complete\n",
      "20200324.pkl save complete\n",
      "20200325.pkl save complete\n",
      "20200326.pkl save complete\n",
      "20200327.pkl save complete\n",
      "20200330.pkl save complete\n",
      "20200331.pkl save complete\n",
      "20200401.pkl save complete\n",
      "20200402.pkl save complete\n",
      "20200403.pkl save complete\n",
      "20200406.pkl save complete\n",
      "20200407.pkl save complete\n",
      "20200408.pkl save complete\n",
      "20200409.pkl save complete\n",
      "20200410.pkl save complete\n",
      "20200413.pkl save complete\n",
      "20200414.pkl save complete\n",
      "20200416.pkl save complete\n",
      "20200417.pkl save complete\n",
      "20200420.pkl save complete\n",
      "20200421.pkl save complete\n",
      "20200422.pkl save complete\n",
      "20200423.pkl save complete\n",
      "20200424.pkl save complete\n",
      "20200427.pkl save complete\n",
      "20200428.pkl save complete\n",
      "20200429.pkl save complete\n",
      "20200504.pkl save complete\n",
      "20200506.pkl save complete\n",
      "20200507.pkl save complete\n",
      "20200508.pkl save complete\n",
      "20200511.pkl save complete\n",
      "20200512.pkl save complete\n",
      "20200513.pkl save complete\n",
      "20200514.pkl save complete\n",
      "20200515.pkl save complete\n",
      "20200518.pkl save complete\n",
      "20200519.pkl save complete\n",
      "20200520.pkl save complete\n",
      "20200521.pkl save complete\n",
      "20200522.pkl save complete\n",
      "20200525.pkl save complete\n",
      "20200526.pkl save complete\n",
      "20200527.pkl save complete\n",
      "20200528.pkl save complete\n",
      "20200529.pkl save complete\n",
      "20200601.pkl save complete\n",
      "20200602.pkl save complete\n",
      "20200603.pkl save complete\n",
      "20200604.pkl save complete\n",
      "20200605.pkl save complete\n",
      "20200608.pkl save complete\n",
      "20200609.pkl save complete\n",
      "20200610.pkl save complete\n",
      "20200611.pkl save complete\n",
      "20200612.pkl save complete\n",
      "20200615.pkl save complete\n",
      "20200616.pkl save complete\n",
      "20200617.pkl save complete\n",
      "20200618.pkl save complete\n",
      "20200619.pkl save complete\n",
      "20200622.pkl save complete\n",
      "20200623.pkl save complete\n",
      "20200624.pkl save complete\n",
      "20200625.pkl save complete\n",
      "20200626.pkl save complete\n",
      "20200629.pkl save complete\n",
      "20200630.pkl save complete\n",
      "20200701.pkl save complete\n",
      "20200702.pkl save complete\n",
      "20200703.pkl save complete\n",
      "20200706.pkl save complete\n",
      "20200707.pkl save complete\n",
      "20200708.pkl save complete\n",
      "20200709.pkl save complete\n",
      "20200710.pkl save complete\n",
      "20200713.pkl save complete\n",
      "20200714.pkl save complete\n",
      "20200715.pkl save complete\n",
      "20200716.pkl save complete\n",
      "20200717.pkl save complete\n",
      "20200720.pkl save complete\n",
      "20200721.pkl save complete\n",
      "20200722.pkl save complete\n",
      "20200723.pkl save complete\n",
      "20200724.pkl save complete\n",
      "20200727.pkl save complete\n",
      "20200728.pkl save complete\n",
      "20200729.pkl save complete\n",
      "20200730.pkl save complete\n",
      "20200731.pkl save complete\n",
      "20200803.pkl save complete\n",
      "20200804.pkl save complete\n",
      "20200805.pkl save complete\n",
      "20200806.pkl save complete\n",
      "20200807.pkl save complete\n",
      "20200810.pkl save complete\n",
      "20200811.pkl save complete\n",
      "20200812.pkl save complete\n",
      "20200813.pkl save complete\n",
      "20200814.pkl save complete\n",
      "20200818.pkl save complete\n",
      "20200819.pkl save complete\n",
      "20200820.pkl save complete\n",
      "20200821.pkl save complete\n",
      "20200824.pkl save complete\n",
      "20200825.pkl save complete\n",
      "20200826.pkl save complete\n",
      "20200827.pkl save complete\n",
      "20200828.pkl save complete\n",
      "20200831.pkl save complete\n",
      "20200901.pkl save complete\n",
      "20200902.pkl save complete\n",
      "20200903.pkl save complete\n",
      "20200904.pkl save complete\n",
      "20200907.pkl save complete\n",
      "20200908.pkl save complete\n",
      "20200909.pkl save complete\n",
      "20200910.pkl save complete\n",
      "20200911.pkl save complete\n",
      "20200914.pkl save complete\n",
      "20200915.pkl save complete\n",
      "20200916.pkl save complete\n",
      "20200917.pkl save complete\n",
      "20200918.pkl save complete\n",
      "20200921.pkl save complete\n",
      "20200922.pkl save complete\n",
      "20200923.pkl save complete\n",
      "20200924.pkl save complete\n",
      "20200925.pkl save complete\n",
      "20200928.pkl save complete\n",
      "20200929.pkl save complete\n",
      "20201005.pkl save complete\n",
      "20201006.pkl save complete\n",
      "20201007.pkl save complete\n",
      "20201008.pkl save complete\n",
      "20201012.pkl save complete\n",
      "20201013.pkl save complete\n",
      "20201014.pkl save complete\n",
      "20201015.pkl save complete\n",
      "20201016.pkl save complete\n",
      "20201019.pkl save complete\n",
      "20201020.pkl save complete\n",
      "20201021.pkl save complete\n",
      "20201022.pkl save complete\n",
      "20201023.pkl save complete\n",
      "20201026.pkl save complete\n",
      "20201027.pkl save complete\n",
      "20201028.pkl save complete\n",
      "20201029.pkl save complete\n",
      "20201030.pkl save complete\n",
      "20201102.pkl save complete\n",
      "20201103.pkl save complete\n",
      "20201104.pkl save complete\n",
      "20201105.pkl save complete\n",
      "20201106.pkl save complete\n",
      "20201109.pkl save complete\n",
      "20201110.pkl save complete\n",
      "20201111.pkl save complete\n",
      "20201112.pkl save complete\n",
      "20201113.pkl save complete\n",
      "20201116.pkl save complete\n",
      "20201117.pkl save complete\n",
      "20201118.pkl save complete\n",
      "20201119.pkl save complete\n",
      "20201120.pkl save complete\n",
      "20201123.pkl save complete\n",
      "20201124.pkl save complete\n",
      "20201125.pkl save complete\n",
      "20201126.pkl save complete\n",
      "20201127.pkl save complete\n",
      "20201130.pkl save complete\n",
      "20201201.pkl save complete\n",
      "20201202.pkl save complete\n",
      "20201203.pkl save complete\n",
      "20201204.pkl save complete\n",
      "20201207.pkl save complete\n",
      "20201208.pkl save complete\n",
      "20201209.pkl save complete\n",
      "20201210.pkl save complete\n",
      "20201211.pkl save complete\n",
      "20201214.pkl save complete\n",
      "20201215.pkl save complete\n",
      "20201216.pkl save complete\n",
      "20201217.pkl save complete\n",
      "20201218.pkl save complete\n",
      "20201221.pkl save complete\n",
      "20201222.pkl save complete\n",
      "20201223.pkl save complete\n",
      "20201224.pkl save complete\n",
      "20201228.pkl save complete\n",
      "20201229.pkl save complete\n",
      "20201230.pkl save complete\n",
      "20210104.pkl save complete\n",
      "20210105.pkl save complete\n",
      "20210106.pkl save complete\n",
      "20210107.pkl save complete\n",
      "20210108.pkl save complete\n",
      "20210111.pkl save complete\n",
      "20210112.pkl save complete\n",
      "20210113.pkl save complete\n",
      "20210114.pkl save complete\n",
      "20210115.pkl save complete\n",
      "20210118.pkl save complete\n",
      "20210119.pkl save complete\n",
      "20210120.pkl save complete\n",
      "20210121.pkl save complete\n",
      "20210122.pkl save complete\n",
      "20210125.pkl save complete\n",
      "20210126.pkl save complete\n",
      "20210127.pkl save complete\n",
      "20210128.pkl save complete\n",
      "20210129.pkl save complete\n",
      "20210201.pkl save complete\n",
      "20210202.pkl save complete\n",
      "20210203.pkl save complete\n",
      "20210204.pkl save complete\n",
      "20210205.pkl save complete\n",
      "20210208.pkl save complete\n",
      "20210209.pkl save complete\n",
      "20210210.pkl save complete\n",
      "20210215.pkl save complete\n",
      "20210216.pkl save complete\n",
      "20210217.pkl save complete\n",
      "20210218.pkl save complete\n",
      "20210219.pkl save complete\n",
      "20210222.pkl save complete\n",
      "20210223.pkl save complete\n",
      "20210224.pkl save complete\n",
      "20210225.pkl save complete\n",
      "20210226.pkl save complete\n",
      "20210302.pkl save complete\n",
      "20210303.pkl save complete\n",
      "20210304.pkl save complete\n",
      "20210305.pkl save complete\n",
      "20210308.pkl save complete\n",
      "20210309.pkl save complete\n",
      "20210310.pkl save complete\n",
      "20210311.pkl save complete\n",
      "20210312.pkl save complete\n",
      "20210315.pkl save complete\n",
      "20210316.pkl save complete\n",
      "20210317.pkl save complete\n",
      "20210318.pkl save complete\n",
      "20210319.pkl save complete\n",
      "20210322.pkl save complete\n",
      "20210323.pkl save complete\n",
      "20210324.pkl save complete\n",
      "20210325.pkl save complete\n",
      "20210326.pkl save complete\n",
      "20210329.pkl save complete\n",
      "20210330.pkl save complete\n",
      "20210331.pkl save complete\n",
      "20210401.pkl save complete\n",
      "20210402.pkl save complete\n",
      "20210405.pkl save complete\n",
      "20210406.pkl save complete\n",
      "20210407.pkl save complete\n",
      "20210408.pkl save complete\n",
      "20210409.pkl save complete\n",
      "20210412.pkl save complete\n",
      "20210413.pkl save complete\n",
      "20210414.pkl save complete\n",
      "20210415.pkl save complete\n",
      "20210416.pkl save complete\n",
      "20210419.pkl save complete\n",
      "20210420.pkl save complete\n",
      "20210421.pkl save complete\n",
      "20210422.pkl save complete\n",
      "20210423.pkl save complete\n",
      "20210426.pkl save complete\n",
      "20210427.pkl save complete\n",
      "20210428.pkl save complete\n",
      "20210429.pkl save complete\n",
      "20210430.pkl save complete\n",
      "20210503.pkl save complete\n",
      "20210504.pkl save complete\n",
      "20210506.pkl save complete\n",
      "20210507.pkl save complete\n",
      "20210510.pkl save complete\n",
      "20210511.pkl save complete\n",
      "20210512.pkl save complete\n",
      "20210513.pkl save complete\n",
      "20210514.pkl save complete\n",
      "20210517.pkl save complete\n",
      "20210518.pkl save complete\n",
      "20210520.pkl save complete\n",
      "20210521.pkl save complete\n",
      "20210524.pkl save complete\n",
      "20210525.pkl save complete\n",
      "20210526.pkl save complete\n",
      "20210527.pkl save complete\n",
      "20210528.pkl save complete\n",
      "20210531.pkl save complete\n",
      "20210601.pkl save complete\n",
      "20210602.pkl save complete\n",
      "20210603.pkl save complete\n",
      "20210604.pkl save complete\n",
      "20210607.pkl save complete\n",
      "20210608.pkl save complete\n",
      "20210609.pkl save complete\n",
      "20210610.pkl save complete\n",
      "20210611.pkl save complete\n",
      "20210614.pkl save complete\n",
      "20210615.pkl save complete\n",
      "20210616.pkl save complete\n",
      "20210617.pkl save complete\n",
      "20210618.pkl save complete\n",
      "20210621.pkl save complete\n",
      "20210622.pkl save complete\n",
      "20210623.pkl save complete\n",
      "20210624.pkl save complete\n",
      "20210625.pkl save complete\n",
      "20210628.pkl save complete\n",
      "20210629.pkl save complete\n",
      "20210630.pkl save complete\n",
      "20210701.pkl save complete\n",
      "20210702.pkl save complete\n",
      "20210705.pkl save complete\n",
      "20210706.pkl save complete\n",
      "20210707.pkl save complete\n",
      "20210708.pkl save complete\n",
      "20210709.pkl save complete\n",
      "20210712.pkl save complete\n",
      "20210713.pkl save complete\n",
      "20210714.pkl save complete\n",
      "20210715.pkl save complete\n",
      "20210716.pkl save complete\n",
      "20210719.pkl save complete\n",
      "20210720.pkl save complete\n",
      "20210721.pkl save complete\n",
      "20210722.pkl save complete\n",
      "20210723.pkl save complete\n",
      "20210726.pkl save complete\n",
      "20210727.pkl save complete\n",
      "20210728.pkl save complete\n",
      "20210729.pkl save complete\n",
      "20210730.pkl save complete\n",
      "20210802.pkl save complete\n",
      "20210803.pkl save complete\n",
      "20210804.pkl save complete\n",
      "20210805.pkl save complete\n",
      "20210806.pkl save complete\n",
      "20210809.pkl save complete\n",
      "20210810.pkl save complete\n",
      "20210811.pkl save complete\n",
      "20210812.pkl save complete\n",
      "20210813.pkl save complete\n",
      "20210817.pkl save complete\n",
      "20210818.pkl save complete\n",
      "20210819.pkl save complete\n",
      "20210820.pkl save complete\n",
      "20210823.pkl save complete\n",
      "20210824.pkl save complete\n",
      "20210825.pkl save complete\n",
      "20210826.pkl save complete\n",
      "20210827.pkl save complete\n",
      "20210830.pkl save complete\n",
      "20210831.pkl save complete\n",
      "20210901.pkl save complete\n",
      "20210902.pkl save complete\n",
      "20210903.pkl save complete\n",
      "20210906.pkl save complete\n",
      "20210907.pkl save complete\n",
      "20210908.pkl save complete\n",
      "20210909.pkl save complete\n",
      "20210910.pkl save complete\n",
      "20210913.pkl save complete\n",
      "20210914.pkl save complete\n",
      "20210915.pkl save complete\n",
      "20210916.pkl save complete\n",
      "20210917.pkl save complete\n",
      "20210923.pkl save complete\n",
      "20210924.pkl save complete\n",
      "20210927.pkl save complete\n",
      "20210928.pkl save complete\n",
      "20210929.pkl save complete\n",
      "20210930.pkl save complete\n",
      "20211001.pkl save complete\n",
      "20211005.pkl save complete\n",
      "20211006.pkl save complete\n",
      "20211007.pkl save complete\n",
      "20211008.pkl save complete\n",
      "20211012.pkl save complete\n",
      "20211013.pkl save complete\n",
      "20211014.pkl save complete\n",
      "20211015.pkl save complete\n",
      "20211018.pkl save complete\n",
      "20211019.pkl save complete\n",
      "20211020.pkl save complete\n",
      "20211021.pkl save complete\n",
      "20211022.pkl save complete\n",
      "20211025.pkl save complete\n",
      "20211026.pkl save complete\n",
      "20211027.pkl save complete\n",
      "20211028.pkl save complete\n",
      "20211029.pkl save complete\n",
      "20211101.pkl save complete\n",
      "20211102.pkl save complete\n",
      "20211103.pkl save complete\n",
      "20211104.pkl save complete\n",
      "20211105.pkl save complete\n",
      "20211108.pkl save complete\n",
      "20211109.pkl save complete\n",
      "20211110.pkl save complete\n",
      "20211111.pkl save complete\n",
      "20211112.pkl save complete\n",
      "20211115.pkl save complete\n",
      "20211116.pkl save complete\n",
      "20211117.pkl save complete\n",
      "20211118.pkl save complete\n",
      "20211119.pkl save complete\n",
      "20211122.pkl save complete\n",
      "20211123.pkl save complete\n",
      "20211124.pkl save complete\n",
      "20211125.pkl save complete\n",
      "20211126.pkl save complete\n",
      "20211129.pkl save complete\n",
      "20211130.pkl save complete\n",
      "20211201.pkl save complete\n",
      "20211202.pkl save complete\n",
      "20211203.pkl save complete\n",
      "20211206.pkl save complete\n",
      "20211207.pkl save complete\n",
      "20211208.pkl save complete\n",
      "20211209.pkl save complete\n",
      "20211210.pkl save complete\n",
      "20211213.pkl save complete\n",
      "20211214.pkl save complete\n",
      "20211215.pkl save complete\n",
      "20211216.pkl save complete\n",
      "20211217.pkl save complete\n",
      "20211220.pkl save complete\n",
      "20211221.pkl save complete\n",
      "20211222.pkl save complete\n",
      "20211223.pkl save complete\n",
      "20211224.pkl save complete\n",
      "20211227.pkl save complete\n",
      "20211228.pkl save complete\n",
      "20211229.pkl save complete\n",
      "20211230.pkl save complete\n",
      "20220103.pkl save complete\n",
      "20220104.pkl save complete\n",
      "20220105.pkl save complete\n",
      "20220106.pkl save complete\n",
      "20220107.pkl save complete\n",
      "20220110.pkl save complete\n",
      "20220111.pkl save complete\n",
      "20220112.pkl save complete\n",
      "20220113.pkl save complete\n",
      "20220114.pkl save complete\n",
      "20220117.pkl save complete\n",
      "20220118.pkl save complete\n",
      "20220119.pkl save complete\n",
      "20220120.pkl save complete\n",
      "20220121.pkl save complete\n",
      "20220124.pkl save complete\n",
      "20220125.pkl save complete\n",
      "20220126.pkl save complete\n",
      "20220127.pkl save complete\n",
      "20220128.pkl save complete\n",
      "20220203.pkl save complete\n",
      "20220204.pkl save complete\n",
      "20220207.pkl save complete\n",
      "20220208.pkl save complete\n",
      "20220209.pkl save complete\n",
      "20220210.pkl save complete\n",
      "20220211.pkl save complete\n",
      "20220214.pkl save complete\n",
      "20220215.pkl save complete\n",
      "20220216.pkl save complete\n",
      "20220217.pkl save complete\n",
      "20220218.pkl save complete\n",
      "20220221.pkl save complete\n",
      "20220222.pkl save complete\n",
      "20220223.pkl save complete\n",
      "20220224.pkl save complete\n",
      "20220225.pkl save complete\n",
      "20220228.pkl save complete\n",
      "20220302.pkl save complete\n",
      "20220303.pkl save complete\n",
      "20220304.pkl save complete\n",
      "20220307.pkl save complete\n",
      "20220308.pkl save complete\n",
      "20220310.pkl save complete\n",
      "20220311.pkl save complete\n",
      "20220314.pkl save complete\n",
      "20220315.pkl save complete\n",
      "20220316.pkl save complete\n",
      "20220317.pkl save complete\n",
      "20220318.pkl save complete\n",
      "20220321.pkl save complete\n",
      "20220322.pkl save complete\n",
      "20220323.pkl save complete\n",
      "20220324.pkl save complete\n",
      "20220325.pkl save complete\n",
      "20220328.pkl save complete\n",
      "20220329.pkl save complete\n",
      "20220330.pkl save complete\n",
      "20220331.pkl save complete\n",
      "20220401.pkl save complete\n",
      "20220404.pkl save complete\n",
      "20220405.pkl save complete\n",
      "20220406.pkl save complete\n",
      "20220407.pkl save complete\n",
      "20220408.pkl save complete\n",
      "20220411.pkl save complete\n",
      "20220412.pkl save complete\n",
      "20220413.pkl save complete\n",
      "20220414.pkl save complete\n",
      "20220415.pkl save complete\n",
      "20220418.pkl save complete\n",
      "20220419.pkl save complete\n",
      "20220420.pkl save complete\n",
      "20220421.pkl save complete\n",
      "20220422.pkl save complete\n",
      "20220425.pkl save complete\n",
      "20220426.pkl save complete\n",
      "20220427.pkl save complete\n",
      "20220428.pkl save complete\n",
      "20220429.pkl save complete\n",
      "20220502.pkl save complete\n",
      "20220503.pkl save complete\n",
      "20220504.pkl save complete\n",
      "20220506.pkl save complete\n",
      "20220509.pkl save complete\n",
      "20220510.pkl save complete\n",
      "20220511.pkl save complete\n",
      "20220512.pkl save complete\n"
     ]
    }
   ],
   "source": [
    "save_new_data_to_pickle('C:\\\\Users\\\\user\\\\Desktop\\\\박준영\\\\공부\\\\nlp_study\\\\simcse\\\\data\\\\supervised\\\\5days_sup_data\\\\', uncalculate_dict)\n",
    "save_new_data_to_pickle('C:\\\\Users\\\\user\\\\Desktop\\\\박준영\\\\공부\\\\nlp_study\\\\simcse\\\\data\\\\supervised\\\\5days_sup_data\\\\', calculate_dict)"
   ]
  },
  {
   "cell_type": "code",
   "execution_count": 19,
   "metadata": {},
   "outputs": [
    {
     "data": {
      "text/plain": [
       "dict_keys(['20171115.pkl', '20171116.pkl', '20171117.pkl', '20171120.pkl', '20171121.pkl', '20171122.pkl', '20171123.pkl', '20171124.pkl', '20171127.pkl', '20171128.pkl', '20171129.pkl', '20171130.pkl', '20171201.pkl', '20171204.pkl', '20171205.pkl', '20171206.pkl', '20171207.pkl', '20171208.pkl', '20171211.pkl', '20171212.pkl', '20171213.pkl', '20171214.pkl', '20171215.pkl', '20171218.pkl', '20171219.pkl', '20171220.pkl', '20171221.pkl', '20171222.pkl', '20171226.pkl', '20171227.pkl', '20171228.pkl', '20180102.pkl', '20180103.pkl', '20180104.pkl', '20180105.pkl', '20180108.pkl', '20180109.pkl', '20180110.pkl', '20180111.pkl', '20180112.pkl', '20180115.pkl', '20180116.pkl', '20180117.pkl', '20180118.pkl', '20180119.pkl', '20180122.pkl', '20180123.pkl', '20180124.pkl', '20180125.pkl', '20180126.pkl', '20180129.pkl', '20180130.pkl', '20180131.pkl', '20180201.pkl', '20180202.pkl', '20180205.pkl', '20180206.pkl', '20180207.pkl', '20180208.pkl', '20180209.pkl', '20180212.pkl', '20180213.pkl', '20180214.pkl', '20180219.pkl', '20180220.pkl', '20180221.pkl', '20180222.pkl', '20180223.pkl', '20180226.pkl', '20180227.pkl', '20180228.pkl', '20180302.pkl', '20180305.pkl', '20180306.pkl', '20180307.pkl', '20180308.pkl', '20180309.pkl', '20180312.pkl', '20180313.pkl', '20180314.pkl', '20180315.pkl', '20180316.pkl', '20180319.pkl', '20180320.pkl', '20180321.pkl', '20180322.pkl', '20180323.pkl', '20180326.pkl', '20180327.pkl', '20180328.pkl', '20180329.pkl', '20180330.pkl', '20180402.pkl', '20180403.pkl', '20180404.pkl', '20180405.pkl', '20180406.pkl', '20180409.pkl', '20180410.pkl', '20180411.pkl', '20180412.pkl', '20180413.pkl', '20180416.pkl', '20180417.pkl', '20180418.pkl', '20180419.pkl', '20180420.pkl', '20180423.pkl', '20180424.pkl', '20180425.pkl', '20180426.pkl', '20180427.pkl', '20180430.pkl', '20180502.pkl', '20180503.pkl', '20180504.pkl', '20180508.pkl', '20180509.pkl', '20180510.pkl', '20180511.pkl', '20180514.pkl', '20180515.pkl', '20180516.pkl', '20180517.pkl', '20180518.pkl', '20180521.pkl', '20180523.pkl', '20180524.pkl', '20180525.pkl', '20180528.pkl', '20180529.pkl', '20180530.pkl', '20180531.pkl', '20180601.pkl', '20180604.pkl', '20180605.pkl', '20180607.pkl', '20180608.pkl', '20180611.pkl', '20180612.pkl', '20180614.pkl', '20180615.pkl', '20180618.pkl', '20180619.pkl', '20180620.pkl', '20180621.pkl', '20180622.pkl', '20180625.pkl', '20180626.pkl', '20180627.pkl', '20180628.pkl', '20180629.pkl', '20180702.pkl', '20180703.pkl', '20180704.pkl', '20180705.pkl', '20180706.pkl', '20180709.pkl', '20180710.pkl', '20180711.pkl', '20180712.pkl', '20180713.pkl', '20180716.pkl', '20180717.pkl', '20180718.pkl', '20180719.pkl', '20180720.pkl', '20180723.pkl', '20180724.pkl', '20180725.pkl', '20180726.pkl', '20180727.pkl', '20180730.pkl', '20180731.pkl', '20180801.pkl', '20180802.pkl', '20180803.pkl', '20180806.pkl', '20180807.pkl', '20180808.pkl', '20180809.pkl', '20180810.pkl', '20180813.pkl', '20180814.pkl', '20180816.pkl', '20180817.pkl', '20180820.pkl', '20180821.pkl', '20180822.pkl', '20180823.pkl', '20180824.pkl', '20180827.pkl', '20180828.pkl', '20180829.pkl', '20180830.pkl', '20180831.pkl', '20180903.pkl', '20180904.pkl', '20180905.pkl', '20180906.pkl', '20180907.pkl', '20180910.pkl', '20180911.pkl', '20180912.pkl', '20180913.pkl', '20180914.pkl', '20180917.pkl', '20180918.pkl', '20180919.pkl', '20180920.pkl', '20180921.pkl', '20180927.pkl', '20180928.pkl', '20181001.pkl', '20181002.pkl', '20181004.pkl', '20181005.pkl', '20181008.pkl', '20181010.pkl', '20181011.pkl', '20181012.pkl', '20181015.pkl', '20181016.pkl', '20181017.pkl', '20181018.pkl', '20181019.pkl', '20181022.pkl', '20181023.pkl', '20181024.pkl', '20181025.pkl', '20181026.pkl', '20181029.pkl', '20181030.pkl', '20181031.pkl', '20181101.pkl', '20181102.pkl', '20181105.pkl', '20181106.pkl', '20181107.pkl', '20181108.pkl', '20181109.pkl', '20181112.pkl', '20181113.pkl', '20181114.pkl', '20181115.pkl', '20181116.pkl', '20181119.pkl', '20181120.pkl', '20181121.pkl', '20181122.pkl', '20181123.pkl', '20181126.pkl', '20181127.pkl', '20181128.pkl', '20181129.pkl', '20181130.pkl', '20181203.pkl', '20181204.pkl', '20181205.pkl', '20181206.pkl', '20181207.pkl', '20181210.pkl', '20181211.pkl', '20181212.pkl', '20181213.pkl', '20181214.pkl', '20181217.pkl', '20181218.pkl', '20181219.pkl', '20181220.pkl', '20181221.pkl', '20181224.pkl', '20181226.pkl', '20181227.pkl', '20181228.pkl', '20190102.pkl', '20190103.pkl', '20190104.pkl', '20190107.pkl', '20190108.pkl', '20190109.pkl', '20190110.pkl', '20190111.pkl', '20190114.pkl', '20190115.pkl', '20190116.pkl', '20190117.pkl', '20190118.pkl', '20190121.pkl', '20190122.pkl', '20190123.pkl', '20190124.pkl', '20190125.pkl', '20190128.pkl', '20190129.pkl', '20190130.pkl', '20190131.pkl', '20190201.pkl', '20190207.pkl', '20190208.pkl', '20190211.pkl', '20190212.pkl', '20190213.pkl', '20190214.pkl', '20190215.pkl', '20190218.pkl', '20190219.pkl', '20190220.pkl', '20190221.pkl', '20190222.pkl', '20190225.pkl', '20190226.pkl', '20190227.pkl', '20190228.pkl', '20190304.pkl', '20190305.pkl', '20190306.pkl', '20190307.pkl', '20190308.pkl', '20190311.pkl', '20190312.pkl', '20190313.pkl', '20190314.pkl', '20190315.pkl', '20190318.pkl', '20190319.pkl', '20190320.pkl', '20190321.pkl', '20190322.pkl', '20190325.pkl', '20190326.pkl', '20190327.pkl', '20190328.pkl', '20190329.pkl', '20190401.pkl', '20190402.pkl', '20190403.pkl', '20190404.pkl', '20190405.pkl', '20190408.pkl', '20190409.pkl', '20190410.pkl', '20190411.pkl', '20190412.pkl', '20190415.pkl', '20190416.pkl', '20190417.pkl', '20190418.pkl', '20190419.pkl', '20190422.pkl', '20190423.pkl', '20190424.pkl', '20190425.pkl', '20190426.pkl', '20190429.pkl', '20190430.pkl', '20190502.pkl', '20190503.pkl', '20190507.pkl', '20190508.pkl', '20190509.pkl', '20190510.pkl', '20190513.pkl', '20190514.pkl', '20190515.pkl', '20190516.pkl', '20190517.pkl', '20190520.pkl', '20190521.pkl', '20190522.pkl', '20190523.pkl', '20190524.pkl', '20190527.pkl', '20190528.pkl', '20190529.pkl', '20190530.pkl', '20190531.pkl', '20190603.pkl', '20190604.pkl', '20190605.pkl', '20190607.pkl', '20190610.pkl', '20190611.pkl', '20190612.pkl', '20190613.pkl', '20190614.pkl', '20190617.pkl', '20190618.pkl', '20190619.pkl', '20190620.pkl', '20190621.pkl', '20190624.pkl', '20190625.pkl', '20190626.pkl', '20190627.pkl', '20190628.pkl', '20190701.pkl', '20190702.pkl', '20190703.pkl', '20190704.pkl', '20190705.pkl', '20190708.pkl', '20190709.pkl', '20190710.pkl', '20190711.pkl', '20190712.pkl', '20190715.pkl', '20190716.pkl', '20190717.pkl', '20190718.pkl', '20190719.pkl', '20190722.pkl', '20190723.pkl', '20190724.pkl', '20190725.pkl', '20190726.pkl', '20190729.pkl', '20190730.pkl', '20190731.pkl', '20190801.pkl', '20190802.pkl', '20190805.pkl', '20190806.pkl', '20190807.pkl', '20190808.pkl', '20190809.pkl', '20190812.pkl', '20190813.pkl', '20190814.pkl', '20190816.pkl', '20190819.pkl', '20190820.pkl', '20190821.pkl', '20190822.pkl', '20190823.pkl', '20190826.pkl', '20190827.pkl', '20190828.pkl', '20190829.pkl', '20190830.pkl', '20190902.pkl', '20190903.pkl', '20190904.pkl', '20190905.pkl', '20190906.pkl', '20190909.pkl', '20190910.pkl', '20190911.pkl', '20190916.pkl', '20190917.pkl', '20190918.pkl', '20190919.pkl', '20190920.pkl', '20190923.pkl', '20190924.pkl', '20190925.pkl', '20190926.pkl', '20190927.pkl', '20190930.pkl', '20191001.pkl', '20191002.pkl', '20191004.pkl', '20191007.pkl', '20191008.pkl', '20191010.pkl', '20191011.pkl', '20191014.pkl', '20191015.pkl', '20191016.pkl', '20191017.pkl', '20191018.pkl', '20191021.pkl', '20191022.pkl', '20191023.pkl', '20191024.pkl', '20191025.pkl', '20191028.pkl', '20191029.pkl', '20191030.pkl', '20191031.pkl', '20191101.pkl', '20191104.pkl', '20191105.pkl', '20191106.pkl', '20191107.pkl', '20191108.pkl', '20191111.pkl', '20191112.pkl', '20191113.pkl', '20191114.pkl', '20191115.pkl', '20191118.pkl', '20191119.pkl', '20191120.pkl', '20191121.pkl', '20191122.pkl', '20191125.pkl', '20191126.pkl', '20191127.pkl', '20191128.pkl', '20191129.pkl', '20191202.pkl', '20191203.pkl', '20191204.pkl', '20191205.pkl', '20191206.pkl', '20191209.pkl', '20191210.pkl', '20191211.pkl', '20191212.pkl', '20191213.pkl', '20191216.pkl', '20191217.pkl', '20191218.pkl', '20191219.pkl', '20191220.pkl', '20191223.pkl', '20191224.pkl', '20191226.pkl', '20191227.pkl', '20191230.pkl', '20200102.pkl', '20200103.pkl', '20200106.pkl', '20200107.pkl', '20200108.pkl', '20200109.pkl', '20200110.pkl', '20200113.pkl', '20200114.pkl', '20200115.pkl', '20200116.pkl', '20200117.pkl', '20200120.pkl', '20200121.pkl', '20200122.pkl', '20200123.pkl', '20200128.pkl', '20200129.pkl', '20200130.pkl', '20200131.pkl', '20200203.pkl', '20200204.pkl', '20200205.pkl', '20200206.pkl', '20200207.pkl', '20200210.pkl', '20200211.pkl', '20200212.pkl', '20200213.pkl', '20200214.pkl', '20200217.pkl', '20200218.pkl', '20200219.pkl', '20200220.pkl', '20200221.pkl', '20200224.pkl', '20200225.pkl', '20200226.pkl', '20200227.pkl', '20200228.pkl', '20200302.pkl', '20200303.pkl', '20200304.pkl', '20200305.pkl', '20200306.pkl', '20200309.pkl', '20200310.pkl', '20200311.pkl', '20200312.pkl', '20200313.pkl', '20200316.pkl', '20200317.pkl', '20200318.pkl', '20200319.pkl', '20200320.pkl', '20200323.pkl', '20200324.pkl', '20200325.pkl', '20200326.pkl', '20200327.pkl', '20200330.pkl', '20200331.pkl', '20200401.pkl', '20200402.pkl', '20200403.pkl', '20200406.pkl', '20200407.pkl', '20200408.pkl', '20200409.pkl', '20200410.pkl', '20200413.pkl', '20200414.pkl', '20200416.pkl', '20200417.pkl', '20200420.pkl', '20200421.pkl', '20200422.pkl', '20200423.pkl', '20200424.pkl', '20200427.pkl', '20200428.pkl', '20200429.pkl', '20200504.pkl', '20200506.pkl', '20200507.pkl', '20200508.pkl', '20200511.pkl', '20200512.pkl', '20200513.pkl', '20200514.pkl', '20200515.pkl', '20200518.pkl', '20200519.pkl', '20200520.pkl', '20200521.pkl', '20200522.pkl', '20200525.pkl', '20200526.pkl', '20200527.pkl', '20200528.pkl', '20200529.pkl', '20200601.pkl', '20200602.pkl', '20200603.pkl', '20200604.pkl', '20200605.pkl', '20200608.pkl', '20200609.pkl', '20200610.pkl', '20200611.pkl', '20200612.pkl', '20200615.pkl', '20200616.pkl', '20200617.pkl', '20200618.pkl', '20200619.pkl', '20200622.pkl', '20200623.pkl', '20200624.pkl', '20200625.pkl', '20200626.pkl', '20200629.pkl', '20200630.pkl', '20200701.pkl', '20200702.pkl', '20200703.pkl', '20200706.pkl', '20200707.pkl', '20200708.pkl', '20200709.pkl', '20200710.pkl', '20200713.pkl', '20200714.pkl', '20200715.pkl', '20200716.pkl', '20200717.pkl', '20200720.pkl', '20200721.pkl', '20200722.pkl', '20200723.pkl', '20200724.pkl', '20200727.pkl', '20200728.pkl', '20200729.pkl', '20200730.pkl', '20200731.pkl', '20200803.pkl', '20200804.pkl', '20200805.pkl', '20200806.pkl', '20200807.pkl', '20200810.pkl', '20200811.pkl', '20200812.pkl', '20200813.pkl', '20200814.pkl', '20200818.pkl', '20200819.pkl', '20200820.pkl', '20200821.pkl', '20200824.pkl', '20200825.pkl', '20200826.pkl', '20200827.pkl', '20200828.pkl', '20200831.pkl', '20200901.pkl', '20200902.pkl', '20200903.pkl', '20200904.pkl', '20200907.pkl', '20200908.pkl', '20200909.pkl', '20200910.pkl', '20200911.pkl', '20200914.pkl', '20200915.pkl', '20200916.pkl', '20200917.pkl', '20200918.pkl', '20200921.pkl', '20200922.pkl', '20200923.pkl', '20200924.pkl', '20200925.pkl', '20200928.pkl', '20200929.pkl', '20201005.pkl', '20201006.pkl', '20201007.pkl', '20201008.pkl', '20201012.pkl', '20201013.pkl', '20201014.pkl', '20201015.pkl', '20201016.pkl', '20201019.pkl', '20201020.pkl', '20201021.pkl', '20201022.pkl', '20201023.pkl', '20201026.pkl', '20201027.pkl', '20201028.pkl', '20201029.pkl', '20201030.pkl', '20201102.pkl', '20201103.pkl', '20201104.pkl', '20201105.pkl', '20201106.pkl', '20201109.pkl', '20201110.pkl', '20201111.pkl', '20201112.pkl', '20201113.pkl', '20201116.pkl', '20201117.pkl', '20201118.pkl', '20201119.pkl', '20201120.pkl', '20201123.pkl', '20201124.pkl', '20201125.pkl', '20201126.pkl', '20201127.pkl', '20201130.pkl', '20201201.pkl', '20201202.pkl', '20201203.pkl', '20201204.pkl', '20201207.pkl', '20201208.pkl', '20201209.pkl', '20201210.pkl', '20201211.pkl', '20201214.pkl', '20201215.pkl', '20201216.pkl', '20201217.pkl', '20201218.pkl', '20201221.pkl', '20201222.pkl', '20201223.pkl', '20201224.pkl', '20201228.pkl', '20201229.pkl', '20201230.pkl', '20210104.pkl', '20210105.pkl', '20210106.pkl', '20210107.pkl', '20210108.pkl', '20210111.pkl', '20210112.pkl', '20210113.pkl', '20210114.pkl', '20210115.pkl', '20210118.pkl', '20210119.pkl', '20210120.pkl', '20210121.pkl', '20210122.pkl', '20210125.pkl', '20210126.pkl', '20210127.pkl', '20210128.pkl', '20210129.pkl', '20210201.pkl', '20210202.pkl', '20210203.pkl', '20210204.pkl', '20210205.pkl', '20210208.pkl', '20210209.pkl', '20210210.pkl', '20210215.pkl', '20210216.pkl', '20210217.pkl', '20210218.pkl', '20210219.pkl', '20210222.pkl', '20210223.pkl', '20210224.pkl', '20210225.pkl', '20210226.pkl', '20210302.pkl', '20210303.pkl', '20210304.pkl', '20210305.pkl', '20210308.pkl', '20210309.pkl', '20210310.pkl', '20210311.pkl', '20210312.pkl', '20210315.pkl', '20210316.pkl', '20210317.pkl', '20210318.pkl', '20210319.pkl', '20210322.pkl', '20210323.pkl', '20210324.pkl', '20210325.pkl', '20210326.pkl', '20210329.pkl', '20210330.pkl', '20210331.pkl', '20210401.pkl', '20210402.pkl', '20210405.pkl', '20210406.pkl', '20210407.pkl', '20210408.pkl', '20210409.pkl', '20210412.pkl', '20210413.pkl', '20210414.pkl', '20210415.pkl', '20210416.pkl', '20210419.pkl', '20210420.pkl', '20210421.pkl', '20210422.pkl', '20210423.pkl', '20210426.pkl', '20210427.pkl', '20210428.pkl', '20210429.pkl', '20210430.pkl', '20210503.pkl', '20210504.pkl', '20210506.pkl', '20210507.pkl', '20210510.pkl', '20210511.pkl', '20210512.pkl', '20210513.pkl', '20210514.pkl', '20210517.pkl', '20210518.pkl', '20210520.pkl', '20210521.pkl', '20210524.pkl', '20210525.pkl', '20210526.pkl', '20210527.pkl', '20210528.pkl', '20210531.pkl', '20210601.pkl', '20210602.pkl', '20210603.pkl', '20210604.pkl', '20210607.pkl', '20210608.pkl', '20210609.pkl', '20210610.pkl', '20210611.pkl', '20210614.pkl', '20210615.pkl', '20210616.pkl', '20210617.pkl', '20210618.pkl', '20210621.pkl', '20210622.pkl', '20210623.pkl', '20210624.pkl', '20210625.pkl', '20210628.pkl', '20210629.pkl', '20210630.pkl', '20210701.pkl', '20210702.pkl', '20210705.pkl', '20210706.pkl', '20210707.pkl', '20210708.pkl', '20210709.pkl', '20210712.pkl', '20210713.pkl', '20210714.pkl', '20210715.pkl', '20210716.pkl', '20210719.pkl', '20210720.pkl', '20210721.pkl', '20210722.pkl', '20210723.pkl', '20210726.pkl', '20210727.pkl', '20210728.pkl', '20210729.pkl', '20210730.pkl', '20210802.pkl', '20210803.pkl', '20210804.pkl', '20210805.pkl', '20210806.pkl', '20210809.pkl', '20210810.pkl', '20210811.pkl', '20210812.pkl', '20210813.pkl', '20210817.pkl', '20210818.pkl', '20210819.pkl', '20210820.pkl', '20210823.pkl', '20210824.pkl', '20210825.pkl', '20210826.pkl', '20210827.pkl', '20210830.pkl', '20210831.pkl', '20210901.pkl', '20210902.pkl', '20210903.pkl', '20210906.pkl', '20210907.pkl', '20210908.pkl', '20210909.pkl', '20210910.pkl', '20210913.pkl', '20210914.pkl', '20210915.pkl', '20210916.pkl', '20210917.pkl', '20210923.pkl', '20210924.pkl', '20210927.pkl', '20210928.pkl', '20210929.pkl', '20210930.pkl', '20211001.pkl', '20211005.pkl', '20211006.pkl', '20211007.pkl', '20211008.pkl', '20211012.pkl', '20211013.pkl', '20211014.pkl', '20211015.pkl', '20211018.pkl', '20211019.pkl', '20211020.pkl', '20211021.pkl', '20211022.pkl', '20211025.pkl', '20211026.pkl', '20211027.pkl', '20211028.pkl', '20211029.pkl', '20211101.pkl', '20211102.pkl', '20211103.pkl', '20211104.pkl', '20211105.pkl', '20211108.pkl', '20211109.pkl', '20211110.pkl', '20211111.pkl', '20211112.pkl', '20211115.pkl', '20211116.pkl', '20211117.pkl', '20211118.pkl', '20211119.pkl', '20211122.pkl', '20211123.pkl', '20211124.pkl', '20211125.pkl', '20211126.pkl', '20211129.pkl', '20211130.pkl', '20211201.pkl', '20211202.pkl', '20211203.pkl', '20211206.pkl', '20211207.pkl', '20211208.pkl', '20211209.pkl', '20211210.pkl', '20211213.pkl', '20211214.pkl', '20211215.pkl', '20211216.pkl', '20211217.pkl', '20211220.pkl', '20211221.pkl', '20211222.pkl', '20211223.pkl', '20211224.pkl', '20211227.pkl', '20211228.pkl', '20211229.pkl', '20211230.pkl', '20220103.pkl', '20220104.pkl', '20220105.pkl', '20220106.pkl', '20220107.pkl', '20220110.pkl', '20220111.pkl', '20220112.pkl', '20220113.pkl', '20220114.pkl', '20220117.pkl', '20220118.pkl', '20220119.pkl', '20220120.pkl', '20220121.pkl', '20220124.pkl', '20220125.pkl', '20220126.pkl', '20220127.pkl', '20220128.pkl', '20220203.pkl', '20220204.pkl', '20220207.pkl', '20220208.pkl', '20220209.pkl', '20220210.pkl', '20220211.pkl', '20220214.pkl', '20220215.pkl', '20220216.pkl', '20220217.pkl', '20220218.pkl', '20220221.pkl', '20220222.pkl', '20220223.pkl', '20220224.pkl', '20220225.pkl', '20220228.pkl', '20220302.pkl', '20220303.pkl', '20220304.pkl', '20220307.pkl', '20220308.pkl', '20220310.pkl', '20220311.pkl', '20220314.pkl', '20220315.pkl', '20220316.pkl', '20220317.pkl', '20220318.pkl', '20220321.pkl', '20220322.pkl', '20220323.pkl', '20220324.pkl', '20220325.pkl', '20220328.pkl', '20220329.pkl', '20220330.pkl', '20220331.pkl', '20220401.pkl', '20220404.pkl', '20220405.pkl', '20220406.pkl', '20220407.pkl', '20220408.pkl', '20220411.pkl', '20220412.pkl', '20220413.pkl', '20220414.pkl', '20220415.pkl', '20220418.pkl', '20220419.pkl', '20220420.pkl', '20220421.pkl', '20220422.pkl', '20220425.pkl', '20220426.pkl', '20220427.pkl', '20220428.pkl', '20220429.pkl', '20220502.pkl', '20220503.pkl', '20220504.pkl', '20220506.pkl', '20220509.pkl', '20220510.pkl', '20220511.pkl', '20220512.pkl'])"
      ]
     },
     "execution_count": 19,
     "metadata": {},
     "output_type": "execute_result"
    }
   ],
   "source": [
    "calculate_dict.keys()"
   ]
  },
  {
   "cell_type": "code",
   "execution_count": 20,
   "metadata": {},
   "outputs": [
    {
     "data": {
      "text/plain": [
       "144"
      ]
     },
     "execution_count": 20,
     "metadata": {},
     "output_type": "execute_result"
    }
   ],
   "source": [
    "calculate_dict['20171115.pkl']['positive'].nunique()"
   ]
  },
  {
   "cell_type": "code",
   "execution_count": 21,
   "metadata": {
    "collapsed": false
   },
   "outputs": [
    {
     "data": {
      "text/plain": [
       "75"
      ]
     },
     "execution_count": 21,
     "metadata": {},
     "output_type": "execute_result"
    }
   ],
   "source": [
    "calculate_dict['20171115.pkl']['negative'].nunique()"
   ]
  },
  {
   "cell_type": "code",
   "execution_count": 22,
   "metadata": {},
   "outputs": [
    {
     "data": {
      "text/html": [
       "<div>\n",
       "<style scoped>\n",
       "    .dataframe tbody tr th:only-of-type {\n",
       "        vertical-align: middle;\n",
       "    }\n",
       "\n",
       "    .dataframe tbody tr th {\n",
       "        vertical-align: top;\n",
       "    }\n",
       "\n",
       "    .dataframe thead th {\n",
       "        text-align: right;\n",
       "    }\n",
       "</style>\n",
       "<table border=\"1\" class=\"dataframe\">\n",
       "  <thead>\n",
       "    <tr style=\"text-align: right;\">\n",
       "      <th></th>\n",
       "      <th>anchor</th>\n",
       "      <th>negative</th>\n",
       "      <th>positive</th>\n",
       "    </tr>\n",
       "    <tr>\n",
       "      <th>주가번호</th>\n",
       "      <th></th>\n",
       "      <th></th>\n",
       "      <th></th>\n",
       "    </tr>\n",
       "  </thead>\n",
       "  <tbody>\n",
       "    <tr>\n",
       "      <th>383646</th>\n",
       "      <td>기업은행: 2017년(E) 지배주주순이익 +30.2%yoy인 1.51조원을 예상한...</td>\n",
       "      <td>KT (030200) NDR takeaways - 본업은 양호, 규제가 변수 ● 3...</td>\n",
       "      <td>한국항공우주 (047810) 어닝쇼크지만 더 나빠질 건 없다 3Q17 Review:...</td>\n",
       "    </tr>\n",
       "    <tr>\n",
       "      <th>383617</th>\n",
       "      <td>막연한 우려 대비 견조한 펀더멘탈3분기 지배순익 2,152억원(YoY +115.1%...</td>\n",
       "      <td>고려아연 (010130.KS) 아연 가격이 10년래 최고치로 상승했지만, 고려아연 ...</td>\n",
       "      <td>실적 Review2017.11.15 What’s new : 제일제당의 삼성생명 지분...</td>\n",
       "    </tr>\n",
       "    <tr>\n",
       "      <th>383236</th>\n",
       "      <td>실적 Review2017.11.15 What’s new : 제일제당의 삼성생명 지분...</td>\n",
       "      <td>고려아연 (010130.KS) 아연 가격이 10년래 최고치로 상승했지만, 고려아연 ...</td>\n",
       "      <td>막연한 우려 대비 견조한 펀더멘탈3분기 지배순익 2,152억원(YoY +115.1%...</td>\n",
       "    </tr>\n",
       "    <tr>\n",
       "      <th>383453</th>\n",
       "      <td>이제는 내년 소비재 주가상승 기대감으로 매수 Nov 201715 ▶ Highligh...</td>\n",
       "      <td>고려아연 (010130.KS) 아연 가격이 10년래 최고치로 상승했지만, 고려아연 ...</td>\n",
       "      <td>막연한 우려 대비 견조한 펀더멘탈3분기 지배순익 2,152억원(YoY +115.1%...</td>\n",
       "    </tr>\n",
       "    <tr>\n",
       "      <th>383647</th>\n",
       "      <td>기업은행: 2017년(E) 지배주주순이익 +30.2%yoy인 1.51조원을 예상한...</td>\n",
       "      <td>진성티이씨 (036890.KQ)미국 법인도 본격 실적 성장 본사 및 미국 법인 매출...</td>\n",
       "      <td>Results Comment BUY40,00030,700 - 목표주가는 2018년 ...</td>\n",
       "    </tr>\n",
       "    <tr>\n",
       "      <th>...</th>\n",
       "      <td>...</td>\n",
       "      <td>...</td>\n",
       "      <td>...</td>\n",
       "    </tr>\n",
       "    <tr>\n",
       "      <th>383209</th>\n",
       "      <td>Results Comment 104,00071,400 투자의견 BUY, 목표주가 1...</td>\n",
       "      <td>2017년 실적 개선을 보여주며 주가 상승에 동참. 2018년 현대제철의 특수강공장...</td>\n",
       "      <td>3분기 실적 리뷰: 시장 기대치 상회 3분기 연결 매출 5,693원(YoY +224...</td>\n",
       "    </tr>\n",
       "    <tr>\n",
       "      <th>383195</th>\n",
       "      <td>3분기 실적 리뷰: 시장 기대치 상회 3분기 연결 매출 5,693원(YoY +224...</td>\n",
       "      <td>2017년 실적 개선을 보여주며 주가 상승에 동참. 2018년 현대제철의 특수강공장...</td>\n",
       "      <td>Results Comment 104,00071,400 투자의견 BUY, 목표주가 1...</td>\n",
       "    </tr>\n",
       "    <tr>\n",
       "      <th>383305</th>\n",
       "      <td>- 국내 턴어라운드는 시장의 기대보다 가파른 상황이며, Acushnet와 USA도 ...</td>\n",
       "      <td>2017년 실적 개선을 보여주며 주가 상승에 동참. 2018년 현대제철의 특수강공장...</td>\n",
       "      <td>Results Comment 104,00071,400 투자의견 BUY, 목표주가 1...</td>\n",
       "    </tr>\n",
       "    <tr>\n",
       "      <th>383293</th>\n",
       "      <td>Result Comment 3분기 연결 영업이익은 471.3% YoY 증가한 356...</td>\n",
       "      <td>2017년 실적 개선을 보여주며 주가 상승에 동참. 2018년 현대제철의 특수강공장...</td>\n",
       "      <td>Results Comment 104,00071,400 투자의견 BUY, 목표주가 1...</td>\n",
       "    </tr>\n",
       "    <tr>\n",
       "      <th>383594</th>\n",
       "      <td>미국과 유럽 출시 스케줄을 주목할 필요 2018년도 매출액은 1,958억원(+10....</td>\n",
       "      <td>2017. 11. 15 턴어라운드 지속, 저점 매수 구간 예상대로 실적 턴어라운드 ...</td>\n",
       "      <td>Result Comment 3Q17 당기순이익 427억원(+30.7% YoY)으로 ...</td>\n",
       "    </tr>\n",
       "  </tbody>\n",
       "</table>\n",
       "<p>261 rows × 3 columns</p>\n",
       "</div>"
      ],
      "text/plain": [
       "                                                   anchor  \\\n",
       "주가번호                                                        \n",
       "383646   기업은행: 2017년(E) 지배주주순이익 +30.2%yoy인 1.51조원을 예상한...   \n",
       "383617  막연한 우려 대비 견조한 펀더멘탈3분기 지배순익 2,152억원(YoY +115.1%...   \n",
       "383236  실적 Review2017.11.15 What’s new : 제일제당의 삼성생명 지분...   \n",
       "383453  이제는 내년 소비재 주가상승 기대감으로 매수 Nov 201715 ▶ Highligh...   \n",
       "383647   기업은행: 2017년(E) 지배주주순이익 +30.2%yoy인 1.51조원을 예상한...   \n",
       "...                                                   ...   \n",
       "383209  Results Comment 104,00071,400 투자의견 BUY, 목표주가 1...   \n",
       "383195  3분기 실적 리뷰: 시장 기대치 상회 3분기 연결 매출 5,693원(YoY +224...   \n",
       "383305  - 국내 턴어라운드는 시장의 기대보다 가파른 상황이며, Acushnet와 USA도 ...   \n",
       "383293  Result Comment 3분기 연결 영업이익은 471.3% YoY 증가한 356...   \n",
       "383594  미국과 유럽 출시 스케줄을 주목할 필요 2018년도 매출액은 1,958억원(+10....   \n",
       "\n",
       "                                                 negative  \\\n",
       "주가번호                                                        \n",
       "383646  KT (030200) NDR takeaways - 본업은 양호, 규제가 변수 ● 3...   \n",
       "383617  고려아연 (010130.KS) 아연 가격이 10년래 최고치로 상승했지만, 고려아연 ...   \n",
       "383236  고려아연 (010130.KS) 아연 가격이 10년래 최고치로 상승했지만, 고려아연 ...   \n",
       "383453  고려아연 (010130.KS) 아연 가격이 10년래 최고치로 상승했지만, 고려아연 ...   \n",
       "383647  진성티이씨 (036890.KQ)미국 법인도 본격 실적 성장 본사 및 미국 법인 매출...   \n",
       "...                                                   ...   \n",
       "383209  2017년 실적 개선을 보여주며 주가 상승에 동참. 2018년 현대제철의 특수강공장...   \n",
       "383195  2017년 실적 개선을 보여주며 주가 상승에 동참. 2018년 현대제철의 특수강공장...   \n",
       "383305  2017년 실적 개선을 보여주며 주가 상승에 동참. 2018년 현대제철의 특수강공장...   \n",
       "383293  2017년 실적 개선을 보여주며 주가 상승에 동참. 2018년 현대제철의 특수강공장...   \n",
       "383594  2017. 11. 15 턴어라운드 지속, 저점 매수 구간 예상대로 실적 턴어라운드 ...   \n",
       "\n",
       "                                                 positive  \n",
       "주가번호                                                       \n",
       "383646  한국항공우주 (047810) 어닝쇼크지만 더 나빠질 건 없다 3Q17 Review:...  \n",
       "383617  실적 Review2017.11.15 What’s new : 제일제당의 삼성생명 지분...  \n",
       "383236  막연한 우려 대비 견조한 펀더멘탈3분기 지배순익 2,152억원(YoY +115.1%...  \n",
       "383453  막연한 우려 대비 견조한 펀더멘탈3분기 지배순익 2,152억원(YoY +115.1%...  \n",
       "383647  Results Comment BUY40,00030,700 - 목표주가는 2018년 ...  \n",
       "...                                                   ...  \n",
       "383209  3분기 실적 리뷰: 시장 기대치 상회 3분기 연결 매출 5,693원(YoY +224...  \n",
       "383195  Results Comment 104,00071,400 투자의견 BUY, 목표주가 1...  \n",
       "383305  Results Comment 104,00071,400 투자의견 BUY, 목표주가 1...  \n",
       "383293  Results Comment 104,00071,400 투자의견 BUY, 목표주가 1...  \n",
       "383594  Result Comment 3Q17 당기순이익 427억원(+30.7% YoY)으로 ...  \n",
       "\n",
       "[261 rows x 3 columns]"
      ]
     },
     "execution_count": 22,
     "metadata": {},
     "output_type": "execute_result"
    }
   ],
   "source": [
    "calculate_dict['20171115.pkl']"
   ]
  }
 ],
 "metadata": {
  "kernelspec": {
   "display_name": "Python 3",
   "language": "python",
   "name": "python3"
  },
  "language_info": {
   "codemirror_mode": {
    "name": "ipython",
    "version": 3
   },
   "file_extension": ".py",
   "mimetype": "text/x-python",
   "name": "python",
   "nbconvert_exporter": "python",
   "pygments_lexer": "ipython3",
   "version": "3.9.17"
  }
 },
 "nbformat": 4,
 "nbformat_minor": 0
}
