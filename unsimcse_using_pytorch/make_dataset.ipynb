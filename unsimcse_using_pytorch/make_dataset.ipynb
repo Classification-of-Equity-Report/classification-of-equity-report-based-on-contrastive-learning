{
 "cells": [
  {
   "cell_type": "code",
   "execution_count": 1,
   "metadata": {},
   "outputs": [],
   "source": [
    "import os\n",
    "import pickle\n",
    "import pandas as pd\n",
    "import torch"
   ]
  },
  {
   "cell_type": "code",
   "execution_count": 2,
   "metadata": {},
   "outputs": [],
   "source": [
    "# 피클 파일\n",
    "path = \".\\\\data\\\\txt_pkl_v3\\\\txt_pkl_v3\\\\\"\n",
    "data_list = os.listdir(path)\n",
    "len(data_list)\n",
    "\n",
    "data_dict = {}\n",
    "\n",
    "\n",
    "for data_name in data_list:\n",
    "    with open(path + data_name, 'rb') as f:\n",
    "        data_dict[data_name] = pickle.load(f)"
   ]
  },
  {
   "cell_type": "code",
   "execution_count": 3,
   "metadata": {},
   "outputs": [
    {
     "data": {
      "text/plain": [
       "dict_keys(['20171115.pkl', '20171116.pkl', '20171117.pkl', '20171120.pkl', '20171121.pkl', '20171122.pkl', '20171123.pkl', '20171124.pkl', '20171127.pkl', '20171128.pkl', '20171129.pkl', '20171130.pkl', '20171201.pkl', '20171204.pkl', '20171205.pkl', '20171206.pkl', '20171207.pkl', '20171208.pkl', '20171211.pkl', '20171212.pkl', '20171213.pkl', '20171214.pkl', '20171215.pkl', '20171218.pkl', '20171219.pkl', '20171220.pkl', '20171221.pkl', '20171222.pkl', '20171226.pkl', '20171227.pkl', '20171228.pkl', '20180102.pkl', '20180103.pkl', '20180104.pkl', '20180105.pkl', '20180108.pkl', '20180109.pkl', '20180110.pkl', '20180111.pkl', '20180112.pkl', '20180115.pkl', '20180116.pkl', '20180117.pkl', '20180118.pkl', '20180119.pkl', '20180122.pkl', '20180123.pkl', '20180124.pkl', '20180125.pkl', '20180126.pkl', '20180129.pkl', '20180130.pkl', '20180131.pkl', '20180201.pkl', '20180202.pkl', '20180204.pkl', '20180205.pkl', '20180206.pkl', '20180207.pkl', '20180208.pkl', '20180209.pkl', '20180212.pkl', '20180213.pkl', '20180214.pkl', '20180219.pkl', '20180220.pkl', '20180221.pkl', '20180222.pkl', '20180223.pkl', '20180226.pkl', '20180227.pkl', '20180228.pkl', '20180302.pkl', '20180305.pkl', '20180306.pkl', '20180307.pkl', '20180308.pkl', '20180309.pkl', '20180312.pkl', '20180313.pkl', '20180314.pkl', '20180315.pkl', '20180316.pkl', '20180319.pkl', '20180320.pkl', '20180321.pkl', '20180322.pkl', '20180323.pkl', '20180326.pkl', '20180327.pkl', '20180328.pkl', '20180329.pkl', '20180330.pkl', '20180331.pkl', '20180402.pkl', '20180403.pkl', '20180404.pkl', '20180405.pkl', '20180406.pkl', '20180409.pkl', '20180410.pkl', '20180411.pkl', '20180412.pkl', '20180413.pkl', '20180416.pkl', '20180417.pkl', '20180418.pkl', '20180419.pkl', '20180420.pkl', '20180423.pkl', '20180424.pkl', '20180425.pkl', '20180426.pkl', '20180427.pkl', '20180430.pkl', '20180502.pkl', '20180503.pkl', '20180504.pkl', '20180508.pkl', '20180509.pkl', '20180510.pkl', '20180511.pkl', '20180514.pkl', '20180515.pkl', '20180516.pkl', '20180517.pkl', '20180518.pkl', '20180521.pkl', '20180523.pkl', '20180524.pkl', '20180525.pkl', '20180528.pkl', '20180529.pkl', '20180530.pkl', '20180531.pkl', '20180601.pkl', '20180604.pkl', '20180605.pkl', '20180607.pkl', '20180608.pkl', '20180611.pkl', '20180612.pkl', '20180614.pkl', '20180615.pkl', '20180618.pkl', '20180619.pkl', '20180620.pkl', '20180621.pkl', '20180622.pkl', '20180625.pkl', '20180626.pkl', '20180627.pkl', '20180628.pkl', '20180629.pkl', '20180702.pkl', '20180703.pkl', '20180704.pkl', '20180705.pkl', '20180706.pkl', '20180709.pkl', '20180710.pkl', '20180711.pkl', '20180712.pkl', '20180713.pkl', '20180716.pkl', '20180717.pkl', '20180718.pkl', '20180719.pkl', '20180720.pkl', '20180723.pkl', '20180724.pkl', '20180725.pkl', '20180726.pkl', '20180727.pkl', '20180730.pkl', '20180731.pkl', '20180801.pkl', '20180802.pkl', '20180803.pkl', '20180806.pkl', '20180807.pkl', '20180808.pkl', '20180809.pkl', '20180810.pkl', '20180813.pkl', '20180814.pkl', '20180816.pkl', '20180817.pkl', '20180820.pkl', '20180821.pkl', '20180822.pkl', '20180823.pkl', '20180824.pkl', '20180827.pkl', '20180828.pkl', '20180829.pkl', '20180830.pkl', '20180831.pkl', '20180903.pkl', '20180904.pkl', '20180905.pkl', '20180906.pkl', '20180907.pkl', '20180910.pkl', '20180911.pkl', '20180912.pkl', '20180913.pkl', '20180914.pkl', '20180917.pkl', '20180918.pkl', '20180919.pkl', '20180920.pkl', '20180921.pkl', '20180927.pkl', '20180928.pkl', '20181001.pkl', '20181002.pkl', '20181004.pkl', '20181005.pkl', '20181008.pkl', '20181010.pkl', '20181011.pkl', '20181012.pkl', '20181015.pkl', '20181016.pkl', '20181017.pkl', '20181018.pkl', '20181019.pkl', '20181022.pkl', '20181023.pkl', '20181024.pkl', '20181025.pkl', '20181026.pkl', '20181029.pkl', '20181030.pkl', '20181031.pkl', '20181101.pkl', '20181102.pkl', '20181105.pkl', '20181106.pkl', '20181107.pkl', '20181108.pkl', '20181109.pkl', '20181112.pkl', '20181113.pkl', '20181114.pkl', '20181115.pkl', '20181116.pkl', '20181119.pkl', '20181120.pkl', '20181121.pkl', '20181122.pkl', '20181123.pkl', '20181126.pkl', '20181127.pkl', '20181128.pkl', '20181129.pkl', '20181130.pkl', '20181203.pkl', '20181204.pkl', '20181205.pkl', '20181206.pkl', '20181207.pkl', '20181210.pkl', '20181211.pkl', '20181212.pkl', '20181213.pkl', '20181214.pkl', '20181217.pkl', '20181218.pkl', '20181219.pkl', '20181220.pkl', '20181221.pkl', '20181224.pkl', '20181226.pkl', '20181227.pkl', '20181228.pkl', '20190102.pkl', '20190103.pkl', '20190104.pkl', '20190107.pkl', '20190108.pkl', '20190109.pkl', '20190110.pkl', '20190111.pkl', '20190114.pkl', '20190115.pkl', '20190116.pkl', '20190117.pkl', '20190118.pkl', '20190121.pkl', '20190122.pkl', '20190123.pkl', '20190124.pkl', '20190125.pkl', '20190128.pkl', '20190129.pkl', '20190130.pkl', '20190131.pkl', '20190201.pkl', '20190207.pkl', '20190208.pkl', '20190211.pkl', '20190212.pkl', '20190213.pkl', '20190214.pkl', '20190215.pkl', '20190218.pkl', '20190219.pkl', '20190220.pkl', '20190221.pkl', '20190222.pkl', '20190225.pkl', '20190226.pkl', '20190227.pkl', '20190228.pkl', '20190304.pkl', '20190305.pkl', '20190306.pkl', '20190307.pkl', '20190308.pkl', '20190311.pkl', '20190312.pkl', '20190313.pkl', '20190314.pkl', '20190315.pkl', '20190318.pkl', '20190319.pkl', '20190320.pkl', '20190321.pkl', '20190322.pkl', '20190325.pkl', '20190326.pkl', '20190327.pkl', '20190328.pkl', '20190329.pkl', '20190331.pkl', '20190401.pkl', '20190402.pkl', '20190403.pkl', '20190404.pkl', '20190405.pkl', '20190408.pkl', '20190409.pkl', '20190410.pkl', '20190411.pkl', '20190412.pkl', '20190415.pkl', '20190416.pkl', '20190417.pkl', '20190418.pkl', '20190419.pkl', '20190422.pkl', '20190423.pkl', '20190424.pkl', '20190425.pkl', '20190426.pkl', '20190429.pkl', '20190430.pkl', '20190501.pkl', '20190502.pkl', '20190503.pkl', '20190507.pkl', '20190508.pkl', '20190509.pkl', '20190510.pkl', '20190513.pkl', '20190514.pkl', '20190515.pkl', '20190516.pkl', '20190517.pkl', '20190520.pkl', '20190521.pkl', '20190522.pkl', '20190523.pkl', '20190524.pkl', '20190527.pkl', '20190528.pkl', '20190529.pkl', '20190530.pkl', '20190531.pkl', '20190603.pkl', '20190604.pkl', '20190605.pkl', '20190607.pkl', '20190610.pkl', '20190611.pkl', '20190612.pkl', '20190613.pkl', '20190614.pkl', '20190617.pkl', '20190618.pkl', '20190619.pkl', '20190620.pkl', '20190621.pkl', '20190624.pkl', '20190625.pkl', '20190626.pkl', '20190627.pkl', '20190628.pkl', '20190701.pkl', '20190702.pkl', '20190703.pkl', '20190704.pkl', '20190705.pkl', '20190708.pkl', '20190709.pkl', '20190710.pkl', '20190711.pkl', '20190712.pkl', '20190715.pkl', '20190716.pkl', '20190717.pkl', '20190718.pkl', '20190719.pkl', '20190722.pkl', '20190723.pkl', '20190724.pkl', '20190725.pkl', '20190726.pkl', '20190729.pkl', '20190730.pkl', '20190731.pkl', '20190801.pkl', '20190802.pkl', '20190805.pkl', '20190806.pkl', '20190807.pkl', '20190808.pkl', '20190809.pkl', '20190812.pkl', '20190813.pkl', '20190814.pkl', '20190816.pkl', '20190819.pkl', '20190820.pkl', '20190821.pkl', '20190822.pkl', '20190823.pkl', '20190826.pkl', '20190827.pkl', '20190828.pkl', '20190829.pkl', '20190830.pkl', '20190902.pkl', '20190903.pkl', '20190904.pkl', '20190905.pkl', '20190906.pkl', '20190909.pkl', '20190910.pkl', '20190911.pkl', '20190916.pkl', '20190917.pkl', '20190918.pkl', '20190919.pkl', '20190920.pkl', '20190923.pkl', '20190924.pkl', '20190925.pkl', '20190926.pkl', '20190927.pkl', '20190930.pkl', '20191001.pkl', '20191002.pkl', '20191004.pkl', '20191007.pkl', '20191008.pkl', '20191010.pkl', '20191011.pkl', '20191014.pkl', '20191015.pkl', '20191016.pkl', '20191017.pkl', '20191018.pkl', '20191021.pkl', '20191022.pkl', '20191023.pkl', '20191024.pkl', '20191025.pkl', '20191028.pkl', '20191029.pkl', '20191030.pkl', '20191031.pkl', '20191101.pkl', '20191104.pkl', '20191105.pkl', '20191106.pkl', '20191107.pkl', '20191108.pkl', '20191109.pkl', '20191111.pkl', '20191112.pkl', '20191113.pkl', '20191114.pkl', '20191115.pkl', '20191118.pkl', '20191119.pkl', '20191120.pkl', '20191121.pkl', '20191122.pkl', '20191125.pkl', '20191126.pkl', '20191127.pkl', '20191128.pkl', '20191129.pkl', '20191202.pkl', '20191203.pkl', '20191204.pkl', '20191205.pkl', '20191206.pkl', '20191209.pkl', '20191210.pkl', '20191211.pkl', '20191212.pkl', '20191213.pkl', '20191216.pkl', '20191217.pkl', '20191218.pkl', '20191219.pkl', '20191220.pkl', '20191223.pkl', '20191224.pkl', '20191226.pkl', '20191227.pkl', '20191230.pkl', '20191231.pkl', '20200102.pkl', '20200103.pkl', '20200106.pkl', '20200107.pkl', '20200108.pkl', '20200109.pkl', '20200110.pkl', '20200113.pkl', '20200114.pkl', '20200115.pkl', '20200116.pkl', '20200117.pkl', '20200119.pkl', '20200120.pkl', '20200121.pkl', '20200122.pkl', '20200123.pkl', '20200128.pkl', '20200129.pkl', '20200130.pkl', '20200131.pkl', '20200203.pkl', '20200204.pkl', '20200205.pkl', '20200206.pkl', '20200207.pkl', '20200210.pkl', '20200211.pkl', '20200212.pkl', '20200213.pkl', '20200214.pkl', '20200217.pkl', '20200218.pkl', '20200219.pkl', '20200220.pkl', '20200221.pkl', '20200222.pkl', '20200224.pkl', '20200225.pkl', '20200226.pkl', '20200227.pkl', '20200228.pkl', '20200302.pkl', '20200303.pkl', '20200304.pkl', '20200305.pkl', '20200306.pkl', '20200309.pkl', '20200310.pkl', '20200311.pkl', '20200312.pkl', '20200313.pkl', '20200316.pkl', '20200317.pkl', '20200318.pkl', '20200319.pkl', '20200320.pkl', '20200323.pkl', '20200324.pkl', '20200325.pkl', '20200326.pkl', '20200327.pkl', '20200329.pkl', '20200330.pkl', '20200331.pkl', '20200401.pkl', '20200402.pkl', '20200403.pkl', '20200406.pkl', '20200407.pkl', '20200408.pkl', '20200409.pkl', '20200410.pkl', '20200413.pkl', '20200414.pkl', '20200416.pkl', '20200417.pkl', '20200420.pkl', '20200421.pkl', '20200422.pkl', '20200423.pkl', '20200424.pkl', '20200427.pkl', '20200428.pkl', '20200429.pkl', '20200501.pkl', '20200504.pkl', '20200506.pkl', '20200507.pkl', '20200508.pkl', '20200511.pkl', '20200512.pkl', '20200513.pkl', '20200514.pkl', '20200515.pkl', '20200518.pkl', '20200519.pkl', '20200520.pkl', '20200521.pkl', '20200522.pkl', '20200525.pkl', '20200526.pkl', '20200527.pkl', '20200528.pkl', '20200529.pkl', '20200601.pkl', '20200602.pkl', '20200603.pkl', '20200604.pkl', '20200605.pkl', '20200608.pkl', '20200609.pkl', '20200610.pkl', '20200611.pkl', '20200612.pkl', '20200615.pkl', '20200616.pkl', '20200617.pkl', '20200618.pkl', '20200619.pkl', '20200622.pkl', '20200623.pkl', '20200624.pkl', '20200625.pkl', '20200626.pkl', '20200629.pkl', '20200630.pkl', '20200701.pkl', '20200702.pkl', '20200703.pkl', '20200706.pkl', '20200707.pkl', '20200708.pkl', '20200709.pkl', '20200710.pkl', '20200713.pkl', '20200714.pkl', '20200715.pkl', '20200716.pkl', '20200717.pkl', '20200720.pkl', '20200721.pkl', '20200722.pkl', '20200723.pkl', '20200724.pkl', '20200725.pkl', '20200727.pkl', '20200728.pkl', '20200729.pkl', '20200730.pkl', '20200731.pkl', '20200803.pkl', '20200804.pkl', '20200805.pkl', '20200806.pkl', '20200807.pkl', '20200810.pkl', '20200811.pkl', '20200812.pkl', '20200813.pkl', '20200814.pkl', '20200818.pkl', '20200819.pkl', '20200820.pkl', '20200821.pkl', '20200824.pkl', '20200825.pkl', '20200826.pkl', '20200827.pkl', '20200828.pkl', '20200831.pkl', '20200901.pkl', '20200902.pkl', '20200903.pkl', '20200904.pkl', '20200907.pkl', '20200908.pkl', '20200909.pkl', '20200910.pkl', '20200911.pkl', '20200914.pkl', '20200915.pkl', '20200916.pkl', '20200917.pkl', '20200918.pkl', '20200921.pkl', '20200922.pkl', '20200923.pkl', '20200924.pkl', '20200925.pkl', '20200928.pkl', '20200929.pkl', '20201005.pkl', '20201006.pkl', '20201007.pkl', '20201008.pkl', '20201012.pkl', '20201013.pkl', '20201014.pkl', '20201015.pkl', '20201016.pkl', '20201019.pkl', '20201020.pkl', '20201021.pkl', '20201022.pkl', '20201023.pkl', '20201026.pkl', '20201027.pkl', '20201028.pkl', '20201029.pkl', '20201030.pkl', '20201102.pkl', '20201103.pkl', '20201104.pkl', '20201105.pkl', '20201106.pkl', '20201109.pkl', '20201110.pkl', '20201111.pkl', '20201112.pkl', '20201113.pkl', '20201116.pkl', '20201117.pkl', '20201118.pkl', '20201119.pkl', '20201120.pkl', '20201123.pkl', '20201124.pkl', '20201125.pkl', '20201126.pkl', '20201127.pkl', '20201130.pkl', '20201201.pkl', '20201202.pkl', '20201203.pkl', '20201204.pkl', '20201207.pkl', '20201208.pkl', '20201209.pkl', '20201210.pkl', '20201211.pkl', '20201214.pkl', '20201215.pkl', '20201216.pkl', '20201217.pkl', '20201218.pkl', '20201221.pkl', '20201222.pkl', '20201223.pkl', '20201224.pkl', '20201228.pkl', '20201229.pkl', '20201230.pkl', '20210104.pkl', '20210105.pkl', '20210106.pkl', '20210107.pkl', '20210108.pkl', '20210111.pkl', '20210112.pkl', '20210113.pkl', '20210114.pkl', '20210115.pkl', '20210118.pkl', '20210119.pkl', '20210120.pkl', '20210121.pkl', '20210122.pkl', '20210125.pkl', '20210126.pkl', '20210127.pkl', '20210128.pkl', '20210129.pkl', '20210201.pkl', '20210202.pkl', '20210203.pkl', '20210204.pkl', '20210205.pkl', '20210208.pkl', '20210209.pkl', '20210210.pkl', '20210215.pkl', '20210216.pkl', '20210217.pkl', '20210218.pkl', '20210219.pkl', '20210222.pkl', '20210223.pkl', '20210224.pkl', '20210225.pkl', '20210226.pkl', '20210302.pkl', '20210303.pkl', '20210304.pkl', '20210305.pkl', '20210308.pkl', '20210309.pkl', '20210310.pkl', '20210311.pkl', '20210312.pkl', '20210315.pkl', '20210316.pkl', '20210317.pkl', '20210318.pkl', '20210319.pkl', '20210322.pkl', '20210323.pkl', '20210324.pkl', '20210325.pkl', '20210326.pkl', '20210329.pkl', '20210330.pkl', '20210331.pkl', '20210401.pkl', '20210402.pkl', '20210405.pkl', '20210406.pkl', '20210407.pkl', '20210408.pkl', '20210409.pkl', '20210412.pkl', '20210413.pkl', '20210414.pkl', '20210415.pkl', '20210416.pkl', '20210419.pkl', '20210420.pkl', '20210421.pkl', '20210422.pkl', '20210423.pkl', '20210426.pkl', '20210427.pkl', '20210428.pkl', '20210429.pkl', '20210430.pkl', '20210503.pkl', '20210504.pkl', '20210506.pkl', '20210507.pkl', '20210510.pkl', '20210511.pkl', '20210512.pkl', '20210513.pkl', '20210514.pkl', '20210517.pkl', '20210518.pkl', '20210519.pkl', '20210520.pkl', '20210521.pkl', '20210524.pkl', '20210525.pkl', '20210526.pkl', '20210527.pkl', '20210528.pkl', '20210531.pkl', '20210601.pkl', '20210602.pkl', '20210603.pkl', '20210604.pkl', '20210607.pkl', '20210608.pkl', '20210609.pkl', '20210610.pkl', '20210611.pkl', '20210614.pkl', '20210615.pkl', '20210616.pkl', '20210617.pkl', '20210618.pkl', '20210621.pkl', '20210622.pkl', '20210623.pkl', '20210624.pkl', '20210625.pkl', '20210628.pkl', '20210629.pkl', '20210630.pkl', '20210701.pkl', '20210702.pkl', '20210705.pkl', '20210706.pkl', '20210707.pkl', '20210708.pkl', '20210709.pkl', '20210712.pkl', '20210713.pkl', '20210714.pkl', '20210715.pkl', '20210716.pkl', '20210719.pkl', '20210720.pkl', '20210721.pkl', '20210722.pkl', '20210723.pkl', '20210726.pkl', '20210727.pkl', '20210728.pkl', '20210729.pkl', '20210730.pkl', '20210802.pkl', '20210803.pkl', '20210804.pkl', '20210805.pkl', '20210806.pkl', '20210809.pkl', '20210810.pkl', '20210811.pkl', '20210812.pkl', '20210813.pkl', '20210817.pkl', '20210818.pkl', '20210819.pkl', '20210820.pkl', '20210823.pkl', '20210824.pkl', '20210825.pkl', '20210826.pkl', '20210827.pkl', '20210830.pkl', '20210831.pkl', '20210901.pkl', '20210902.pkl', '20210903.pkl', '20210906.pkl', '20210907.pkl', '20210908.pkl', '20210909.pkl', '20210910.pkl', '20210913.pkl', '20210914.pkl', '20210915.pkl', '20210916.pkl', '20210917.pkl', '20210923.pkl', '20210924.pkl', '20210927.pkl', '20210928.pkl', '20210929.pkl', '20210930.pkl', '20211001.pkl', '20211005.pkl', '20211006.pkl', '20211007.pkl', '20211008.pkl', '20211012.pkl', '20211013.pkl', '20211014.pkl', '20211015.pkl', '20211018.pkl', '20211019.pkl', '20211020.pkl', '20211021.pkl', '20211022.pkl', '20211025.pkl', '20211026.pkl', '20211027.pkl', '20211028.pkl', '20211029.pkl', '20211101.pkl', '20211102.pkl', '20211103.pkl', '20211104.pkl', '20211105.pkl', '20211108.pkl', '20211109.pkl', '20211110.pkl', '20211111.pkl', '20211112.pkl', '20211115.pkl', '20211116.pkl', '20211117.pkl', '20211118.pkl', '20211119.pkl', '20211122.pkl', '20211123.pkl', '20211124.pkl', '20211125.pkl', '20211126.pkl', '20211129.pkl', '20211130.pkl', '20211201.pkl', '20211202.pkl', '20211203.pkl', '20211206.pkl', '20211207.pkl', '20211208.pkl', '20211209.pkl', '20211210.pkl', '20211213.pkl', '20211214.pkl', '20211215.pkl', '20211216.pkl', '20211217.pkl', '20211220.pkl', '20211221.pkl', '20211222.pkl', '20211223.pkl', '20211224.pkl', '20211227.pkl', '20211228.pkl', '20211229.pkl', '20211230.pkl', '20211231.pkl', '20220103.pkl', '20220104.pkl', '20220105.pkl', '20220106.pkl', '20220107.pkl', '20220110.pkl', '20220111.pkl', '20220112.pkl', '20220113.pkl', '20220114.pkl', '20220117.pkl', '20220118.pkl', '20220119.pkl', '20220120.pkl', '20220121.pkl', '20220124.pkl', '20220125.pkl', '20220126.pkl', '20220127.pkl', '20220128.pkl', '20220203.pkl', '20220204.pkl', '20220207.pkl', '20220208.pkl', '20220209.pkl', '20220210.pkl', '20220211.pkl', '20220214.pkl', '20220215.pkl', '20220216.pkl', '20220217.pkl', '20220218.pkl', '20220221.pkl', '20220222.pkl', '20220223.pkl', '20220224.pkl', '20220225.pkl', '20220228.pkl', '20220302.pkl', '20220303.pkl', '20220304.pkl', '20220307.pkl', '20220308.pkl', '20220310.pkl', '20220311.pkl', '20220314.pkl', '20220315.pkl', '20220316.pkl', '20220317.pkl', '20220318.pkl', '20220321.pkl', '20220322.pkl', '20220323.pkl', '20220324.pkl', '20220325.pkl', '20220328.pkl', '20220329.pkl', '20220330.pkl', '20220331.pkl', '20220401.pkl', '20220404.pkl', '20220405.pkl', '20220406.pkl', '20220407.pkl', '20220408.pkl', '20220411.pkl', '20220412.pkl', '20220413.pkl', '20220414.pkl', '20220415.pkl', '20220418.pkl', '20220419.pkl', '20220420.pkl', '20220421.pkl', '20220422.pkl', '20220425.pkl', '20220426.pkl', '20220427.pkl', '20220428.pkl', '20220429.pkl', '20220502.pkl', '20220503.pkl', '20220504.pkl', '20220506.pkl', '20220509.pkl', '20220510.pkl', '20220511.pkl', '20220512.pkl', '20220513.pkl', '20220516.pkl', '20220517.pkl', '20220518.pkl'])"
      ]
     },
     "execution_count": 3,
     "metadata": {},
     "output_type": "execute_result"
    }
   ],
   "source": [
    "data_dict.keys()"
   ]
  },
  {
   "cell_type": "markdown",
   "metadata": {},
   "source": [
    "## supervised_dataset 만들기\n",
    "\n",
    "1. 키값을 가져옴\n",
    "2. day 설정\n",
    "3. day에 해당하는 수익률 가져오기"
   ]
  },
  {
   "cell_type": "code",
   "execution_count": 4,
   "metadata": {},
   "outputs": [],
   "source": [
    "# 일자에 맞는 데이터 셋을 찾는 코드입니다.\n",
    "# def make_sup_data(data, day):\n"
   ]
  },
  {
   "cell_type": "code",
   "execution_count": 5,
   "metadata": {},
   "outputs": [],
   "source": [
    "imp_data = pd.concat([data_dict['20171115.pkl'].iloc[:, 0], data_dict['20171115.pkl'].iloc[:, 5]], axis=1)"
   ]
  },
  {
   "cell_type": "code",
   "execution_count": 6,
   "metadata": {},
   "outputs": [],
   "source": [
    "import numpy as np\n",
    "from sklearn.metrics.pairwise import cosine_similarity\n"
   ]
  },
  {
   "cell_type": "code",
   "execution_count": 7,
   "metadata": {},
   "outputs": [
    {
     "data": {
      "text/html": [
       "<div>\n",
       "<style scoped>\n",
       "    .dataframe tbody tr th:only-of-type {\n",
       "        vertical-align: middle;\n",
       "    }\n",
       "\n",
       "    .dataframe tbody tr th {\n",
       "        vertical-align: top;\n",
       "    }\n",
       "\n",
       "    .dataframe thead th {\n",
       "        text-align: right;\n",
       "    }\n",
       "</style>\n",
       "<table border=\"1\" class=\"dataframe\">\n",
       "  <thead>\n",
       "    <tr style=\"text-align: right;\">\n",
       "      <th></th>\n",
       "      <th>텍스트</th>\n",
       "      <th>4</th>\n",
       "    </tr>\n",
       "    <tr>\n",
       "      <th>주가번호</th>\n",
       "      <th></th>\n",
       "      <th></th>\n",
       "    </tr>\n",
       "  </thead>\n",
       "  <tbody>\n",
       "    <tr>\n",
       "      <th>383646</th>\n",
       "      <td>기업은행: 2017년(E) 지배주주순이익 +30.2%yoy인 1.51조원을 예상한...</td>\n",
       "      <td>0.012959</td>\n",
       "    </tr>\n",
       "    <tr>\n",
       "      <th>383617</th>\n",
       "      <td>막연한 우려 대비 견조한 펀더멘탈3분기 지배순익 2,152억원(YoY +115.1%...</td>\n",
       "      <td>0.038748</td>\n",
       "    </tr>\n",
       "    <tr>\n",
       "      <th>383236</th>\n",
       "      <td>실적 Review2017.11.15 What’s new : 제일제당의 삼성생명 지분...</td>\n",
       "      <td>0.038748</td>\n",
       "    </tr>\n",
       "    <tr>\n",
       "      <th>383453</th>\n",
       "      <td>이제는 내년 소비재 주가상승 기대감으로 매수 Nov 201715 ▶ Highligh...</td>\n",
       "      <td>0.038748</td>\n",
       "    </tr>\n",
       "    <tr>\n",
       "      <th>383647</th>\n",
       "      <td>기업은행: 2017년(E) 지배주주순이익 +30.2%yoy인 1.51조원을 예상한...</td>\n",
       "      <td>0.043478</td>\n",
       "    </tr>\n",
       "    <tr>\n",
       "      <th>...</th>\n",
       "      <td>...</td>\n",
       "      <td>...</td>\n",
       "    </tr>\n",
       "    <tr>\n",
       "      <th>383209</th>\n",
       "      <td>Results Comment 104,00071,400 투자의견 BUY, 목표주가 1...</td>\n",
       "      <td>0.092033</td>\n",
       "    </tr>\n",
       "    <tr>\n",
       "      <th>383195</th>\n",
       "      <td>3분기 실적 리뷰: 시장 기대치 상회 3분기 연결 매출 5,693원(YoY +224...</td>\n",
       "      <td>0.092033</td>\n",
       "    </tr>\n",
       "    <tr>\n",
       "      <th>383305</th>\n",
       "      <td>- 국내 턴어라운드는 시장의 기대보다 가파른 상황이며, Acushnet와 USA도 ...</td>\n",
       "      <td>0.092033</td>\n",
       "    </tr>\n",
       "    <tr>\n",
       "      <th>383293</th>\n",
       "      <td>Result Comment 3분기 연결 영업이익은 471.3% YoY 증가한 356...</td>\n",
       "      <td>0.092033</td>\n",
       "    </tr>\n",
       "    <tr>\n",
       "      <th>383594</th>\n",
       "      <td>미국과 유럽 출시 스케줄을 주목할 필요 2018년도 매출액은 1,958억원(+10....</td>\n",
       "      <td>-0.090173</td>\n",
       "    </tr>\n",
       "  </tbody>\n",
       "</table>\n",
       "<p>261 rows × 2 columns</p>\n",
       "</div>"
      ],
      "text/plain": [
       "                                                      텍스트         4\n",
       "주가번호                                                               \n",
       "383646   기업은행: 2017년(E) 지배주주순이익 +30.2%yoy인 1.51조원을 예상한...  0.012959\n",
       "383617  막연한 우려 대비 견조한 펀더멘탈3분기 지배순익 2,152억원(YoY +115.1%...  0.038748\n",
       "383236  실적 Review2017.11.15 What’s new : 제일제당의 삼성생명 지분...  0.038748\n",
       "383453  이제는 내년 소비재 주가상승 기대감으로 매수 Nov 201715 ▶ Highligh...  0.038748\n",
       "383647   기업은행: 2017년(E) 지배주주순이익 +30.2%yoy인 1.51조원을 예상한...  0.043478\n",
       "...                                                   ...       ...\n",
       "383209  Results Comment 104,00071,400 투자의견 BUY, 목표주가 1...  0.092033\n",
       "383195  3분기 실적 리뷰: 시장 기대치 상회 3분기 연결 매출 5,693원(YoY +224...  0.092033\n",
       "383305  - 국내 턴어라운드는 시장의 기대보다 가파른 상황이며, Acushnet와 USA도 ...  0.092033\n",
       "383293  Result Comment 3분기 연결 영업이익은 471.3% YoY 증가한 356...  0.092033\n",
       "383594  미국과 유럽 출시 스케줄을 주목할 필요 2018년도 매출액은 1,958억원(+10.... -0.090173\n",
       "\n",
       "[261 rows x 2 columns]"
      ]
     },
     "execution_count": 7,
     "metadata": {},
     "output_type": "execute_result"
    }
   ],
   "source": [
    "imp_data"
   ]
  },
  {
   "cell_type": "code",
   "execution_count": 8,
   "metadata": {},
   "outputs": [
    {
     "data": {
      "text/plain": [
       "주가번호\n",
       "383646    0.012959\n",
       "383617    0.038748\n",
       "383236    0.038748\n",
       "383453    0.038748\n",
       "383647    0.043478\n",
       "            ...   \n",
       "383209    0.092033\n",
       "383195    0.092033\n",
       "383305    0.092033\n",
       "383293    0.092033\n",
       "383594   -0.090173\n",
       "Name: 4, Length: 261, dtype: object"
      ]
     },
     "execution_count": 8,
     "metadata": {},
     "output_type": "execute_result"
    }
   ],
   "source": [
    "imp_data.loc[:, 4]"
   ]
  },
  {
   "cell_type": "code",
   "execution_count": 9,
   "metadata": {},
   "outputs": [
    {
     "data": {
      "text/html": [
       "<div>\n",
       "<style scoped>\n",
       "    .dataframe tbody tr th:only-of-type {\n",
       "        vertical-align: middle;\n",
       "    }\n",
       "\n",
       "    .dataframe tbody tr th {\n",
       "        vertical-align: top;\n",
       "    }\n",
       "\n",
       "    .dataframe thead th {\n",
       "        text-align: right;\n",
       "    }\n",
       "</style>\n",
       "<table border=\"1\" class=\"dataframe\">\n",
       "  <thead>\n",
       "    <tr style=\"text-align: right;\">\n",
       "      <th></th>\n",
       "      <th>4</th>\n",
       "    </tr>\n",
       "    <tr>\n",
       "      <th>주가번호</th>\n",
       "      <th></th>\n",
       "    </tr>\n",
       "  </thead>\n",
       "  <tbody>\n",
       "    <tr>\n",
       "      <th>383646</th>\n",
       "      <td>0.012959</td>\n",
       "    </tr>\n",
       "    <tr>\n",
       "      <th>383617</th>\n",
       "      <td>0.038748</td>\n",
       "    </tr>\n",
       "    <tr>\n",
       "      <th>383236</th>\n",
       "      <td>0.038748</td>\n",
       "    </tr>\n",
       "    <tr>\n",
       "      <th>383453</th>\n",
       "      <td>0.038748</td>\n",
       "    </tr>\n",
       "    <tr>\n",
       "      <th>383647</th>\n",
       "      <td>0.043478</td>\n",
       "    </tr>\n",
       "    <tr>\n",
       "      <th>...</th>\n",
       "      <td>...</td>\n",
       "    </tr>\n",
       "    <tr>\n",
       "      <th>383209</th>\n",
       "      <td>0.092033</td>\n",
       "    </tr>\n",
       "    <tr>\n",
       "      <th>383195</th>\n",
       "      <td>0.092033</td>\n",
       "    </tr>\n",
       "    <tr>\n",
       "      <th>383305</th>\n",
       "      <td>0.092033</td>\n",
       "    </tr>\n",
       "    <tr>\n",
       "      <th>383293</th>\n",
       "      <td>0.092033</td>\n",
       "    </tr>\n",
       "    <tr>\n",
       "      <th>383594</th>\n",
       "      <td>-0.090173</td>\n",
       "    </tr>\n",
       "  </tbody>\n",
       "</table>\n",
       "<p>261 rows × 1 columns</p>\n",
       "</div>"
      ],
      "text/plain": [
       "               4\n",
       "주가번호            \n",
       "383646  0.012959\n",
       "383617  0.038748\n",
       "383236  0.038748\n",
       "383453  0.038748\n",
       "383647  0.043478\n",
       "...          ...\n",
       "383209  0.092033\n",
       "383195  0.092033\n",
       "383305  0.092033\n",
       "383293  0.092033\n",
       "383594 -0.090173\n",
       "\n",
       "[261 rows x 1 columns]"
      ]
     },
     "execution_count": 9,
     "metadata": {},
     "output_type": "execute_result"
    }
   ],
   "source": [
    "pd.DataFrame(imp_data.iloc[:, 1])"
   ]
  },
  {
   "cell_type": "code",
   "execution_count": 20,
   "metadata": {},
   "outputs": [
    {
     "data": {
      "text/plain": [
       "텍스트    - 중국에서 체질개선을 통해 영업 레버리지가 확대될 수 있을 것으로 전망하며, 베트...\n",
       "4                                                    0.0\n",
       "Name: 383343, dtype: object"
      ]
     },
     "execution_count": 20,
     "metadata": {},
     "output_type": "execute_result"
    }
   ],
   "source": [
    "imp_data.iloc[154]"
   ]
  },
  {
   "cell_type": "code",
   "execution_count": 22,
   "metadata": {},
   "outputs": [],
   "source": [
    "similar = cosine_similarity(pd.DataFrame(imp_data.iloc[:, 1]), pd.DataFrame(imp_data.iloc[:, 1]))"
   ]
  },
  {
   "cell_type": "code",
   "execution_count": 21,
   "metadata": {},
   "outputs": [],
   "source": [
    "similar_100 = cosine_similarity(pd.DataFrame(imp_data.iloc[:, 1])*100, pd.DataFrame(imp_data.iloc[:, 1])*100)"
   ]
  },
  {
   "cell_type": "code",
   "execution_count": 31,
   "metadata": {},
   "outputs": [],
   "source": [
    "impii = pd.DataFrame(imp_data.iloc[:, 1])*100"
   ]
  },
  {
   "cell_type": "code",
   "execution_count": 43,
   "metadata": {},
   "outputs": [],
   "source": [
    "from scipy import stats\n"
   ]
  },
  {
   "cell_type": "code",
   "execution_count": 46,
   "metadata": {},
   "outputs": [
    {
     "data": {
      "text/html": [
       "<div>\n",
       "<style scoped>\n",
       "    .dataframe tbody tr th:only-of-type {\n",
       "        vertical-align: middle;\n",
       "    }\n",
       "\n",
       "    .dataframe tbody tr th {\n",
       "        vertical-align: top;\n",
       "    }\n",
       "\n",
       "    .dataframe thead th {\n",
       "        text-align: right;\n",
       "    }\n",
       "</style>\n",
       "<table border=\"1\" class=\"dataframe\">\n",
       "  <thead>\n",
       "    <tr style=\"text-align: right;\">\n",
       "      <th></th>\n",
       "      <th>텍스트</th>\n",
       "      <th>4</th>\n",
       "    </tr>\n",
       "    <tr>\n",
       "      <th>주가번호</th>\n",
       "      <th></th>\n",
       "      <th></th>\n",
       "    </tr>\n",
       "  </thead>\n",
       "  <tbody>\n",
       "    <tr>\n",
       "      <th>383646</th>\n",
       "      <td>기업은행: 2017년(E) 지배주주순이익 +30.2%yoy인 1.51조원을 예상한...</td>\n",
       "      <td>0.012959</td>\n",
       "    </tr>\n",
       "    <tr>\n",
       "      <th>383617</th>\n",
       "      <td>막연한 우려 대비 견조한 펀더멘탈3분기 지배순익 2,152억원(YoY +115.1%...</td>\n",
       "      <td>0.038748</td>\n",
       "    </tr>\n",
       "    <tr>\n",
       "      <th>383236</th>\n",
       "      <td>실적 Review2017.11.15 What’s new : 제일제당의 삼성생명 지분...</td>\n",
       "      <td>0.038748</td>\n",
       "    </tr>\n",
       "    <tr>\n",
       "      <th>383453</th>\n",
       "      <td>이제는 내년 소비재 주가상승 기대감으로 매수 Nov 201715 ▶ Highligh...</td>\n",
       "      <td>0.038748</td>\n",
       "    </tr>\n",
       "    <tr>\n",
       "      <th>383647</th>\n",
       "      <td>기업은행: 2017년(E) 지배주주순이익 +30.2%yoy인 1.51조원을 예상한...</td>\n",
       "      <td>0.043478</td>\n",
       "    </tr>\n",
       "    <tr>\n",
       "      <th>...</th>\n",
       "      <td>...</td>\n",
       "      <td>...</td>\n",
       "    </tr>\n",
       "    <tr>\n",
       "      <th>383209</th>\n",
       "      <td>Results Comment 104,00071,400 투자의견 BUY, 목표주가 1...</td>\n",
       "      <td>0.092033</td>\n",
       "    </tr>\n",
       "    <tr>\n",
       "      <th>383195</th>\n",
       "      <td>3분기 실적 리뷰: 시장 기대치 상회 3분기 연결 매출 5,693원(YoY +224...</td>\n",
       "      <td>0.092033</td>\n",
       "    </tr>\n",
       "    <tr>\n",
       "      <th>383305</th>\n",
       "      <td>- 국내 턴어라운드는 시장의 기대보다 가파른 상황이며, Acushnet와 USA도 ...</td>\n",
       "      <td>0.092033</td>\n",
       "    </tr>\n",
       "    <tr>\n",
       "      <th>383293</th>\n",
       "      <td>Result Comment 3분기 연결 영업이익은 471.3% YoY 증가한 356...</td>\n",
       "      <td>0.092033</td>\n",
       "    </tr>\n",
       "    <tr>\n",
       "      <th>383594</th>\n",
       "      <td>미국과 유럽 출시 스케줄을 주목할 필요 2018년도 매출액은 1,958억원(+10....</td>\n",
       "      <td>-0.090173</td>\n",
       "    </tr>\n",
       "  </tbody>\n",
       "</table>\n",
       "<p>261 rows × 2 columns</p>\n",
       "</div>"
      ],
      "text/plain": [
       "                                                      텍스트         4\n",
       "주가번호                                                               \n",
       "383646   기업은행: 2017년(E) 지배주주순이익 +30.2%yoy인 1.51조원을 예상한...  0.012959\n",
       "383617  막연한 우려 대비 견조한 펀더멘탈3분기 지배순익 2,152억원(YoY +115.1%...  0.038748\n",
       "383236  실적 Review2017.11.15 What’s new : 제일제당의 삼성생명 지분...  0.038748\n",
       "383453  이제는 내년 소비재 주가상승 기대감으로 매수 Nov 201715 ▶ Highligh...  0.038748\n",
       "383647   기업은행: 2017년(E) 지배주주순이익 +30.2%yoy인 1.51조원을 예상한...  0.043478\n",
       "...                                                   ...       ...\n",
       "383209  Results Comment 104,00071,400 투자의견 BUY, 목표주가 1...  0.092033\n",
       "383195  3분기 실적 리뷰: 시장 기대치 상회 3분기 연결 매출 5,693원(YoY +224...  0.092033\n",
       "383305  - 국내 턴어라운드는 시장의 기대보다 가파른 상황이며, Acushnet와 USA도 ...  0.092033\n",
       "383293  Result Comment 3분기 연결 영업이익은 471.3% YoY 증가한 356...  0.092033\n",
       "383594  미국과 유럽 출시 스케줄을 주목할 필요 2018년도 매출액은 1,958억원(+10.... -0.090173\n",
       "\n",
       "[261 rows x 2 columns]"
      ]
     },
     "execution_count": 46,
     "metadata": {},
     "output_type": "execute_result"
    }
   ],
   "source": [
    "imp_data"
   ]
  },
  {
   "cell_type": "code",
   "execution_count": 50,
   "metadata": {},
   "outputs": [
    {
     "data": {
      "text/html": [
       "<div>\n",
       "<style scoped>\n",
       "    .dataframe tbody tr th:only-of-type {\n",
       "        vertical-align: middle;\n",
       "    }\n",
       "\n",
       "    .dataframe tbody tr th {\n",
       "        vertical-align: top;\n",
       "    }\n",
       "\n",
       "    .dataframe thead th {\n",
       "        text-align: right;\n",
       "    }\n",
       "</style>\n",
       "<table border=\"1\" class=\"dataframe\">\n",
       "  <thead>\n",
       "    <tr style=\"text-align: right;\">\n",
       "      <th></th>\n",
       "      <th>4</th>\n",
       "    </tr>\n",
       "    <tr>\n",
       "      <th>주가번호</th>\n",
       "      <th></th>\n",
       "    </tr>\n",
       "  </thead>\n",
       "  <tbody>\n",
       "    <tr>\n",
       "      <th>383646</th>\n",
       "      <td>1.295896</td>\n",
       "    </tr>\n",
       "    <tr>\n",
       "      <th>383617</th>\n",
       "      <td>3.874758</td>\n",
       "    </tr>\n",
       "    <tr>\n",
       "      <th>383236</th>\n",
       "      <td>3.874758</td>\n",
       "    </tr>\n",
       "    <tr>\n",
       "      <th>383453</th>\n",
       "      <td>3.874758</td>\n",
       "    </tr>\n",
       "    <tr>\n",
       "      <th>383647</th>\n",
       "      <td>4.347826</td>\n",
       "    </tr>\n",
       "    <tr>\n",
       "      <th>...</th>\n",
       "      <td>...</td>\n",
       "    </tr>\n",
       "    <tr>\n",
       "      <th>383209</th>\n",
       "      <td>9.203297</td>\n",
       "    </tr>\n",
       "    <tr>\n",
       "      <th>383195</th>\n",
       "      <td>9.203297</td>\n",
       "    </tr>\n",
       "    <tr>\n",
       "      <th>383305</th>\n",
       "      <td>9.203297</td>\n",
       "    </tr>\n",
       "    <tr>\n",
       "      <th>383293</th>\n",
       "      <td>9.203297</td>\n",
       "    </tr>\n",
       "    <tr>\n",
       "      <th>383594</th>\n",
       "      <td>-9.017283</td>\n",
       "    </tr>\n",
       "  </tbody>\n",
       "</table>\n",
       "<p>261 rows × 1 columns</p>\n",
       "</div>"
      ],
      "text/plain": [
       "               4\n",
       "주가번호            \n",
       "383646  1.295896\n",
       "383617  3.874758\n",
       "383236  3.874758\n",
       "383453  3.874758\n",
       "383647  4.347826\n",
       "...          ...\n",
       "383209  9.203297\n",
       "383195  9.203297\n",
       "383305  9.203297\n",
       "383293  9.203297\n",
       "383594 -9.017283\n",
       "\n",
       "[261 rows x 1 columns]"
      ]
     },
     "execution_count": 50,
     "metadata": {},
     "output_type": "execute_result"
    }
   ],
   "source": [
    "impii"
   ]
  },
  {
   "cell_type": "code",
   "execution_count": 49,
   "metadata": {},
   "outputs": [
    {
     "ename": "TypeError",
     "evalue": "scatter() missing 1 required positional argument: 'y'",
     "output_type": "error",
     "traceback": [
      "\u001b[1;31m---------------------------------------------------------------------------\u001b[0m",
      "\u001b[1;31mTypeError\u001b[0m                                 Traceback (most recent call last)",
      "Cell \u001b[1;32mIn[49], line 1\u001b[0m\n\u001b[1;32m----> 1\u001b[0m plt\u001b[39m.\u001b[39;49mscatter(impii[\u001b[39m4\u001b[39;49m])\n",
      "\u001b[1;31mTypeError\u001b[0m: scatter() missing 1 required positional argument: 'y'"
     ]
    }
   ],
   "source": []
  },
  {
   "cell_type": "code",
   "execution_count": 34,
   "metadata": {},
   "outputs": [
    {
     "name": "stdout",
     "output_type": "stream",
     "text": [
      "Empty DataFrame\n",
      "Columns: []\n",
      "Index: []\n"
     ]
    },
    {
     "name": "stderr",
     "output_type": "stream",
     "text": [
      "C:\\Users\\user\\AppData\\Local\\Temp\\ipykernel_40504\\1006559501.py:1: FutureWarning: The default value of numeric_only in DataFrame.corr is deprecated. In a future version, it will default to False. Select only valid columns or specify the value of numeric_only to silence this warning.\n",
      "  print(impii.corr())\n"
     ]
    }
   ],
   "source": [
    "print(impii.corr())"
   ]
  },
  {
   "cell_type": "code",
   "execution_count": null,
   "metadata": {},
   "outputs": [],
   "source": [
    "similar_100 = cosine_similarity(pd.DataFrame(imp_data.iloc[:, 1])*100, pd.DataFrame(imp_data.iloc[:, 1])*100)"
   ]
  },
  {
   "cell_type": "code",
   "execution_count": 23,
   "metadata": {},
   "outputs": [],
   "source": [
    "import matplotlib.pyplot as plt\n",
    "import seaborn as sns\n"
   ]
  },
  {
   "cell_type": "code",
   "execution_count": 24,
   "metadata": {},
   "outputs": [
    {
     "data": {
      "text/plain": [
       "0.9655172128107791"
      ]
     },
     "execution_count": 24,
     "metadata": {},
     "output_type": "execute_result"
    }
   ],
   "source": [
    "similar.std()"
   ]
  },
  {
   "cell_type": "code",
   "execution_count": 27,
   "metadata": {},
   "outputs": [
    {
     "data": {
      "text/plain": [
       "<Axes: >"
      ]
     },
     "execution_count": 27,
     "metadata": {},
     "output_type": "execute_result"
    },
    {
     "data": {
      "image/png": "[encoded data removed]",
      "text/plain": [
       "<Figure size 640x480 with 2 Axes>"
      ]
     },
     "metadata": {},
     "output_type": "display_data"
    }
   ],
   "source": [
    "sns.heatmap(similar_100)\n"
   ]
  },
  {
   "cell_type": "code",
   "execution_count": 28,
   "metadata": {},
   "outputs": [
    {
     "data": {
      "text/plain": [
       "<Axes: >"
      ]
     },
     "execution_count": 28,
     "metadata": {},
     "output_type": "execute_result"
    },
    {
     "data": {
      "image/png": "[encoded data removed]",
      "text/plain": [
       "<Figure size 640x480 with 2 Axes>"
      ]
     },
     "metadata": {},
     "output_type": "display_data"
    }
   ],
   "source": [
    "sns.heatmap(similar)\n"
   ]
  },
  {
   "cell_type": "code",
   "execution_count": 18,
   "metadata": {},
   "outputs": [
    {
     "data": {
      "text/plain": [
       "array([0., 0., 0., 0., 0., 0., 0., 0., 0., 0., 0., 0., 0., 0., 0., 0., 0.,\n",
       "       0., 0., 0., 0., 0., 0., 0., 0., 0., 0., 0., 0., 0., 0., 0., 0., 0.,\n",
       "       0., 0., 0., 0., 0., 0., 0., 0., 0., 0., 0., 0., 0., 0., 0., 0., 0.,\n",
       "       0., 0., 0., 0., 0., 0., 0., 0., 0., 0., 0., 0., 0., 0., 0., 0., 0.,\n",
       "       0., 0., 0., 0., 0., 0., 0., 0., 0., 0., 0., 0., 0., 0., 0., 0., 0.,\n",
       "       0., 0., 0., 0., 0., 0., 0., 0., 0., 0., 0., 0., 0., 0., 0., 0., 0.,\n",
       "       0., 0., 0., 0., 0., 0., 0., 0., 0., 0., 0., 0., 0., 0., 0., 0., 0.,\n",
       "       0., 0., 0., 0., 0., 0., 0., 0., 0., 0., 0., 0., 0., 0., 0., 0., 0.,\n",
       "       0., 0., 0., 0., 0., 0., 0., 0., 0., 0., 0., 0., 0., 0., 0., 0., 0.,\n",
       "       0., 0., 0., 0., 0., 0., 0., 0., 0., 0., 0., 0., 0., 0., 0., 0., 0.,\n",
       "       0., 0., 0., 0., 0., 0., 0., 0., 0., 0., 0., 0., 0., 0., 0., 0., 0.,\n",
       "       0., 0., 0., 0., 0., 0., 0., 0., 0., 0., 0., 0., 0., 0., 0., 0., 0.,\n",
       "       0., 0., 0., 0., 0., 0., 0., 0., 0., 0., 0., 0., 0., 0., 0., 0., 0.,\n",
       "       0., 0., 0., 0., 0., 0., 0., 0., 0., 0., 0., 0., 0., 0., 0., 0., 0.,\n",
       "       0., 0., 0., 0., 0., 0., 0., 0., 0., 0., 0., 0., 0., 0., 0., 0., 0.,\n",
       "       0., 0., 0., 0., 0., 0.])"
      ]
     },
     "execution_count": 18,
     "metadata": {},
     "output_type": "execute_result"
    }
   ],
   "source": [
    "similar[154]"
   ]
  },
  {
   "cell_type": "code",
   "execution_count": null,
   "metadata": {},
   "outputs": [],
   "source": []
  }
 ],
 "metadata": {
  "kernelspec": {
   "display_name": "base_torch",
   "language": "python",
   "name": "python3"
  },
  "language_info": {
   "codemirror_mode": {
    "name": "ipython",
    "version": 3
   },
   "file_extension": ".py",
   "mimetype": "text/x-python",
   "name": "python",
   "nbconvert_exporter": "python",
   "pygments_lexer": "ipython3",
   "version": "3.9.17"
  },
  "orig_nbformat": 4
 },
 "nbformat": 4,
 "nbformat_minor": 2
}
